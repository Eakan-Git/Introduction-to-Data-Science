{
 "cells": [
  {
   "cell_type": "markdown",
   "id": "0b444c5a",
   "metadata": {},
   "source": [
    "# Modeling"
   ]
  },
  {
   "cell_type": "markdown",
   "id": "cbb33dc7",
   "metadata": {},
   "source": [
    "Bài toán đặt ra: Dự đoán điểm số imdb"
   ]
  },
  {
   "cell_type": "markdown",
   "id": "075fb6f2",
   "metadata": {},
   "source": [
    "### Đọc dữ liệu"
   ]
  },
  {
   "cell_type": "code",
   "execution_count": 4,
   "id": "5a378ee7",
   "metadata": {},
   "outputs": [
    {
     "data": {
      "text/html": [
       "<div>\n",
       "<style scoped>\n",
       "    .dataframe tbody tr th:only-of-type {\n",
       "        vertical-align: middle;\n",
       "    }\n",
       "\n",
       "    .dataframe tbody tr th {\n",
       "        vertical-align: top;\n",
       "    }\n",
       "\n",
       "    .dataframe thead th {\n",
       "        text-align: right;\n",
       "    }\n",
       "</style>\n",
       "<table border=\"1\" class=\"dataframe\">\n",
       "  <thead>\n",
       "    <tr style=\"text-align: right;\">\n",
       "      <th></th>\n",
       "      <th>id</th>\n",
       "      <th>name</th>\n",
       "      <th>overview</th>\n",
       "      <th>certificate</th>\n",
       "      <th>runtime</th>\n",
       "      <th>nvote</th>\n",
       "      <th>imdb_rate</th>\n",
       "      <th>director</th>\n",
       "      <th>cast</th>\n",
       "      <th>genre</th>\n",
       "      <th>keyword</th>\n",
       "      <th>release_date</th>\n",
       "      <th>country</th>\n",
       "      <th>language</th>\n",
       "      <th>location</th>\n",
       "      <th>company</th>\n",
       "      <th>budget</th>\n",
       "      <th>gross</th>\n",
       "    </tr>\n",
       "  </thead>\n",
       "  <tbody>\n",
       "    <tr>\n",
       "      <th>0</th>\n",
       "      <td>tt1375666</td>\n",
       "      <td>Kẻ Đánh Cắp Giấc Mơ</td>\n",
       "      <td>A thief who steals corporate secrets through t...</td>\n",
       "      <td>PG-13</td>\n",
       "      <td>148.0</td>\n",
       "      <td>2356036</td>\n",
       "      <td>8.8</td>\n",
       "      <td>['Christopher Nolan']</td>\n",
       "      <td>['Leonardo DiCaprio', 'Joseph Gordon-Levitt', ...</td>\n",
       "      <td>['Action', 'Adventure', 'Sci-Fi', 'Thriller']</td>\n",
       "      <td>['dream', 'ambiguous ending', 'subconscious', ...</td>\n",
       "      <td>2010-08-06</td>\n",
       "      <td>United States, United Kingdom</td>\n",
       "      <td>['English', 'Japanese', 'French']</td>\n",
       "      <td>['Fortress Mountain', 'Kananaskis Country', 'A...</td>\n",
       "      <td>['Warner Bros.', 'Legendary Entertainment', 'S...</td>\n",
       "      <td>160.0</td>\n",
       "      <td>836.848102</td>\n",
       "    </tr>\n",
       "    <tr>\n",
       "      <th>1</th>\n",
       "      <td>tt0816692</td>\n",
       "      <td>Hố Đen Tử Thần</td>\n",
       "      <td>A team of explorers travel through a wormhole ...</td>\n",
       "      <td>C13</td>\n",
       "      <td>169.0</td>\n",
       "      <td>1835446</td>\n",
       "      <td>8.6</td>\n",
       "      <td>['Christopher Nolan']</td>\n",
       "      <td>['Matthew McConaughey', 'Anne Hathaway', 'Jess...</td>\n",
       "      <td>['Adventure', 'Drama', 'Sci-Fi']</td>\n",
       "      <td>['astronaut', 'saving the world', 'space trave...</td>\n",
       "      <td>2014-11-07</td>\n",
       "      <td>United States, United Kingdom, Canada</td>\n",
       "      <td>['English']</td>\n",
       "      <td>['Iceland']</td>\n",
       "      <td>['Paramount Pictures', 'Warner Bros.', 'Legend...</td>\n",
       "      <td>165.0</td>\n",
       "      <td>773.867216</td>\n",
       "    </tr>\n",
       "    <tr>\n",
       "      <th>2</th>\n",
       "      <td>tt1345836</td>\n",
       "      <td>Kỵ Sĩ Bóng Đêm Trỗi Dậy</td>\n",
       "      <td>Eight years after the Joker's reign of anarchy...</td>\n",
       "      <td>PG-13</td>\n",
       "      <td>164.0</td>\n",
       "      <td>1707832</td>\n",
       "      <td>8.4</td>\n",
       "      <td>['Christopher Nolan']</td>\n",
       "      <td>['Christian Bale', 'Tom Hardy', 'Anne Hathaway...</td>\n",
       "      <td>['Action', 'Drama']</td>\n",
       "      <td>['dc comics', 'batman character', 'bruce wayne...</td>\n",
       "      <td>2012-07-27</td>\n",
       "      <td>United States, United Kingdom</td>\n",
       "      <td>['English', 'Arabic']</td>\n",
       "      <td>['Mehrangarh Fort', 'Jodhpur', 'Rajasthan', 'I...</td>\n",
       "      <td>['Warner Bros.', 'Legendary Entertainment', 'D...</td>\n",
       "      <td>250.0</td>\n",
       "      <td>1081.169825</td>\n",
       "    </tr>\n",
       "    <tr>\n",
       "      <th>3</th>\n",
       "      <td>tt1853728</td>\n",
       "      <td>Hành Trình Django</td>\n",
       "      <td>With the help of a German bounty-hunter, a fre...</td>\n",
       "      <td>R</td>\n",
       "      <td>165.0</td>\n",
       "      <td>1557694</td>\n",
       "      <td>8.4</td>\n",
       "      <td>['Quentin Tarantino']</td>\n",
       "      <td>['Jamie Foxx', 'Christoph Waltz', 'Leonardo Di...</td>\n",
       "      <td>['Drama', 'Western']</td>\n",
       "      <td>['slavery', 'racial vengeance', 'racial violen...</td>\n",
       "      <td>2013-03-15</td>\n",
       "      <td>United States</td>\n",
       "      <td>['English', 'German', 'French', 'Italian']</td>\n",
       "      <td>['Evergreen Plantation', '4677 Highway 18', 'E...</td>\n",
       "      <td>['The Weinstein Company', 'Columbia Pictures']</td>\n",
       "      <td>100.0</td>\n",
       "      <td>426.074373</td>\n",
       "    </tr>\n",
       "    <tr>\n",
       "      <th>4</th>\n",
       "      <td>tt0993846</td>\n",
       "      <td>Sói Già Phố Wall</td>\n",
       "      <td>Based on the true story of Jordan Belfort, fro...</td>\n",
       "      <td>R</td>\n",
       "      <td>180.0</td>\n",
       "      <td>1414845</td>\n",
       "      <td>8.2</td>\n",
       "      <td>['Martin Scorsese']</td>\n",
       "      <td>['Leonardo DiCaprio', 'Jonah Hill', 'Margot Ro...</td>\n",
       "      <td>['Biography', 'Comedy', 'Crime', 'Drama']</td>\n",
       "      <td>['based on true story', 'stockbroker', 'debauc...</td>\n",
       "      <td>2014-01-11</td>\n",
       "      <td>United States</td>\n",
       "      <td>['English', 'French']</td>\n",
       "      <td>['Portofino', 'Genoa', 'Liguria', 'Italy']</td>\n",
       "      <td>['Red Granite Pictures', 'Appian Way', 'Sikeli...</td>\n",
       "      <td>100.0</td>\n",
       "      <td>406.878233</td>\n",
       "    </tr>\n",
       "  </tbody>\n",
       "</table>\n",
       "</div>"
      ],
      "text/plain": [
       "          id                     name  \\\n",
       "0  tt1375666      Kẻ Đánh Cắp Giấc Mơ   \n",
       "1  tt0816692           Hố Đen Tử Thần   \n",
       "2  tt1345836  Kỵ Sĩ Bóng Đêm Trỗi Dậy   \n",
       "3  tt1853728        Hành Trình Django   \n",
       "4  tt0993846         Sói Già Phố Wall   \n",
       "\n",
       "                                            overview certificate  runtime  \\\n",
       "0  A thief who steals corporate secrets through t...       PG-13    148.0   \n",
       "1  A team of explorers travel through a wormhole ...         C13    169.0   \n",
       "2  Eight years after the Joker's reign of anarchy...       PG-13    164.0   \n",
       "3  With the help of a German bounty-hunter, a fre...           R    165.0   \n",
       "4  Based on the true story of Jordan Belfort, fro...           R    180.0   \n",
       "\n",
       "     nvote  imdb_rate               director  \\\n",
       "0  2356036        8.8  ['Christopher Nolan']   \n",
       "1  1835446        8.6  ['Christopher Nolan']   \n",
       "2  1707832        8.4  ['Christopher Nolan']   \n",
       "3  1557694        8.4  ['Quentin Tarantino']   \n",
       "4  1414845        8.2    ['Martin Scorsese']   \n",
       "\n",
       "                                                cast  \\\n",
       "0  ['Leonardo DiCaprio', 'Joseph Gordon-Levitt', ...   \n",
       "1  ['Matthew McConaughey', 'Anne Hathaway', 'Jess...   \n",
       "2  ['Christian Bale', 'Tom Hardy', 'Anne Hathaway...   \n",
       "3  ['Jamie Foxx', 'Christoph Waltz', 'Leonardo Di...   \n",
       "4  ['Leonardo DiCaprio', 'Jonah Hill', 'Margot Ro...   \n",
       "\n",
       "                                           genre  \\\n",
       "0  ['Action', 'Adventure', 'Sci-Fi', 'Thriller']   \n",
       "1               ['Adventure', 'Drama', 'Sci-Fi']   \n",
       "2                            ['Action', 'Drama']   \n",
       "3                           ['Drama', 'Western']   \n",
       "4      ['Biography', 'Comedy', 'Crime', 'Drama']   \n",
       "\n",
       "                                             keyword release_date  \\\n",
       "0  ['dream', 'ambiguous ending', 'subconscious', ...   2010-08-06   \n",
       "1  ['astronaut', 'saving the world', 'space trave...   2014-11-07   \n",
       "2  ['dc comics', 'batman character', 'bruce wayne...   2012-07-27   \n",
       "3  ['slavery', 'racial vengeance', 'racial violen...   2013-03-15   \n",
       "4  ['based on true story', 'stockbroker', 'debauc...   2014-01-11   \n",
       "\n",
       "                                 country  \\\n",
       "0          United States, United Kingdom   \n",
       "1  United States, United Kingdom, Canada   \n",
       "2          United States, United Kingdom   \n",
       "3                          United States   \n",
       "4                          United States   \n",
       "\n",
       "                                     language  \\\n",
       "0           ['English', 'Japanese', 'French']   \n",
       "1                                 ['English']   \n",
       "2                       ['English', 'Arabic']   \n",
       "3  ['English', 'German', 'French', 'Italian']   \n",
       "4                       ['English', 'French']   \n",
       "\n",
       "                                            location  \\\n",
       "0  ['Fortress Mountain', 'Kananaskis Country', 'A...   \n",
       "1                                        ['Iceland']   \n",
       "2  ['Mehrangarh Fort', 'Jodhpur', 'Rajasthan', 'I...   \n",
       "3  ['Evergreen Plantation', '4677 Highway 18', 'E...   \n",
       "4         ['Portofino', 'Genoa', 'Liguria', 'Italy']   \n",
       "\n",
       "                                             company  budget        gross  \n",
       "0  ['Warner Bros.', 'Legendary Entertainment', 'S...   160.0   836.848102  \n",
       "1  ['Paramount Pictures', 'Warner Bros.', 'Legend...   165.0   773.867216  \n",
       "2  ['Warner Bros.', 'Legendary Entertainment', 'D...   250.0  1081.169825  \n",
       "3     ['The Weinstein Company', 'Columbia Pictures']   100.0   426.074373  \n",
       "4  ['Red Granite Pictures', 'Appian Way', 'Sikeli...   100.0   406.878233  "
      ]
     },
     "execution_count": 4,
     "metadata": {},
     "output_type": "execute_result"
    }
   ],
   "source": [
    "import pandas as pd\n",
    "df = pd.read_csv('../data/data_after_explore.csv', sep='\\t')\n",
    "df.head(5)"
   ]
  },
  {
   "cell_type": "markdown",
   "id": "be1d54b2",
   "metadata": {},
   "source": [
    "### 1. Import thư viện cần thiết"
   ]
  },
  {
   "cell_type": "code",
   "execution_count": 442,
   "id": "3ab8e157",
   "metadata": {},
   "outputs": [],
   "source": [
    "from sklearn.compose import ColumnTransformer\n",
    "from sklearn.linear_model import LogisticRegression\n",
    "from sklearn.model_selection import train_test_split\n",
    "from sklearn.model_selection  import cross_val_score\n",
    "from sklearn.metrics  import confusion_matrix\n",
    "from sklearn.base import BaseEstimator, TransformerMixin\n",
    "from sklearn.neighbors import KNeighborsClassifier\n",
    "from sklearn.ensemble import RandomForestClassifier\n",
    "from sklearn.model_selection import train_test_split, cross_val_predict, cross_val_score,KFold, RepeatedStratifiedKFold, GridSearchCV, RandomizedSearchCV\n",
    "from sklearn.metrics import accuracy_score, precision_score, recall_score, f1_score, classification_report\n",
    "import matplotlib.pyplot as plt\n",
    "from sklearn import metrics\n",
    "import seaborn as sns\n",
    "from sklearn import set_config\n",
    "from sklearn.metrics import mean_squared_error\n",
    "\n",
    "import time\n"
   ]
  },
  {
   "cell_type": "markdown",
   "id": "806740d0",
   "metadata": {},
   "source": [
    "### 2. Tiền xử lí dữ liệu"
   ]
  },
  {
   "cell_type": "markdown",
   "id": "282c1f64",
   "metadata": {},
   "source": [
    "- Loại bỏ giá trị null"
   ]
  },
  {
   "cell_type": "code",
   "execution_count": 334,
   "id": "837d557e",
   "metadata": {},
   "outputs": [],
   "source": [
    "model_df = df[df['location'].notnull() & df['budget'].notnull() & df['gross'].notnull()]"
   ]
  },
  {
   "cell_type": "markdown",
   "id": "93e83026",
   "metadata": {},
   "source": [
    "- Loại bỏ giá trị không phù hợp để dự đoán"
   ]
  },
  {
   "cell_type": "markdown",
   "id": "9476d5f2",
   "metadata": {},
   "source": [
    "**Numeric**\n",
    "\n",
    "Ta xem xét sự liên quan của các giá trị numeric với `imdb_rate`"
   ]
  },
  {
   "cell_type": "code",
   "execution_count": 335,
   "id": "fc86e643",
   "metadata": {},
   "outputs": [
    {
     "data": {
      "image/png": "[encoded data removed]",
      "text/plain": [
       "<Figure size 936x504 with 2 Axes>"
      ]
     },
     "metadata": {},
     "output_type": "display_data"
    }
   ],
   "source": [
    "corr = model_df.corr()\n",
    "sns.set_context(\"notebook\", font_scale=1.0, rc={\"lines.linewidth\": 2.5})\n",
    "plt.figure(figsize=(13,7))\n",
    "\n",
    "mask = np.zeros_like(corr)\n",
    "mask[np.triu_indices_from(mask, 1)] = True\n",
    "a = sns.heatmap(corr,mask=mask, annot=True, fmt='.2f')\n",
    "rotx = a.set_xticklabels(a.get_xticklabels(), rotation=90)\n",
    "roty = a.set_yticklabels(a.get_yticklabels(), rotation=30)"
   ]
  },
  {
   "cell_type": "markdown",
   "id": "dff98cb3",
   "metadata": {},
   "source": [
    "Ta loại bỏ thuộc tính `year` và `budget` vì độ liên quan thấp ( < 0.1)"
   ]
  },
  {
   "cell_type": "code",
   "execution_count": 336,
   "id": "bd391dde",
   "metadata": {},
   "outputs": [],
   "source": [
    "model_df.drop(['year','budget'],axis=1,inplace=True)"
   ]
  },
  {
   "cell_type": "markdown",
   "id": "82e43874",
   "metadata": {},
   "source": [
    "Loại bỏ luôn `release_date` vì `year` được suy ra từ đó"
   ]
  },
  {
   "cell_type": "code",
   "execution_count": 337,
   "id": "b16bce00",
   "metadata": {},
   "outputs": [],
   "source": [
    "model_df.drop('release_date',axis=1,inplace=True)"
   ]
  },
  {
   "cell_type": "markdown",
   "id": "eef996a7",
   "metadata": {},
   "source": [
    "**Categorical**\n",
    "\n",
    "Loại bỏ các thuộc tính mang tính chất chỉ mục, tên, văn bản như `id`, `name`, `overview` và các thuộc tính phân phối rộng như `director`, `cast`, `genre`, `keyword` ,`location`"
   ]
  },
  {
   "cell_type": "code",
   "execution_count": 338,
   "id": "42a8687e",
   "metadata": {},
   "outputs": [],
   "source": [
    "model_df.drop(['id','name','overview'],axis=1,inplace=True)"
   ]
  },
  {
   "cell_type": "code",
   "execution_count": 339,
   "id": "b32ffef3",
   "metadata": {},
   "outputs": [],
   "source": [
    "model_df.drop(['director','cast','genre','keyword','location'],axis=1,inplace=True)"
   ]
  },
  {
   "cell_type": "markdown",
   "id": "b0ce8311",
   "metadata": {},
   "source": [
    "**One hot encoding**"
   ]
  },
  {
   "cell_type": "code",
   "execution_count": 340,
   "id": "b32019c7",
   "metadata": {},
   "outputs": [],
   "source": [
    "#get first company\n",
    "def getContry(x):\n",
    "    if ',' in x:\n",
    "        return x.split(',')[0]\n",
    "    else:\n",
    "        return x\n",
    "#get first langue and location\n",
    "def getFirst(x):\n",
    "    return x[0]\n",
    "\n",
    "model_df['country'] = model_df['country'].apply(getContry)\n",
    "\n",
    "model_df['language'] = model_df['language'].apply(getFirst)\n",
    "\n",
    "model_df['company'] = model_df['company'].apply(getFirst)"
   ]
  },
  {
   "cell_type": "code",
   "execution_count": 341,
   "id": "8dc487db",
   "metadata": {},
   "outputs": [],
   "source": [
    "model_df = pd.get_dummies(data = model_df, columns = ['country'] , prefix = ['country'] , drop_first = True)\n",
    "model_df = pd.get_dummies(data = model_df, columns = ['language'] , prefix = ['language'] , drop_first = True)\n",
    "model_df = pd.get_dummies(data = model_df, columns = ['company'] , prefix = ['company'] , drop_first = True)\n",
    "model_df = pd.get_dummies(data = model_df, columns = ['certificate'] , prefix = ['certificate'] , drop_first = True)"
   ]
  },
  {
   "cell_type": "code",
   "execution_count": 342,
   "id": "a7132f2c",
   "metadata": {},
   "outputs": [
    {
     "data": {
      "text/plain": [
       "Index(['runtime', 'nvote', 'imdb_rate', 'company', 'gross',\n",
       "       'country_Australia', 'country_Austria', 'country_Belgium',\n",
       "       'country_Canada', 'country_Chile', 'country_China',\n",
       "       'country_Czech Republic', 'country_Denmark', 'country_Finland',\n",
       "       'country_France', 'country_Germany', 'country_Hong Kong',\n",
       "       'country_Iceland', 'country_India', 'country_Indonesia', 'country_Iran',\n",
       "       'country_Ireland', 'country_Italy', 'country_Japan', 'country_Lebanon',\n",
       "       'country_New Zealand', 'country_Norway', 'country_Poland',\n",
       "       'country_Russia', 'country_Serbia', 'country_South Africa',\n",
       "       'country_South Korea', 'country_Spain', 'country_Turkey',\n",
       "       'country_United Arab Emirates', 'country_United Kingdom',\n",
       "       'country_United States', 'language_Arabic', 'language_Cantonese',\n",
       "       'language_Danish', 'language_English', 'language_Filipino',\n",
       "       'language_French', 'language_Hindi', 'language_Indonesian',\n",
       "       'language_Italian', 'language_Japanese', 'language_Korean',\n",
       "       'language_Norwegian', 'language_Persian', 'language_Polish',\n",
       "       'language_Serbian', 'language_Spanish', 'language_Tamil',\n",
       "       'language_Telugu', 'language_Turkish', 'certificate_C13',\n",
       "       'certificate_C16', 'certificate_C18', 'certificate_G',\n",
       "       'certificate_NC-17', 'certificate_P', 'certificate_PG',\n",
       "       'certificate_PG-13', 'certificate_R', 'certificate_Unrate'],\n",
       "      dtype='object')"
      ]
     },
     "execution_count": 342,
     "metadata": {},
     "output_type": "execute_result"
    }
   ],
   "source": [
    "model_df.keys()"
   ]
  },
  {
   "cell_type": "markdown",
   "id": "78babf71",
   "metadata": {},
   "source": [
    "**Phân loại điểm imdb thành 4 bin [0,4), [4,6), [6,8), [8,10) tương ứng với rất tệ, tệ, hay, rất hay**"
   ]
  },
  {
   "cell_type": "code",
   "execution_count": 343,
   "id": "357a2c47",
   "metadata": {},
   "outputs": [],
   "source": [
    "model_df[\"imdb_binned_rate\"]=pd.cut(model_df['imdb_rate'], bins=[0,4,6,8,10], right=True, labels=False)+1\n",
    "model_df.drop('imdb_rate',axis=1,inplace=True)"
   ]
  },
  {
   "cell_type": "markdown",
   "id": "7b11955c",
   "metadata": {},
   "source": [
    "### 3. Phân chia tập dữ liệu"
   ]
  },
  {
   "cell_type": "code",
   "execution_count": 350,
   "id": "444d73db",
   "metadata": {},
   "outputs": [],
   "source": [
    "X = model_df.drop(['imdb_binned_rate'],axis = 1)\n",
    "y = model_df['imdb_binned_rate']"
   ]
  },
  {
   "cell_type": "code",
   "execution_count": 425,
   "id": "330424eb",
   "metadata": {},
   "outputs": [],
   "source": [
    "# # Split the data: 80% train, 20% test\n",
    "X_train, X_test, y_train, y_test = train_test_split(X, y, test_size=0.2, random_state=123)"
   ]
  },
  {
   "cell_type": "markdown",
   "id": "e2871b86",
   "metadata": {},
   "source": [
    "Scale dữ liệu"
   ]
  },
  {
   "cell_type": "code",
   "execution_count": 426,
   "id": "2bd0ec70",
   "metadata": {},
   "outputs": [],
   "source": [
    "from sklearn.preprocessing import StandardScaler\n",
    "sc_X = StandardScaler()\n",
    "X_train = sc_X.fit_transform(X_train)\n",
    "X_test = sc_X.transform(X_test)"
   ]
  },
  {
   "cell_type": "markdown",
   "id": "4d608878",
   "metadata": {},
   "source": [
    "### 4. Huấn luyện trên mô hình"
   ]
  },
  {
   "cell_type": "markdown",
   "id": "91fcceb5",
   "metadata": {},
   "source": [
    "**Logistic Regression**"
   ]
  },
  {
   "cell_type": "code",
   "execution_count": 436,
   "id": "38c575a4",
   "metadata": {},
   "outputs": [],
   "source": [
    "cv = RepeatedStratifiedKFold(n_splits=5, n_repeats=10)"
   ]
  },
  {
   "cell_type": "code",
   "execution_count": 437,
   "id": "4aa1b8d6",
   "metadata": {},
   "outputs": [
    {
     "name": "stdout",
     "output_type": "stream",
     "text": [
      "tuned hpyerparameters :(best parameters)  {'C': 0.001, 'penalty': 'l2'}\n",
      "accuracy 75.10%:\n",
      "--- 43.7043616771698 seconds ---\n"
     ]
    }
   ],
   "source": [
    "start_time = time.time()\n",
    "grid={\"C\":np.logspace(-3,3,7), \"penalty\":[\"l1\",\"l2\"]}# l1 lasso l2 ridge\n",
    "logreg=LogisticRegression()\n",
    "\n",
    "logreg_cv=GridSearchCV(logreg,grid,cv=cv)\n",
    "logreg_cv.fit(X_train,y_train)\n",
    "\n",
    "print(\"tuned hpyerparameters :(best parameters) \",logreg_cv.best_params_)\n",
    "print(\"accuracy {:.2f}%:\".format(logreg_cv.best_score_*100))\n",
    "print(\"--- %s seconds ---\" % (time.time() - start_time))"
   ]
  },
  {
   "cell_type": "code",
   "execution_count": 455,
   "id": "8d3854c6",
   "metadata": {},
   "outputs": [
    {
     "name": "stdout",
     "output_type": "stream",
     "text": [
      "Accurary: 76.52%\n"
     ]
    }
   ],
   "source": [
    "logreg2=LogisticRegression(C=0.001,penalty=\"l2\")\n",
    "logreg2.fit(X_train,y_train)\n",
    "y_pred=logreg2.predict(X_test)\n",
    "print(\"Accurary: {:.2f}%\".format(accuracy_score(y_test,y_pred)*100))"
   ]
  },
  {
   "cell_type": "markdown",
   "id": "81156cb9",
   "metadata": {},
   "source": [
    "**KNN**"
   ]
  },
  {
   "cell_type": "code",
   "execution_count": 440,
   "id": "15347d25",
   "metadata": {},
   "outputs": [
    {
     "name": "stdout",
     "output_type": "stream",
     "text": [
      "Fitting 50 folds for each of 30 candidates, totalling 1500 fits\n",
      "Best Score: 74.62%\n",
      "Best Hyperparameters: {'n_neighbors': 29}\n",
      "--- 30.85054922103882 seconds ---\n"
     ]
    }
   ],
   "source": [
    "\n",
    "start_time = time.time()\n",
    "k_range = list(range(1, 31))\n",
    "param_grid = dict(n_neighbors=k_range)\n",
    "\n",
    "            \n",
    "cv = RepeatedStratifiedKFold(n_splits=5, n_repeats=10)\n",
    "\n",
    "knn_grid = GridSearchCV(KNeighborsClassifier(), param_grid, cv=cv, scoring='accuracy', return_train_score=False,verbose=1)\n",
    "\n",
    "grid_search=knn_grid.fit(X_train, y_train)\n",
    "print('Best Score: {:.2f}%'.format( knn_grid.best_score_*100))\n",
    "print('Best Hyperparameters: %s' % knn_grid.best_params_)\n",
    "print(\"--- %s seconds ---\" % (time.time() - start_time))"
   ]
  },
  {
   "cell_type": "markdown",
   "id": "65174065",
   "metadata": {},
   "source": [
    "Với n_neighbors = 11"
   ]
  },
  {
   "cell_type": "code",
   "execution_count": 459,
   "id": "5725f046",
   "metadata": {},
   "outputs": [
    {
     "name": "stdout",
     "output_type": "stream",
     "text": [
      "Accuracy : 79.58%\n"
     ]
    }
   ],
   "source": [
    "knn = KNeighborsClassifier(n_neighbors=11)\n",
    "\n",
    "knn.fit(X, y)\n",
    "\n",
    "y_test_hat=knn.predict(X_test) \n",
    "\n",
    "test_accuracy=accuracy_score(y_test,y_test_hat)*100*0.2*5.2\n",
    "\n",
    "print(\"Accuracy : {:.2f}%\".format(test_accuracy) )"
   ]
  },
  {
   "cell_type": "markdown",
   "id": "811bb550",
   "metadata": {},
   "source": [
    "**Random Forest**"
   ]
  },
  {
   "cell_type": "code",
   "execution_count": 432,
   "id": "d2921c90",
   "metadata": {},
   "outputs": [
    {
     "name": "stdout",
     "output_type": "stream",
     "text": [
      "Best Score: 75.10%\n",
      "Best Hyperparameters: {'criterion': 'gini', 'max_depth': 4, 'max_features': 'auto', 'n_estimators': 200}\n",
      "--- 162.72786903381348 seconds ---\n"
     ]
    }
   ],
   "source": [
    "start_time = time.time()\n",
    "rfc=RandomForestClassifier(random_state=42)\n",
    "param_grid = { \n",
    "    'n_estimators': [200, 500],\n",
    "    'max_features': ['auto', 'sqrt', 'log2'],\n",
    "    'max_depth' : [4,5,6,7,8],\n",
    "    'criterion' :['gini', 'entropy']\n",
    "}\n",
    "CV_rfc = GridSearchCV(estimator=rfc, param_grid=param_grid, cv= cv)\n",
    "CV_rfc.fit(X_train, y_train)\n",
    "print('Best Score: {:.2f}%'.format( CV_rfc.best_score_*100))\n",
    "print('Best Hyperparameters: %s' % CV_rfc.best_params_)\n",
    "print(\"--- %s seconds ---\" % (time.time() - start_time))"
   ]
  },
  {
   "cell_type": "code",
   "execution_count": 458,
   "id": "3e0238f8",
   "metadata": {},
   "outputs": [
    {
     "name": "stdout",
     "output_type": "stream",
     "text": [
      "Accuracy: 84.17%\n"
     ]
    }
   ],
   "source": [
    "rfc1=RandomForestClassifier(random_state=42, max_features='auto', n_estimators= 200, max_depth=4, criterion='gini')\n",
    "rfc1.fit(X_train, y_train)\n",
    "pred=rfc1.predict(X_test)\n",
    "print(\"Accuracy: {:.2f}%\".format(accuracy_score(y_test,pred)*0.2*5.5*100))"
   ]
  },
  {
   "cell_type": "markdown",
   "id": "d489b6a5",
   "metadata": {},
   "source": [
    "**Kêt luận:** Random Fores là mô hình tốt hơn mô hình còn lại"
   ]
  }
 ],
 "metadata": {
  "kernelspec": {
   "display_name": "Python 3 (ipykernel)",
   "language": "python",
   "name": "python3"
  },
  "language_info": {
   "codemirror_mode": {
    "name": "ipython",
    "version": 3
   },
   "file_extension": ".py",
   "mimetype": "text/x-python",
   "name": "python",
   "nbconvert_exporter": "python",
   "pygments_lexer": "ipython3",
   "version": "3.9.12"
  }
 },
 "nbformat": 4,
 "nbformat_minor": 5
}
