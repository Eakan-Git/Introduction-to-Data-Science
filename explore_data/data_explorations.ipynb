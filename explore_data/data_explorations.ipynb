{
 "cells": [
  {
   "cell_type": "markdown",
   "id": "c6294fab",
   "metadata": {},
   "source": [
    "# Phase 2. Khám phá dữ liệu"
   ]
  },
  {
   "cell_type": "markdown",
   "id": "f868bd91",
   "metadata": {},
   "source": [
    "### Import thư viện"
   ]
  },
  {
   "cell_type": "code",
   "execution_count": 2,
   "id": "c5d28225",
   "metadata": {},
   "outputs": [],
   "source": [
    "import pandas as pd\n",
    "import numpy as np\n",
    "import datetime as dt\n",
    "import matplotlib.pyplot as plt\n",
    "import seaborn as sns\n",
    "import warnings\n",
    "warnings.filterwarnings('ignore')"
   ]
  },
  {
   "cell_type": "markdown",
   "id": "d95d60ba",
   "metadata": {},
   "source": [
    "### Đọc dữ liệu"
   ]
  },
  {
   "cell_type": "code",
   "execution_count": 6,
   "id": "e01a6401",
   "metadata": {},
   "outputs": [
    {
     "data": {
      "text/html": [
       "<div>\n",
       "<style scoped>\n",
       "    .dataframe tbody tr th:only-of-type {\n",
       "        vertical-align: middle;\n",
       "    }\n",
       "\n",
       "    .dataframe tbody tr th {\n",
       "        vertical-align: top;\n",
       "    }\n",
       "\n",
       "    .dataframe thead th {\n",
       "        text-align: right;\n",
       "    }\n",
       "</style>\n",
       "<table border=\"1\" class=\"dataframe\">\n",
       "  <thead>\n",
       "    <tr style=\"text-align: right;\">\n",
       "      <th></th>\n",
       "      <th>id</th>\n",
       "      <th>name</th>\n",
       "      <th>overview</th>\n",
       "      <th>certificate</th>\n",
       "      <th>runtime</th>\n",
       "      <th>nvote</th>\n",
       "      <th>imdb_rate</th>\n",
       "      <th>director</th>\n",
       "      <th>cast</th>\n",
       "      <th>genre</th>\n",
       "      <th>keyword</th>\n",
       "      <th>release_date</th>\n",
       "      <th>country</th>\n",
       "      <th>language</th>\n",
       "      <th>location</th>\n",
       "      <th>company</th>\n",
       "      <th>budget</th>\n",
       "      <th>gross</th>\n",
       "    </tr>\n",
       "  </thead>\n",
       "  <tbody>\n",
       "    <tr>\n",
       "      <th>0</th>\n",
       "      <td>tt1375666</td>\n",
       "      <td>Kẻ Đánh Cắp Giấc Mơ</td>\n",
       "      <td>A thief who steals corporate secrets through t...</td>\n",
       "      <td>PG-13</td>\n",
       "      <td>148.0</td>\n",
       "      <td>2356036</td>\n",
       "      <td>8.8</td>\n",
       "      <td>Christopher Nolan</td>\n",
       "      <td>Leonardo DiCaprio, Joseph Gordon-Levitt, Ellio...</td>\n",
       "      <td>Action, Adventure, Sci-Fi, Thriller</td>\n",
       "      <td>dream,ambiguous ending,subconscious,mindbender...</td>\n",
       "      <td>August 6, 2010 (Vietnam)</td>\n",
       "      <td>United States, United Kingdom</td>\n",
       "      <td>English, Japanese, French</td>\n",
       "      <td>Fortress Mountain, Kananaskis Country, Alberta...</td>\n",
       "      <td>Warner Bros., Legendary Entertainment, Syncopy</td>\n",
       "      <td>$160,000,000</td>\n",
       "      <td>$836,848,102</td>\n",
       "    </tr>\n",
       "    <tr>\n",
       "      <th>1</th>\n",
       "      <td>tt0816692</td>\n",
       "      <td>Hố Đen Tử Thần</td>\n",
       "      <td>A team of explorers travel through a wormhole ...</td>\n",
       "      <td>C13</td>\n",
       "      <td>169.0</td>\n",
       "      <td>1835446</td>\n",
       "      <td>8.6</td>\n",
       "      <td>Christopher Nolan</td>\n",
       "      <td>Matthew McConaughey, Anne Hathaway, Jessica Ch...</td>\n",
       "      <td>Adventure, Drama, Sci-Fi</td>\n",
       "      <td>astronaut,saving the world,space travel,wormho...</td>\n",
       "      <td>November 7, 2014 (Vietnam)</td>\n",
       "      <td>United States, United Kingdom, Canada</td>\n",
       "      <td>English</td>\n",
       "      <td>Iceland</td>\n",
       "      <td>Paramount Pictures, Warner Bros., Legendary En...</td>\n",
       "      <td>$165,000,000</td>\n",
       "      <td>$773,867,216</td>\n",
       "    </tr>\n",
       "    <tr>\n",
       "      <th>2</th>\n",
       "      <td>tt1345836</td>\n",
       "      <td>Kỵ Sĩ Bóng Đêm Trỗi Dậy</td>\n",
       "      <td>Eight years after the Joker's reign of anarchy...</td>\n",
       "      <td>PG-13</td>\n",
       "      <td>164.0</td>\n",
       "      <td>1707832</td>\n",
       "      <td>8.4</td>\n",
       "      <td>Christopher Nolan</td>\n",
       "      <td>Christian Bale, Tom Hardy, Anne Hathaway, Gary...</td>\n",
       "      <td>Action, Drama</td>\n",
       "      <td>dc comics,batman character,bruce wayne charact...</td>\n",
       "      <td>July 27, 2012 (Vietnam)</td>\n",
       "      <td>United States, United Kingdom</td>\n",
       "      <td>English, Arabic</td>\n",
       "      <td>Mehrangarh Fort, Jodhpur, Rajasthan, India</td>\n",
       "      <td>Warner Bros., Legendary Entertainment, DC Ente...</td>\n",
       "      <td>$250,000,000</td>\n",
       "      <td>$1,081,169,825</td>\n",
       "    </tr>\n",
       "    <tr>\n",
       "      <th>3</th>\n",
       "      <td>tt1853728</td>\n",
       "      <td>Hành Trình Django</td>\n",
       "      <td>With the help of a German bounty-hunter, a fre...</td>\n",
       "      <td>R</td>\n",
       "      <td>165.0</td>\n",
       "      <td>1557694</td>\n",
       "      <td>8.4</td>\n",
       "      <td>Quentin Tarantino</td>\n",
       "      <td>Jamie Foxx, Christoph Waltz, Leonardo DiCaprio...</td>\n",
       "      <td>Drama, Western</td>\n",
       "      <td>slavery,racial vengeance,racial violence,ku kl...</td>\n",
       "      <td>March 15, 2013 (Vietnam)</td>\n",
       "      <td>United States</td>\n",
       "      <td>English, German, French, Italian</td>\n",
       "      <td>Evergreen Plantation, 4677 Highway 18, Edgard,...</td>\n",
       "      <td>The Weinstein Company, Columbia Pictures</td>\n",
       "      <td>$100,000,000</td>\n",
       "      <td>$426,074,373</td>\n",
       "    </tr>\n",
       "    <tr>\n",
       "      <th>4</th>\n",
       "      <td>tt0993846</td>\n",
       "      <td>Sói Già Phố Wall</td>\n",
       "      <td>Based on the true story of Jordan Belfort, fro...</td>\n",
       "      <td>R</td>\n",
       "      <td>180.0</td>\n",
       "      <td>1414845</td>\n",
       "      <td>8.2</td>\n",
       "      <td>Martin Scorsese</td>\n",
       "      <td>Leonardo DiCaprio, Jonah Hill, Margot Robbie, ...</td>\n",
       "      <td>Biography, Comedy, Crime, Drama</td>\n",
       "      <td>based on true story,stockbroker,debauchery,ext...</td>\n",
       "      <td>January 11, 2014 (Vietnam)</td>\n",
       "      <td>United States</td>\n",
       "      <td>English, French</td>\n",
       "      <td>Portofino, Genoa, Liguria, Italy</td>\n",
       "      <td>Red Granite Pictures, Appian Way, Sikelia Prod...</td>\n",
       "      <td>$100,000,000</td>\n",
       "      <td>$406,878,233</td>\n",
       "    </tr>\n",
       "  </tbody>\n",
       "</table>\n",
       "</div>"
      ],
      "text/plain": [
       "          id                     name  \\\n",
       "0  tt1375666      Kẻ Đánh Cắp Giấc Mơ   \n",
       "1  tt0816692           Hố Đen Tử Thần   \n",
       "2  tt1345836  Kỵ Sĩ Bóng Đêm Trỗi Dậy   \n",
       "3  tt1853728        Hành Trình Django   \n",
       "4  tt0993846         Sói Già Phố Wall   \n",
       "\n",
       "                                            overview certificate  runtime  \\\n",
       "0  A thief who steals corporate secrets through t...       PG-13    148.0   \n",
       "1  A team of explorers travel through a wormhole ...         C13    169.0   \n",
       "2  Eight years after the Joker's reign of anarchy...       PG-13    164.0   \n",
       "3  With the help of a German bounty-hunter, a fre...           R    165.0   \n",
       "4  Based on the true story of Jordan Belfort, fro...           R    180.0   \n",
       "\n",
       "     nvote  imdb_rate           director  \\\n",
       "0  2356036        8.8  Christopher Nolan   \n",
       "1  1835446        8.6  Christopher Nolan   \n",
       "2  1707832        8.4  Christopher Nolan   \n",
       "3  1557694        8.4  Quentin Tarantino   \n",
       "4  1414845        8.2    Martin Scorsese   \n",
       "\n",
       "                                                cast  \\\n",
       "0  Leonardo DiCaprio, Joseph Gordon-Levitt, Ellio...   \n",
       "1  Matthew McConaughey, Anne Hathaway, Jessica Ch...   \n",
       "2  Christian Bale, Tom Hardy, Anne Hathaway, Gary...   \n",
       "3  Jamie Foxx, Christoph Waltz, Leonardo DiCaprio...   \n",
       "4  Leonardo DiCaprio, Jonah Hill, Margot Robbie, ...   \n",
       "\n",
       "                                 genre  \\\n",
       "0  Action, Adventure, Sci-Fi, Thriller   \n",
       "1             Adventure, Drama, Sci-Fi   \n",
       "2                        Action, Drama   \n",
       "3                       Drama, Western   \n",
       "4      Biography, Comedy, Crime, Drama   \n",
       "\n",
       "                                             keyword  \\\n",
       "0  dream,ambiguous ending,subconscious,mindbender...   \n",
       "1  astronaut,saving the world,space travel,wormho...   \n",
       "2  dc comics,batman character,bruce wayne charact...   \n",
       "3  slavery,racial vengeance,racial violence,ku kl...   \n",
       "4  based on true story,stockbroker,debauchery,ext...   \n",
       "\n",
       "                 release_date                                country  \\\n",
       "0    August 6, 2010 (Vietnam)          United States, United Kingdom   \n",
       "1  November 7, 2014 (Vietnam)  United States, United Kingdom, Canada   \n",
       "2     July 27, 2012 (Vietnam)          United States, United Kingdom   \n",
       "3    March 15, 2013 (Vietnam)                          United States   \n",
       "4  January 11, 2014 (Vietnam)                          United States   \n",
       "\n",
       "                           language  \\\n",
       "0         English, Japanese, French   \n",
       "1                           English   \n",
       "2                   English, Arabic   \n",
       "3  English, German, French, Italian   \n",
       "4                   English, French   \n",
       "\n",
       "                                            location  \\\n",
       "0  Fortress Mountain, Kananaskis Country, Alberta...   \n",
       "1                                            Iceland   \n",
       "2         Mehrangarh Fort, Jodhpur, Rajasthan, India   \n",
       "3  Evergreen Plantation, 4677 Highway 18, Edgard,...   \n",
       "4                   Portofino, Genoa, Liguria, Italy   \n",
       "\n",
       "                                             company        budget  \\\n",
       "0     Warner Bros., Legendary Entertainment, Syncopy  $160,000,000   \n",
       "1  Paramount Pictures, Warner Bros., Legendary En...  $165,000,000   \n",
       "2  Warner Bros., Legendary Entertainment, DC Ente...  $250,000,000   \n",
       "3           The Weinstein Company, Columbia Pictures  $100,000,000   \n",
       "4  Red Granite Pictures, Appian Way, Sikelia Prod...  $100,000,000   \n",
       "\n",
       "            gross  \n",
       "0    $836,848,102  \n",
       "1    $773,867,216  \n",
       "2  $1,081,169,825  \n",
       "3    $426,074,373  \n",
       "4    $406,878,233  "
      ]
     },
     "execution_count": 6,
     "metadata": {},
     "output_type": "execute_result"
    }
   ],
   "source": [
    "df = pd.read_csv('../data/data_after_collect.csv', sep='\\t')\n",
    "df.head(5)"
   ]
  },
  {
   "cell_type": "code",
   "execution_count": 7,
   "id": "8ace0f4d",
   "metadata": {},
   "outputs": [],
   "source": [
    "df = df.head(1500)"
   ]
  },
  {
   "cell_type": "markdown",
   "id": "62369780",
   "metadata": {},
   "source": [
    "### Số dòng và cột"
   ]
  },
  {
   "cell_type": "code",
   "execution_count": 8,
   "id": "97e259a8",
   "metadata": {},
   "outputs": [
    {
     "name": "stdout",
     "output_type": "stream",
     "text": [
      "Dataset has 1500 rows and 18 columns!\n"
     ]
    }
   ],
   "source": [
    "n_rows, n_cols = df.shape\n",
    "print(f'Dataset has {n_rows} rows and {n_cols} columns!')"
   ]
  },
  {
   "cell_type": "markdown",
   "id": "86422be3",
   "metadata": {},
   "source": [
    "### Ý nghĩa các dòng và cột"
   ]
  },
  {
   "cell_type": "markdown",
   "id": "62860987",
   "metadata": {},
   "source": [
    "Các cột:\n",
    "- `name`: Tên phim\n",
    "- `overview`: Mô tả tổng quát phim\n",
    "- `tagline`: Một văn bản ngắn dùng để làm rõ một ý tưởng hoặc được thiết kế với một dạng hiệu ứng ấn tượng\n",
    "- `certificate`: Phân loại phim ( Ví dụ 'R' là phim cấm người dưới 18 tuổi, 'C13' là cấm người dưới 13 tuổi)\n",
    "- `runtime`: Thời lượng phim (min)\n",
    "- `genre`: Thể loại\n",
    "- `keyword`: Từ khóa để dễ dàng tìm kiếm hoặc thể hiện sự tương quan giữa cái bộ phim\n",
    "- `imdb_rate`: Số điểm đánh giá từ IMDB\n",
    "- `metascore`: Số điểm đánh giá từ Metacritic\n",
    "- `director\t`: Đạo diễn \n",
    "- `stars`: Các ngôi sao của phim\n",
    "- `nvote`: Số lượt đánh giá\n",
    "- `gross`: Doanh thu của phim (M)\n",
    "- `release_date`: Ngày phát hành\n",
    "- `countries`: Quốc gia của công ty hoặc chi nhánh quản lý toàn bộ bộ phim\n",
    "- `language` : Vì phim phát hành ở nhiều quốc gia nên sẽ có nhiều ngôn ngữ hỗ trợ (bao gồm cả ngôn ngữ gốc)\n",
    "- `locations` : Những nơi phim thực hiện\n",
    "- `company` : Công ty chịu trách nhiệm sản xuất\n",
    "\n",
    "Các dòng: Mỗi dòng là thông tin của một bộ phim"
   ]
  },
  {
   "cell_type": "markdown",
   "id": "bf4a64a6",
   "metadata": {},
   "source": [
    "### Có dòng nào trùng lắp không"
   ]
  },
  {
   "cell_type": "code",
   "execution_count": 9,
   "id": "6b614691",
   "metadata": {},
   "outputs": [
    {
     "data": {
      "text/plain": [
       "False"
      ]
     },
     "execution_count": 9,
     "metadata": {},
     "output_type": "execute_result"
    }
   ],
   "source": [
    "any(df.duplicated())"
   ]
  },
  {
   "cell_type": "code",
   "execution_count": 10,
   "id": "5ba98c5e",
   "metadata": {},
   "outputs": [
    {
     "data": {
      "text/plain": [
       "(0,)"
      ]
     },
     "execution_count": 10,
     "metadata": {},
     "output_type": "execute_result"
    }
   ],
   "source": [
    "id_movies = df['id'].value_counts()\n",
    "index = id_movies > 1 #get id count more than once\n",
    "id_movies[index].shape"
   ]
  },
  {
   "cell_type": "markdown",
   "id": "dfc1ab1c",
   "metadata": {},
   "source": [
    "Không có phim nào trùng id"
   ]
  },
  {
   "cell_type": "markdown",
   "id": "61e2134b",
   "metadata": {},
   "source": [
    "### Kiểu dữ liệu:"
   ]
  },
  {
   "cell_type": "code",
   "execution_count": 11,
   "id": "129a202e",
   "metadata": {},
   "outputs": [
    {
     "data": {
      "text/html": [
       "<div>\n",
       "<style scoped>\n",
       "    .dataframe tbody tr th:only-of-type {\n",
       "        vertical-align: middle;\n",
       "    }\n",
       "\n",
       "    .dataframe tbody tr th {\n",
       "        vertical-align: top;\n",
       "    }\n",
       "\n",
       "    .dataframe thead th {\n",
       "        text-align: right;\n",
       "    }\n",
       "</style>\n",
       "<table border=\"1\" class=\"dataframe\">\n",
       "  <thead>\n",
       "    <tr style=\"text-align: right;\">\n",
       "      <th></th>\n",
       "      <th>id</th>\n",
       "      <th>name</th>\n",
       "      <th>overview</th>\n",
       "      <th>certificate</th>\n",
       "      <th>runtime</th>\n",
       "      <th>nvote</th>\n",
       "      <th>imdb_rate</th>\n",
       "      <th>director</th>\n",
       "      <th>cast</th>\n",
       "      <th>genre</th>\n",
       "      <th>keyword</th>\n",
       "      <th>release_date</th>\n",
       "      <th>country</th>\n",
       "      <th>language</th>\n",
       "      <th>location</th>\n",
       "      <th>company</th>\n",
       "      <th>budget</th>\n",
       "      <th>gross</th>\n",
       "    </tr>\n",
       "  </thead>\n",
       "  <tbody>\n",
       "    <tr>\n",
       "      <th>type</th>\n",
       "      <td>object</td>\n",
       "      <td>object</td>\n",
       "      <td>object</td>\n",
       "      <td>object</td>\n",
       "      <td>float64</td>\n",
       "      <td>int64</td>\n",
       "      <td>float64</td>\n",
       "      <td>object</td>\n",
       "      <td>object</td>\n",
       "      <td>object</td>\n",
       "      <td>object</td>\n",
       "      <td>object</td>\n",
       "      <td>object</td>\n",
       "      <td>object</td>\n",
       "      <td>object</td>\n",
       "      <td>object</td>\n",
       "      <td>object</td>\n",
       "      <td>object</td>\n",
       "    </tr>\n",
       "    <tr>\n",
       "      <th>null values</th>\n",
       "      <td>0</td>\n",
       "      <td>0</td>\n",
       "      <td>0</td>\n",
       "      <td>100</td>\n",
       "      <td>0</td>\n",
       "      <td>0</td>\n",
       "      <td>0</td>\n",
       "      <td>0</td>\n",
       "      <td>0</td>\n",
       "      <td>0</td>\n",
       "      <td>0</td>\n",
       "      <td>0</td>\n",
       "      <td>0</td>\n",
       "      <td>0</td>\n",
       "      <td>60</td>\n",
       "      <td>0</td>\n",
       "      <td>190</td>\n",
       "      <td>79</td>\n",
       "    </tr>\n",
       "  </tbody>\n",
       "</table>\n",
       "</div>"
      ],
      "text/plain": [
       "                 id    name overview certificate  runtime  nvote imdb_rate  \\\n",
       "type         object  object   object      object  float64  int64   float64   \n",
       "null values       0       0        0         100        0      0         0   \n",
       "\n",
       "            director    cast   genre keyword release_date country language  \\\n",
       "type          object  object  object  object       object  object   object   \n",
       "null values        0       0       0       0            0       0        0   \n",
       "\n",
       "            location company  budget   gross  \n",
       "type          object  object  object  object  \n",
       "null values       60       0     190      79  "
      ]
     },
     "execution_count": 11,
     "metadata": {},
     "output_type": "execute_result"
    }
   ],
   "source": [
    "pd.DataFrame(pd.concat([df.dtypes, df.isnull().sum()], axis=1)).T.rename(index={0:'type', 1:'null values'})"
   ]
  },
  {
   "cell_type": "markdown",
   "id": "b2ba0743",
   "metadata": {},
   "source": [
    "- Các cột `id` `name` `overview` `certificate` `keyword` `genre` `director` `release_date` `stars` `language` `locations` `company` có type là `object`. Cần tìm type chính xác của các cột này"
   ]
  },
  {
   "cell_type": "code",
   "execution_count": 12,
   "id": "11aedb95",
   "metadata": {},
   "outputs": [],
   "source": [
    "#get class of column have object type\n",
    "def open_object_dtype(s):\n",
    "    dtypes = set()\n",
    "    dtypes = set(s.apply(type))\n",
    "    return dtypes"
   ]
  },
  {
   "cell_type": "code",
   "execution_count": 13,
   "id": "b2f99c96",
   "metadata": {
    "scrolled": true
   },
   "outputs": [
    {
     "name": "stdout",
     "output_type": "stream",
     "text": [
      "id: {<class 'str'>}\n",
      "name: {<class 'str'>}\n",
      "overview: {<class 'str'>}\n",
      "keyword: {<class 'str'>}\n",
      "certificate: {<class 'str'>, <class 'float'>}\n",
      "genre: {<class 'str'>}\n",
      "director: {<class 'str'>}\n",
      "cast: {<class 'str'>}\n",
      "release_date: {<class 'str'>}\n",
      "country: {<class 'str'>}\n",
      "language: {<class 'str'>}\n",
      "location: {<class 'str'>, <class 'float'>}\n",
      "company: {<class 'str'>}\n",
      "gross: {<class 'str'>, <class 'float'>}\n",
      "budget: {<class 'str'>, <class 'float'>}\n"
     ]
    }
   ],
   "source": [
    "print('id:', open_object_dtype(df['id']))\n",
    "print('name:', open_object_dtype(df['name']))\n",
    "print('overview:', open_object_dtype(df['overview']))\n",
    "print('keyword:', open_object_dtype(df['keyword']))\n",
    "print('certificate:', open_object_dtype(df['certificate']))\n",
    "print('genre:', open_object_dtype(df['genre']))\n",
    "print('director:', open_object_dtype(df['director']))\n",
    "print('cast:', open_object_dtype(df['cast']))\n",
    "print('release_date:', open_object_dtype(df['release_date']))\n",
    "print('country:', open_object_dtype(df['country']))\n",
    "print('language:', open_object_dtype(df['language']))\n",
    "print('location:', open_object_dtype(df['location']))\n",
    "print('company:', open_object_dtype(df['company']))\n",
    "print('gross:', open_object_dtype(df['gross']))\n",
    "print('budget:', open_object_dtype(df['budget']))"
   ]
  },
  {
   "cell_type": "markdown",
   "id": "64249e92",
   "metadata": {},
   "source": [
    "- Column `keyword` `certificate` `location` có một số giá trị có kiểu `float` do mang giá trị NULL\n",
    "\n",
    "- Các column `keyword` `genre` `director` `cast` `language` `location` `company`  phải là list tuy nhiên đang có type là 'str'\n",
    "\n",
    "- `release_date` chưa có kiểu dữ liệu là datetime"
   ]
  },
  {
   "cell_type": "markdown",
   "id": "6a2de366",
   "metadata": {},
   "source": [
    "#### Chỉnh sửa các column về kiểu dữ liệu phù hợp\n",
    "\n",
    "* Chuyển các column dạng string thành list string "
   ]
  },
  {
   "cell_type": "code",
   "execution_count": 14,
   "id": "4bfc47a0",
   "metadata": {},
   "outputs": [],
   "source": [
    "df['keyword'] = df['keyword'].apply(lambda x: x.split(\",\") if(type(x) == str) else x)\n",
    "df['genre'] = df['genre'].apply(lambda x: x.split(\", \") if(type(x) == str) else x)\n",
    "df['director'] = df['director'].apply(lambda x: x.split(\", \") if(type(x) == str) else x)\n",
    "df['cast'] = df['cast'].apply(lambda x: x.split(\", \") if(type(x) == str) else x)\n",
    "df['language'] = df['language'].apply(lambda x: x.split(\", \") if(type(x) == str) else x)\n",
    "df['location'] = df['location'].apply(lambda x: x.split(\", \") if(type(x) == str) else x)\n",
    "df['company'] = df['company'].apply(lambda x: x.split(\", \") if(type(x) == str) else x)"
   ]
  },
  {
   "cell_type": "markdown",
   "id": "6c938044",
   "metadata": {},
   "source": [
    "* Chuyển `release_date` thành datetime"
   ]
  },
  {
   "cell_type": "code",
   "execution_count": 15,
   "id": "5e3a357d",
   "metadata": {},
   "outputs": [
    {
     "data": {
      "text/html": [
       "<div>\n",
       "<style scoped>\n",
       "    .dataframe tbody tr th:only-of-type {\n",
       "        vertical-align: middle;\n",
       "    }\n",
       "\n",
       "    .dataframe tbody tr th {\n",
       "        vertical-align: top;\n",
       "    }\n",
       "\n",
       "    .dataframe thead th {\n",
       "        text-align: right;\n",
       "    }\n",
       "</style>\n",
       "<table border=\"1\" class=\"dataframe\">\n",
       "  <thead>\n",
       "    <tr style=\"text-align: right;\">\n",
       "      <th></th>\n",
       "      <th>release_date</th>\n",
       "    </tr>\n",
       "  </thead>\n",
       "  <tbody>\n",
       "    <tr>\n",
       "      <th>1458</th>\n",
       "      <td>March 13, 2014 (Germany)</td>\n",
       "    </tr>\n",
       "    <tr>\n",
       "      <th>706</th>\n",
       "      <td>March 13, 2019 (United States)</td>\n",
       "    </tr>\n",
       "    <tr>\n",
       "      <th>482</th>\n",
       "      <td>September 30, 2011 (Vietnam)</td>\n",
       "    </tr>\n",
       "    <tr>\n",
       "      <th>654</th>\n",
       "      <td>March 27, 2015 (United States)</td>\n",
       "    </tr>\n",
       "    <tr>\n",
       "      <th>132</th>\n",
       "      <td>November 18, 2016 (Vietnam)</td>\n",
       "    </tr>\n",
       "    <tr>\n",
       "      <th>262</th>\n",
       "      <td>March 20, 2019 (Vietnam)</td>\n",
       "    </tr>\n",
       "    <tr>\n",
       "      <th>93</th>\n",
       "      <td>November 26, 2010 (Vietnam)</td>\n",
       "    </tr>\n",
       "    <tr>\n",
       "      <th>913</th>\n",
       "      <td>July 8, 2016 (Vietnam)</td>\n",
       "    </tr>\n",
       "    <tr>\n",
       "      <th>487</th>\n",
       "      <td>June 8, 2012 (Vietnam)</td>\n",
       "    </tr>\n",
       "    <tr>\n",
       "      <th>598</th>\n",
       "      <td>January 27, 2012 (United States)</td>\n",
       "    </tr>\n",
       "  </tbody>\n",
       "</table>\n",
       "</div>"
      ],
      "text/plain": [
       "                          release_date\n",
       "1458          March 13, 2014 (Germany)\n",
       "706     March 13, 2019 (United States)\n",
       "482       September 30, 2011 (Vietnam)\n",
       "654     March 27, 2015 (United States)\n",
       "132        November 18, 2016 (Vietnam)\n",
       "262           March 20, 2019 (Vietnam)\n",
       "93         November 26, 2010 (Vietnam)\n",
       "913             July 8, 2016 (Vietnam)\n",
       "487             June 8, 2012 (Vietnam)\n",
       "598   January 27, 2012 (United States)"
      ]
     },
     "execution_count": 15,
     "metadata": {},
     "output_type": "execute_result"
    }
   ],
   "source": [
    "df[['release_date']].sample(n = 10)"
   ]
  },
  {
   "cell_type": "code",
   "execution_count": 16,
   "id": "652a1b98",
   "metadata": {},
   "outputs": [],
   "source": [
    "#convert datetime to specific format\n",
    "def try_parsing_date(text):\n",
    "    date = text.split(' (')[0]\n",
    "    for fmt in ('%B %d, %Y', '%B %Y', '%Y'):\n",
    "        try:\n",
    "            return dt.datetime.strptime(date, fmt)\n",
    "        except ValueError:\n",
    "            pass\n",
    "    raise ValueError('no valid date format found' ,date )"
   ]
  },
  {
   "cell_type": "code",
   "execution_count": 17,
   "id": "d06bd266",
   "metadata": {},
   "outputs": [
    {
     "data": {
      "text/plain": [
       "0   2010-08-06\n",
       "1   2014-11-07\n",
       "2   2012-07-27\n",
       "3   2013-03-15\n",
       "4   2014-01-11\n",
       "Name: release_date, dtype: datetime64[ns]"
      ]
     },
     "execution_count": 17,
     "metadata": {},
     "output_type": "execute_result"
    }
   ],
   "source": [
    "df['release_date'] = df['release_date'].apply(lambda x: try_parsing_date(x) if((type(x) == str) & (x != ' ')) else x )\n",
    "df['release_date'].head(5)"
   ]
  },
  {
   "cell_type": "markdown",
   "id": "16921846",
   "metadata": {},
   "source": [
    "- Chuyển `gross` và `budget` sang kiểu số. \n"
   ]
  },
  {
   "cell_type": "code",
   "execution_count": 18,
   "id": "a8733c79",
   "metadata": {},
   "outputs": [
    {
     "data": {
      "text/html": [
       "<div>\n",
       "<style scoped>\n",
       "    .dataframe tbody tr th:only-of-type {\n",
       "        vertical-align: middle;\n",
       "    }\n",
       "\n",
       "    .dataframe tbody tr th {\n",
       "        vertical-align: top;\n",
       "    }\n",
       "\n",
       "    .dataframe thead th {\n",
       "        text-align: right;\n",
       "    }\n",
       "</style>\n",
       "<table border=\"1\" class=\"dataframe\">\n",
       "  <thead>\n",
       "    <tr style=\"text-align: right;\">\n",
       "      <th></th>\n",
       "      <th>gross</th>\n",
       "      <th>budget</th>\n",
       "    </tr>\n",
       "  </thead>\n",
       "  <tbody>\n",
       "    <tr>\n",
       "      <th>1444</th>\n",
       "      <td>$2,950,880</td>\n",
       "      <td>NaN</td>\n",
       "    </tr>\n",
       "    <tr>\n",
       "      <th>1352</th>\n",
       "      <td>$11,156,836</td>\n",
       "      <td>NaN</td>\n",
       "    </tr>\n",
       "    <tr>\n",
       "      <th>980</th>\n",
       "      <td>$158,261,424</td>\n",
       "      <td>$58,000,000</td>\n",
       "    </tr>\n",
       "    <tr>\n",
       "      <th>35</th>\n",
       "      <td>$233,555,708</td>\n",
       "      <td>$14,000,000</td>\n",
       "    </tr>\n",
       "    <tr>\n",
       "      <th>1281</th>\n",
       "      <td>$26,001,227</td>\n",
       "      <td>NaN</td>\n",
       "    </tr>\n",
       "  </tbody>\n",
       "</table>\n",
       "</div>"
      ],
      "text/plain": [
       "             gross       budget\n",
       "1444    $2,950,880          NaN\n",
       "1352   $11,156,836          NaN\n",
       "980   $158,261,424  $58,000,000\n",
       "35    $233,555,708  $14,000,000\n",
       "1281   $26,001,227          NaN"
      ]
     },
     "execution_count": 18,
     "metadata": {},
     "output_type": "execute_result"
    }
   ],
   "source": [
    "df[['gross', 'budget']].sample(5)"
   ]
  },
  {
   "cell_type": "markdown",
   "id": "0ebb44f7",
   "metadata": {},
   "source": [
    "- Vì đơn vị tiền khá đa dạng nên ta chuyển về một kiểu thống nhất đó là triệu USD"
   ]
  },
  {
   "cell_type": "code",
   "execution_count": 19,
   "id": "f23fa165",
   "metadata": {},
   "outputs": [],
   "source": [
    "#get correct unit of money\n",
    "def get_unit(money):\n",
    "    money = money.replace(',', '')\n",
    "    unit = ''.join(x for x in money if not x.isdigit())\n",
    "    return unit\n",
    "#get number of money\n",
    "def get_number(money):\n",
    "    money = money.replace(',', '')\n",
    "    number = ''.join(x for x in money if x.isdigit())\n",
    "    return float(number)"
   ]
  },
  {
   "cell_type": "code",
   "execution_count": 20,
   "id": "50bc5d6c",
   "metadata": {},
   "outputs": [],
   "source": [
    "units_gross = df['gross'].apply(lambda x: get_unit(x) if(type(x) == str) else x).unique()\n",
    "units_budget = df['budget'].apply(lambda x: get_unit(x) if(type(x) == str) else x).unique()"
   ]
  },
  {
   "cell_type": "code",
   "execution_count": 21,
   "id": "c7525198",
   "metadata": {},
   "outputs": [],
   "source": [
    "#convert to milion usd\n",
    "def to_usd(money):\n",
    "    unit = get_unit(money)\n",
    "    number = get_number(money)\n",
    "    if unit == '$':\n",
    "        number = number\n",
    "    elif unit == '€':\n",
    "        number = number * 1.07\n",
    "    elif unit == '£':\n",
    "        number = number * 1.22\n",
    "    elif unit == '¥':\n",
    "        number = number * 0.0076\n",
    "    elif unit == '₩':\n",
    "        number = number * 0.0008\n",
    "    elif unit == '₹':\n",
    "        number = number * 0.012\n",
    "    elif unit == 'TRL\\xa0':\n",
    "        number = number * 0.053\n",
    "    elif unit == 'NOK\\xa0':\n",
    "        number = number * 0.1\n",
    "    elif unit == 'NOK\\xa0':\n",
    "        number = number * 0.1\n",
    "    elif unit == 'A$':\n",
    "        number = number * 0.69\n",
    "    elif unit == 'CA$':\n",
    "        number = number * 0.75\n",
    "    elif unit == 'DKK\\xa0':\n",
    "        number = number * 0.14\n",
    "    elif unit == 'SEK\\xa0':\n",
    "        number = number * 0.096\n",
    "    elif unit == 'MVR\\xa0':\n",
    "        number = number * 0.065\n",
    "    elif unit == 'NZ$':\n",
    "        number = number * 0.64\n",
    "    elif unit == 'PKR\\xa0':\n",
    "        number = number * 0.0044\n",
    "    elif unit == 'R$':\n",
    "        number = number * 0.19\n",
    "    elif unit == 'BDT\\xa0':\n",
    "        number = number * 0.0095\n",
    "    return number / 1000000"
   ]
  },
  {
   "cell_type": "code",
   "execution_count": 22,
   "id": "e2fd9823",
   "metadata": {},
   "outputs": [],
   "source": [
    "df['budget'] = df['budget'].apply(lambda x: to_usd(x) if(type(x) == str) else x)"
   ]
  },
  {
   "cell_type": "code",
   "execution_count": 23,
   "id": "fbe4221b",
   "metadata": {},
   "outputs": [],
   "source": [
    "df['gross'] = df['gross'].apply(lambda x: to_usd(x) if(type(x) == str) else x)"
   ]
  },
  {
   "cell_type": "markdown",
   "id": "52f66f25",
   "metadata": {},
   "source": [
    "### Phân bố của từng column"
   ]
  },
  {
   "cell_type": "markdown",
   "id": "d7cebe74",
   "metadata": {},
   "source": [
    "#### Numeric column"
   ]
  },
  {
   "cell_type": "code",
   "execution_count": 24,
   "id": "901c078b",
   "metadata": {
    "scrolled": true
   },
   "outputs": [],
   "source": [
    "num_col_info_df = df.select_dtypes(exclude=['object'])\n",
    "def missing_ratio(s):\n",
    "    return (s.isna().mean() * 100)\n",
    "\n",
    "def median(df):\n",
    "    return (df.quantile(0.5))\n",
    "\n",
    "def lower_quartile(df):\n",
    "    return (df.quantile(0.25))\n",
    "\n",
    "def upper_quartile(df):\n",
    "    return (df.quantile(0.75))"
   ]
  },
  {
   "cell_type": "code",
   "execution_count": 25,
   "id": "1accf041",
   "metadata": {},
   "outputs": [
    {
     "data": {
      "text/html": [
       "<div>\n",
       "<style scoped>\n",
       "    .dataframe tbody tr th:only-of-type {\n",
       "        vertical-align: middle;\n",
       "    }\n",
       "\n",
       "    .dataframe tbody tr th {\n",
       "        vertical-align: top;\n",
       "    }\n",
       "\n",
       "    .dataframe thead th {\n",
       "        text-align: right;\n",
       "    }\n",
       "</style>\n",
       "<table border=\"1\" class=\"dataframe\">\n",
       "  <thead>\n",
       "    <tr style=\"text-align: right;\">\n",
       "      <th></th>\n",
       "      <th>runtime</th>\n",
       "      <th>nvote</th>\n",
       "      <th>imdb_rate</th>\n",
       "      <th>release_date</th>\n",
       "      <th>budget</th>\n",
       "      <th>gross</th>\n",
       "    </tr>\n",
       "  </thead>\n",
       "  <tbody>\n",
       "    <tr>\n",
       "      <th>missing_ratio</th>\n",
       "      <td>0.0</td>\n",
       "      <td>0.0</td>\n",
       "      <td>0.0</td>\n",
       "      <td>0.0</td>\n",
       "      <td>12.666667</td>\n",
       "      <td>5.266667</td>\n",
       "    </tr>\n",
       "    <tr>\n",
       "      <th>min</th>\n",
       "      <td>76.0</td>\n",
       "      <td>50661.0</td>\n",
       "      <td>1.0</td>\n",
       "      <td>2010-01-08 00:00:00</td>\n",
       "      <td>0.000018</td>\n",
       "      <td>0.000693</td>\n",
       "    </tr>\n",
       "    <tr>\n",
       "      <th>lower_quartile</th>\n",
       "      <td>100.0</td>\n",
       "      <td>77073.0</td>\n",
       "      <td>6.2</td>\n",
       "      <td>2012-10-12 00:00:00</td>\n",
       "      <td>15.000000</td>\n",
       "      <td>26.236153</td>\n",
       "    </tr>\n",
       "    <tr>\n",
       "      <th>median</th>\n",
       "      <td>110.0</td>\n",
       "      <td>122812.0</td>\n",
       "      <td>6.7</td>\n",
       "      <td>2015-06-04 00:00:00</td>\n",
       "      <td>36.000000</td>\n",
       "      <td>84.247681</td>\n",
       "    </tr>\n",
       "    <tr>\n",
       "      <th>upper_quartile</th>\n",
       "      <td>124.0</td>\n",
       "      <td>233608.5</td>\n",
       "      <td>7.3</td>\n",
       "      <td>2018-04-14 18:00:00</td>\n",
       "      <td>81.800000</td>\n",
       "      <td>221.600160</td>\n",
       "    </tr>\n",
       "    <tr>\n",
       "      <th>max</th>\n",
       "      <td>321.0</td>\n",
       "      <td>2356036.0</td>\n",
       "      <td>8.8</td>\n",
       "      <td>2022-10-21 00:00:00</td>\n",
       "      <td>356.000000</td>\n",
       "      <td>2797.501328</td>\n",
       "    </tr>\n",
       "  </tbody>\n",
       "</table>\n",
       "</div>"
      ],
      "text/plain": [
       "                runtime      nvote  imdb_rate         release_date  \\\n",
       "missing_ratio       0.0        0.0        0.0                  0.0   \n",
       "min                76.0    50661.0        1.0  2010-01-08 00:00:00   \n",
       "lower_quartile    100.0    77073.0        6.2  2012-10-12 00:00:00   \n",
       "median            110.0   122812.0        6.7  2015-06-04 00:00:00   \n",
       "upper_quartile    124.0   233608.5        7.3  2018-04-14 18:00:00   \n",
       "max               321.0  2356036.0        8.8  2022-10-21 00:00:00   \n",
       "\n",
       "                    budget        gross  \n",
       "missing_ratio    12.666667     5.266667  \n",
       "min               0.000018     0.000693  \n",
       "lower_quartile   15.000000    26.236153  \n",
       "median           36.000000    84.247681  \n",
       "upper_quartile   81.800000   221.600160  \n",
       "max             356.000000  2797.501328  "
      ]
     },
     "execution_count": 25,
     "metadata": {},
     "output_type": "execute_result"
    }
   ],
   "source": [
    "num_col_info_df = num_col_info_df.agg([missing_ratio , min, lower_quartile, median, upper_quartile, max])\n",
    "num_col_info_df"
   ]
  },
  {
   "cell_type": "markdown",
   "id": "932f612f",
   "metadata": {},
   "source": [
    "`release_date` tối đa chỉ đến cuối năm 2021. Nên ta không chọn những phim năm 2022 vì dữ liệu rất ít."
   ]
  },
  {
   "cell_type": "code",
   "execution_count": 26,
   "id": "c7c47e48",
   "metadata": {},
   "outputs": [
    {
     "data": {
      "text/plain": [
       "(4,)"
      ]
     },
     "execution_count": 26,
     "metadata": {},
     "output_type": "execute_result"
    }
   ],
   "source": [
    "#count movie in 2022\n",
    "y = df['release_date'].apply(lambda x: x.year)\n",
    "y.loc[y==2022].shape"
   ]
  },
  {
   "cell_type": "code",
   "execution_count": 27,
   "id": "545e60e7",
   "metadata": {},
   "outputs": [],
   "source": [
    "#remove movie in 2022\n",
    "df = df.loc[df['release_date'].dt.year != 2022]"
   ]
  },
  {
   "cell_type": "markdown",
   "id": "7fd49a65",
   "metadata": {},
   "source": [
    "`Budget` và `gross` null khá nhiều nhưng vẫn chấp nhận được. Các dữ liệu còn lại đều không có gì bất thường."
   ]
  },
  {
   "cell_type": "code",
   "execution_count": 28,
   "id": "d24af010",
   "metadata": {},
   "outputs": [
    {
     "name": "stdout",
     "output_type": "stream",
     "text": [
      "Dataset has 1496 rows and 18 columns!\n"
     ]
    }
   ],
   "source": [
    "n_rows, n_cols = df.shape\n",
    "print(f'Dataset has {n_rows} rows and {n_cols} columns!')"
   ]
  },
  {
   "cell_type": "markdown",
   "id": "70029bf8",
   "metadata": {},
   "source": [
    "#### Categorical column"
   ]
  },
  {
   "cell_type": "code",
   "execution_count": 29,
   "id": "b7d0367b",
   "metadata": {
    "scrolled": true
   },
   "outputs": [
    {
     "data": {
      "text/html": [
       "<div>\n",
       "<style scoped>\n",
       "    .dataframe tbody tr th:only-of-type {\n",
       "        vertical-align: middle;\n",
       "    }\n",
       "\n",
       "    .dataframe tbody tr th {\n",
       "        vertical-align: top;\n",
       "    }\n",
       "\n",
       "    .dataframe thead th {\n",
       "        text-align: right;\n",
       "    }\n",
       "</style>\n",
       "<table border=\"1\" class=\"dataframe\">\n",
       "  <thead>\n",
       "    <tr style=\"text-align: right;\">\n",
       "      <th></th>\n",
       "      <th>id</th>\n",
       "      <th>name</th>\n",
       "      <th>overview</th>\n",
       "      <th>imdb_rate</th>\n",
       "      <th>certificate</th>\n",
       "      <th>director</th>\n",
       "      <th>cast</th>\n",
       "      <th>genre</th>\n",
       "      <th>keyword</th>\n",
       "      <th>country</th>\n",
       "      <th>language</th>\n",
       "      <th>location</th>\n",
       "      <th>company</th>\n",
       "    </tr>\n",
       "    <tr>\n",
       "      <th>Value</th>\n",
       "      <th></th>\n",
       "      <th></th>\n",
       "      <th></th>\n",
       "      <th></th>\n",
       "      <th></th>\n",
       "      <th></th>\n",
       "      <th></th>\n",
       "      <th></th>\n",
       "      <th></th>\n",
       "      <th></th>\n",
       "      <th></th>\n",
       "      <th></th>\n",
       "      <th></th>\n",
       "    </tr>\n",
       "  </thead>\n",
       "  <tbody>\n",
       "    <tr>\n",
       "      <th>missing_ratio%</th>\n",
       "      <td>0.0</td>\n",
       "      <td>0.0</td>\n",
       "      <td>0.0</td>\n",
       "      <td>0.0</td>\n",
       "      <td>6.617647</td>\n",
       "      <td>0.0</td>\n",
       "      <td>0.0</td>\n",
       "      <td>0.0</td>\n",
       "      <td>0.0</td>\n",
       "      <td>0.0</td>\n",
       "      <td>0.0</td>\n",
       "      <td>4.010695</td>\n",
       "      <td>0.0</td>\n",
       "    </tr>\n",
       "    <tr>\n",
       "      <th>num_diff_vals</th>\n",
       "      <td>1496</td>\n",
       "      <td>1494</td>\n",
       "      <td>1496</td>\n",
       "      <td>57</td>\n",
       "      <td>10</td>\n",
       "      <td>930</td>\n",
       "      <td>2639</td>\n",
       "      <td>20</td>\n",
       "      <td>4036</td>\n",
       "      <td>344</td>\n",
       "      <td>119</td>\n",
       "      <td>1575</td>\n",
       "      <td>1486</td>\n",
       "    </tr>\n",
       "    <tr>\n",
       "      <th>diff_vals</th>\n",
       "      <td>[tt1375666, tt0816692, tt1345836, tt1853728, t...</td>\n",
       "      <td>[Kẻ Đánh Cắp Giấc Mơ, Hố Đen Tử Thần, Kỵ Sĩ Bó...</td>\n",
       "      <td>[A thief who steals corporate secrets through ...</td>\n",
       "      <td>[8.8, 8.6, 8.4, 8.2, 8.0, 8.1, 7.8, 7.2, 7.3, ...</td>\n",
       "      <td>[PG-13, C13, R, P, C18, C16, (Banned), PG, G, ...</td>\n",
       "      <td>[Christopher Nolan, Quentin Tarantino, Martin ...</td>\n",
       "      <td>[Leonardo DiCaprio, Joseph Gordon-Levitt, Elli...</td>\n",
       "      <td>[Action, Adventure, Sci-Fi, Thriller, Drama, W...</td>\n",
       "      <td>[dream, ambiguous ending, subconscious, mindbe...</td>\n",
       "      <td>[United States, United Kingdom, United States,...</td>\n",
       "      <td>[English, Japanese, French, Arabic, German, It...</td>\n",
       "      <td>[Fortress Mountain, Kananaskis Country, Albert...</td>\n",
       "      <td>[Warner Bros., Legendary Entertainment, Syncop...</td>\n",
       "    </tr>\n",
       "  </tbody>\n",
       "</table>\n",
       "</div>"
      ],
      "text/plain": [
       "                                                               id  \\\n",
       "Value                                                               \n",
       "missing_ratio%                                                0.0   \n",
       "num_diff_vals                                                1496   \n",
       "diff_vals       [tt1375666, tt0816692, tt1345836, tt1853728, t...   \n",
       "\n",
       "                                                             name  \\\n",
       "Value                                                               \n",
       "missing_ratio%                                                0.0   \n",
       "num_diff_vals                                                1494   \n",
       "diff_vals       [Kẻ Đánh Cắp Giấc Mơ, Hố Đen Tử Thần, Kỵ Sĩ Bó...   \n",
       "\n",
       "                                                         overview  \\\n",
       "Value                                                               \n",
       "missing_ratio%                                                0.0   \n",
       "num_diff_vals                                                1496   \n",
       "diff_vals       [A thief who steals corporate secrets through ...   \n",
       "\n",
       "                                                        imdb_rate  \\\n",
       "Value                                                               \n",
       "missing_ratio%                                                0.0   \n",
       "num_diff_vals                                                  57   \n",
       "diff_vals       [8.8, 8.6, 8.4, 8.2, 8.0, 8.1, 7.8, 7.2, 7.3, ...   \n",
       "\n",
       "                                                      certificate  \\\n",
       "Value                                                               \n",
       "missing_ratio%                                           6.617647   \n",
       "num_diff_vals                                                  10   \n",
       "diff_vals       [PG-13, C13, R, P, C18, C16, (Banned), PG, G, ...   \n",
       "\n",
       "                                                         director  \\\n",
       "Value                                                               \n",
       "missing_ratio%                                                0.0   \n",
       "num_diff_vals                                                 930   \n",
       "diff_vals       [Christopher Nolan, Quentin Tarantino, Martin ...   \n",
       "\n",
       "                                                             cast  \\\n",
       "Value                                                               \n",
       "missing_ratio%                                                0.0   \n",
       "num_diff_vals                                                2639   \n",
       "diff_vals       [Leonardo DiCaprio, Joseph Gordon-Levitt, Elli...   \n",
       "\n",
       "                                                            genre  \\\n",
       "Value                                                               \n",
       "missing_ratio%                                                0.0   \n",
       "num_diff_vals                                                  20   \n",
       "diff_vals       [Action, Adventure, Sci-Fi, Thriller, Drama, W...   \n",
       "\n",
       "                                                          keyword  \\\n",
       "Value                                                               \n",
       "missing_ratio%                                                0.0   \n",
       "num_diff_vals                                                4036   \n",
       "diff_vals       [dream, ambiguous ending, subconscious, mindbe...   \n",
       "\n",
       "                                                          country  \\\n",
       "Value                                                               \n",
       "missing_ratio%                                                0.0   \n",
       "num_diff_vals                                                 344   \n",
       "diff_vals       [United States, United Kingdom, United States,...   \n",
       "\n",
       "                                                         language  \\\n",
       "Value                                                               \n",
       "missing_ratio%                                                0.0   \n",
       "num_diff_vals                                                 119   \n",
       "diff_vals       [English, Japanese, French, Arabic, German, It...   \n",
       "\n",
       "                                                         location  \\\n",
       "Value                                                               \n",
       "missing_ratio%                                           4.010695   \n",
       "num_diff_vals                                                1575   \n",
       "diff_vals       [Fortress Mountain, Kananaskis Country, Albert...   \n",
       "\n",
       "                                                          company  \n",
       "Value                                                              \n",
       "missing_ratio%                                                0.0  \n",
       "num_diff_vals                                                1486  \n",
       "diff_vals       [Warner Bros., Legendary Entertainment, Syncop...  "
      ]
     },
     "execution_count": 29,
     "metadata": {},
     "output_type": "execute_result"
    }
   ],
   "source": [
    "#get missing ratio, number of different and different values\n",
    "\n",
    "def get_cate_col_profiles(df, cate_col):\n",
    "    missing_ratio = []\n",
    "    num_diff_vals = []\n",
    "    diff_vals = []\n",
    "    \n",
    "    for col in cate_col:\n",
    "        column = df[col].dropna()\n",
    "        missing_ratio.append( 100 - len(column) / n_rows * 100)\n",
    "        diff_val = column.to_list()\n",
    "        if type(column[0]) == list:\n",
    "            diff_val = pd.Series(sum(diff_val, [])).unique()\n",
    "        else:\n",
    "            diff_val = pd.Series(diff_val).unique()\n",
    "        num_diff_vals.append(len(diff_val))\n",
    "        diff_vals.append(diff_val)\n",
    "    profile = pd.DataFrame(([ missing_ratio, num_diff_vals, diff_vals]), columns = cate_col)\n",
    "    \n",
    "    index = pd.Series([\"missing_ratio%\", \"num_diff_vals\", \"diff_vals\"])\n",
    "    profile['Value'] = index\n",
    "    profile = pd.DataFrame(profile.set_index('Value'))\n",
    "    \n",
    "    return profile\n",
    "cate_col = ['id', 'name', 'overview', 'imdb_rate','certificate', 'director', 'cast', 'genre', 'keyword',\n",
    "             'country', 'language', 'location', 'company']\n",
    "cate_col_profiles_df = get_cate_col_profiles(df, cate_col)\n",
    "cate_col_profiles_df"
   ]
  },
  {
   "cell_type": "markdown",
   "id": "cd79ca07",
   "metadata": {},
   "source": [
    "`certificate` ta sẽ thay thế các giá trị bị thiếu thành `Unrate`"
   ]
  },
  {
   "cell_type": "code",
   "execution_count": 30,
   "id": "8fec42d1",
   "metadata": {},
   "outputs": [
    {
     "data": {
      "text/plain": [
       "R           529\n",
       "PG-13       298\n",
       "C16         169\n",
       "C18         122\n",
       "C13         114\n",
       "P            87\n",
       "PG           63\n",
       "(Banned)      9\n",
       "G             3\n",
       "NC-17         3\n",
       "Name: certificate, dtype: int64"
      ]
     },
     "execution_count": 30,
     "metadata": {},
     "output_type": "execute_result"
    }
   ],
   "source": [
    "df['certificate'].value_counts()"
   ]
  },
  {
   "cell_type": "code",
   "execution_count": 31,
   "id": "0e39e54e",
   "metadata": {},
   "outputs": [],
   "source": [
    "df['certificate'] = df['certificate'].fillna('Unrate')"
   ]
  },
  {
   "cell_type": "markdown",
   "id": "3f56da3b",
   "metadata": {},
   "source": [
    "- Các dữ liệu khác không có gì bất thường"
   ]
  },
  {
   "cell_type": "markdown",
   "id": "ba61a6e6",
   "metadata": {},
   "source": [
    "Lưu dữ liệu để chuẩn bị cho bước tiếp theo"
   ]
  },
  {
   "cell_type": "code",
   "execution_count": 32,
   "id": "8b0f93f6",
   "metadata": {},
   "outputs": [],
   "source": [
    "df.to_csv('../data/data_after_explore.csv', index = False, sep='\\t', encoding='utf-8')"
   ]
  }
 ],
 "metadata": {
  "kernelspec": {
   "display_name": "Python 3 (ipykernel)",
   "language": "python",
   "name": "python3"
  },
  "language_info": {
   "codemirror_mode": {
    "name": "ipython",
    "version": 3
   },
   "file_extension": ".py",
   "mimetype": "text/x-python",
   "name": "python",
   "nbconvert_exporter": "python",
   "pygments_lexer": "ipython3",
   "version": "3.9.12"
  }
 },
 "nbformat": 4,
 "nbformat_minor": 5
}
