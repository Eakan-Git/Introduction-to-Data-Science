{
 "cells": [
  {
   "cell_type": "code",
   "execution_count": null,
   "id": "77b3815f",
   "metadata": {},
   "outputs": [],
   "source": []
  },
  {
   "cell_type": "code",
   "execution_count": null,
   "id": "b5c39388",
   "metadata": {},
   "outputs": [],
   "source": []
  },
  {
   "cell_type": "code",
   "execution_count": 286,
   "id": "c5d28225",
   "metadata": {},
   "outputs": [],
   "source": [
    "import pandas as pd\n",
    "import numpy as np\n",
    "import datetime as dt\n",
    "import matplotlib.pyplot as plt\n",
    "import seaborn as sns\n",
    "import warnings\n",
    "warnings.simplefilter(action='ignore', category=FutureWarning)\n",
    "from collections import Counter"
   ]
  },
  {
   "cell_type": "markdown",
   "id": "c6294fab",
   "metadata": {},
   "source": [
    "# Data explorations"
   ]
  },
  {
   "cell_type": "code",
   "execution_count": 2,
   "id": "e01a6401",
   "metadata": {},
   "outputs": [
    {
     "data": {
      "text/html": [
       "<div>\n",
       "<style scoped>\n",
       "    .dataframe tbody tr th:only-of-type {\n",
       "        vertical-align: middle;\n",
       "    }\n",
       "\n",
       "    .dataframe tbody tr th {\n",
       "        vertical-align: top;\n",
       "    }\n",
       "\n",
       "    .dataframe thead th {\n",
       "        text-align: right;\n",
       "    }\n",
       "</style>\n",
       "<table border=\"1\" class=\"dataframe\">\n",
       "  <thead>\n",
       "    <tr style=\"text-align: right;\">\n",
       "      <th></th>\n",
       "      <th>id</th>\n",
       "      <th>name</th>\n",
       "      <th>overview</th>\n",
       "      <th>certificate</th>\n",
       "      <th>runtime</th>\n",
       "      <th>nvote</th>\n",
       "      <th>imdb_rate</th>\n",
       "      <th>director</th>\n",
       "      <th>cast</th>\n",
       "      <th>genre</th>\n",
       "      <th>keyword</th>\n",
       "      <th>release_date</th>\n",
       "      <th>country</th>\n",
       "      <th>language</th>\n",
       "      <th>location</th>\n",
       "      <th>company</th>\n",
       "      <th>budget</th>\n",
       "      <th>gross</th>\n",
       "    </tr>\n",
       "  </thead>\n",
       "  <tbody>\n",
       "    <tr>\n",
       "      <th>0</th>\n",
       "      <td>tt1375666</td>\n",
       "      <td>Kẻ Đánh Cắp Giấc Mơ</td>\n",
       "      <td>A thief who steals corporate secrets through t...</td>\n",
       "      <td>PG-13</td>\n",
       "      <td>148.0</td>\n",
       "      <td>2356036</td>\n",
       "      <td>8.8</td>\n",
       "      <td>Christopher Nolan</td>\n",
       "      <td>Leonardo DiCaprio, Joseph Gordon-Levitt, Ellio...</td>\n",
       "      <td>Action, Adventure, Sci-Fi, Thriller</td>\n",
       "      <td>dream,ambiguous ending,subconscious,mindbender...</td>\n",
       "      <td>August 6, 2010 (Vietnam)</td>\n",
       "      <td>United States, United Kingdom</td>\n",
       "      <td>English, Japanese, French</td>\n",
       "      <td>Fortress Mountain, Kananaskis Country, Alberta...</td>\n",
       "      <td>Warner Bros., Legendary Entertainment, Syncopy</td>\n",
       "      <td>$160,000,000</td>\n",
       "      <td>$836,848,102</td>\n",
       "    </tr>\n",
       "    <tr>\n",
       "      <th>1</th>\n",
       "      <td>tt0816692</td>\n",
       "      <td>Hố Đen Tử Thần</td>\n",
       "      <td>A team of explorers travel through a wormhole ...</td>\n",
       "      <td>C13</td>\n",
       "      <td>169.0</td>\n",
       "      <td>1835446</td>\n",
       "      <td>8.6</td>\n",
       "      <td>Christopher Nolan</td>\n",
       "      <td>Matthew McConaughey, Anne Hathaway, Jessica Ch...</td>\n",
       "      <td>Adventure, Drama, Sci-Fi</td>\n",
       "      <td>astronaut,saving the world,space travel,wormho...</td>\n",
       "      <td>November 7, 2014 (Vietnam)</td>\n",
       "      <td>United States, United Kingdom, Canada</td>\n",
       "      <td>English</td>\n",
       "      <td>Iceland</td>\n",
       "      <td>Paramount Pictures, Warner Bros., Legendary En...</td>\n",
       "      <td>$165,000,000</td>\n",
       "      <td>$773,867,216</td>\n",
       "    </tr>\n",
       "    <tr>\n",
       "      <th>2</th>\n",
       "      <td>tt1345836</td>\n",
       "      <td>Kỵ Sĩ Bóng Đêm Trỗi Dậy</td>\n",
       "      <td>Eight years after the Joker's reign of anarchy...</td>\n",
       "      <td>PG-13</td>\n",
       "      <td>164.0</td>\n",
       "      <td>1707832</td>\n",
       "      <td>8.4</td>\n",
       "      <td>Christopher Nolan</td>\n",
       "      <td>Christian Bale, Tom Hardy, Anne Hathaway, Gary...</td>\n",
       "      <td>Action, Drama</td>\n",
       "      <td>dc comics,batman character,bruce wayne charact...</td>\n",
       "      <td>July 27, 2012 (Vietnam)</td>\n",
       "      <td>United States, United Kingdom</td>\n",
       "      <td>English, Arabic</td>\n",
       "      <td>Mehrangarh Fort, Jodhpur, Rajasthan, India</td>\n",
       "      <td>Warner Bros., Legendary Entertainment, DC Ente...</td>\n",
       "      <td>$250,000,000</td>\n",
       "      <td>$1,081,169,825</td>\n",
       "    </tr>\n",
       "    <tr>\n",
       "      <th>3</th>\n",
       "      <td>tt1853728</td>\n",
       "      <td>Hành Trình Django</td>\n",
       "      <td>With the help of a German bounty-hunter, a fre...</td>\n",
       "      <td>R</td>\n",
       "      <td>165.0</td>\n",
       "      <td>1557694</td>\n",
       "      <td>8.4</td>\n",
       "      <td>Quentin Tarantino</td>\n",
       "      <td>Jamie Foxx, Christoph Waltz, Leonardo DiCaprio...</td>\n",
       "      <td>Drama, Western</td>\n",
       "      <td>slavery,racial vengeance,racial violence,ku kl...</td>\n",
       "      <td>March 15, 2013 (Vietnam)</td>\n",
       "      <td>United States</td>\n",
       "      <td>English, German, French, Italian</td>\n",
       "      <td>Evergreen Plantation, 4677 Highway 18, Edgard,...</td>\n",
       "      <td>The Weinstein Company, Columbia Pictures</td>\n",
       "      <td>$100,000,000</td>\n",
       "      <td>$426,074,373</td>\n",
       "    </tr>\n",
       "    <tr>\n",
       "      <th>4</th>\n",
       "      <td>tt0993846</td>\n",
       "      <td>Sói Già Phố Wall</td>\n",
       "      <td>Based on the true story of Jordan Belfort, fro...</td>\n",
       "      <td>R</td>\n",
       "      <td>180.0</td>\n",
       "      <td>1414845</td>\n",
       "      <td>8.2</td>\n",
       "      <td>Martin Scorsese</td>\n",
       "      <td>Leonardo DiCaprio, Jonah Hill, Margot Robbie, ...</td>\n",
       "      <td>Biography, Comedy, Crime, Drama</td>\n",
       "      <td>based on true story,stockbroker,debauchery,ext...</td>\n",
       "      <td>January 11, 2014 (Vietnam)</td>\n",
       "      <td>United States</td>\n",
       "      <td>English, French</td>\n",
       "      <td>Portofino, Genoa, Liguria, Italy</td>\n",
       "      <td>Red Granite Pictures, Appian Way, Sikelia Prod...</td>\n",
       "      <td>$100,000,000</td>\n",
       "      <td>$406,878,233</td>\n",
       "    </tr>\n",
       "    <tr>\n",
       "      <th>...</th>\n",
       "      <td>...</td>\n",
       "      <td>...</td>\n",
       "      <td>...</td>\n",
       "      <td>...</td>\n",
       "      <td>...</td>\n",
       "      <td>...</td>\n",
       "      <td>...</td>\n",
       "      <td>...</td>\n",
       "      <td>...</td>\n",
       "      <td>...</td>\n",
       "      <td>...</td>\n",
       "      <td>...</td>\n",
       "      <td>...</td>\n",
       "      <td>...</td>\n",
       "      <td>...</td>\n",
       "      <td>...</td>\n",
       "      <td>...</td>\n",
       "      <td>...</td>\n",
       "    </tr>\n",
       "    <tr>\n",
       "      <th>2245</th>\n",
       "      <td>tt7149730</td>\n",
       "      <td>The Silencing</td>\n",
       "      <td>A reformed hunter living in isolation on a wil...</td>\n",
       "      <td>R</td>\n",
       "      <td>93.0</td>\n",
       "      <td>26264</td>\n",
       "      <td>6.2</td>\n",
       "      <td>Robin Pront</td>\n",
       "      <td>Nikolaj Coster-Waldau, Caleb Ellsworth-Clark, ...</td>\n",
       "      <td>Action, Crime, Mystery, Thriller</td>\n",
       "      <td>serial killer,dead girl,wildlife sanctuary,she...</td>\n",
       "      <td>July 18, 2020 (United States)</td>\n",
       "      <td>Canada, United States</td>\n",
       "      <td>English</td>\n",
       "      <td>Sudbury, Ontario, Canada</td>\n",
       "      <td>Anova Pictures, Madrona Drive, Silencing Canad...</td>\n",
       "      <td>NaN</td>\n",
       "      <td>$170,653</td>\n",
       "    </tr>\n",
       "    <tr>\n",
       "      <th>2246</th>\n",
       "      <td>tt12838766</td>\n",
       "      <td>Con Tàu Chiến Thắng</td>\n",
       "      <td>Set in the year 2092 and follows the crew of a...</td>\n",
       "      <td>C16</td>\n",
       "      <td>136.0</td>\n",
       "      <td>26254</td>\n",
       "      <td>6.5</td>\n",
       "      <td>Sung-hee Jo</td>\n",
       "      <td>Song Joong-ki, Kim Tae-ri, Jin Seon-kyu, Hae-J...</td>\n",
       "      <td>Action, Adventure, Drama, Fantasy, Sci-Fi</td>\n",
       "      <td>space pirate,android,robot sci fi,adopting a d...</td>\n",
       "      <td>February 5, 2021 (South Korea)</td>\n",
       "      <td>South Korea</td>\n",
       "      <td>Korean, English, Spanish, Danish, French, Germ...</td>\n",
       "      <td>Seoul, South Korea</td>\n",
       "      <td>Bidangil Pictures</td>\n",
       "      <td>NaN</td>\n",
       "      <td>$24,571</td>\n",
       "    </tr>\n",
       "    <tr>\n",
       "      <th>2247</th>\n",
       "      <td>tt6432466</td>\n",
       "      <td>Moxie: Nữ Giới Mạnh Mẽ</td>\n",
       "      <td>Inspired by her mom's rebellious past and a co...</td>\n",
       "      <td>PG-13</td>\n",
       "      <td>111.0</td>\n",
       "      <td>26250</td>\n",
       "      <td>6.7</td>\n",
       "      <td>Amy Poehler</td>\n",
       "      <td>Hadley Robinson, Lauren Tsai, Alycia Pascual-P...</td>\n",
       "      <td>Comedy, Drama, Music</td>\n",
       "      <td>teenager,f rated,feminist,feminist film,bad dream</td>\n",
       "      <td>March 3, 2021 (United States)</td>\n",
       "      <td>United States</td>\n",
       "      <td>English</td>\n",
       "      <td>Los Angeles, California, USA</td>\n",
       "      <td>Netflix, Paper Kite Productions</td>\n",
       "      <td>NaN</td>\n",
       "      <td>NaN</td>\n",
       "    </tr>\n",
       "    <tr>\n",
       "      <th>2248</th>\n",
       "      <td>tt4257926</td>\n",
       "      <td>Miracles from Heaven</td>\n",
       "      <td>Based on the incredible true story of the Beam...</td>\n",
       "      <td>PG</td>\n",
       "      <td>109.0</td>\n",
       "      <td>26229</td>\n",
       "      <td>7.1</td>\n",
       "      <td>Patricia Riggen</td>\n",
       "      <td>Jennifer Garner, Kylie Rogers, Martin Henderso...</td>\n",
       "      <td>Biography, Drama, Family</td>\n",
       "      <td>christian film,christianity,christian,hospital...</td>\n",
       "      <td>March 16, 2016 (United States)</td>\n",
       "      <td>United States</td>\n",
       "      <td>English</td>\n",
       "      <td>Atlanta, Georgia, USA</td>\n",
       "      <td>Columbia Pictures, Affirm Films, Roth Films</td>\n",
       "      <td>$13,000,000</td>\n",
       "      <td>$74,072,344</td>\n",
       "    </tr>\n",
       "    <tr>\n",
       "      <th>2249</th>\n",
       "      <td>tt2372678</td>\n",
       "      <td>2 States</td>\n",
       "      <td>This movie chronicles how Chetan met his wife ...</td>\n",
       "      <td>NaN</td>\n",
       "      <td>149.0</td>\n",
       "      <td>26178</td>\n",
       "      <td>6.9</td>\n",
       "      <td>Abhishek Varman</td>\n",
       "      <td>Arjun Kapoor, Alia Bhatt, Amrita Singh, Revathi</td>\n",
       "      <td>Comedy, Drama, Romance</td>\n",
       "      <td>chennai,punjabi,culture clash,ahmedabad india,...</td>\n",
       "      <td>April 18, 2014 (India)</td>\n",
       "      <td>India</td>\n",
       "      <td>Hindi</td>\n",
       "      <td>India</td>\n",
       "      <td>Dharma Productions, Nadiadwala Grandson Entert...</td>\n",
       "      <td>NaN</td>\n",
       "      <td>$22,386,518</td>\n",
       "    </tr>\n",
       "  </tbody>\n",
       "</table>\n",
       "<p>2250 rows × 18 columns</p>\n",
       "</div>"
      ],
      "text/plain": [
       "              id                     name  \\\n",
       "0      tt1375666      Kẻ Đánh Cắp Giấc Mơ   \n",
       "1      tt0816692           Hố Đen Tử Thần   \n",
       "2      tt1345836  Kỵ Sĩ Bóng Đêm Trỗi Dậy   \n",
       "3      tt1853728        Hành Trình Django   \n",
       "4      tt0993846         Sói Già Phố Wall   \n",
       "...          ...                      ...   \n",
       "2245   tt7149730            The Silencing   \n",
       "2246  tt12838766      Con Tàu Chiến Thắng   \n",
       "2247   tt6432466   Moxie: Nữ Giới Mạnh Mẽ   \n",
       "2248   tt4257926     Miracles from Heaven   \n",
       "2249   tt2372678                 2 States   \n",
       "\n",
       "                                               overview certificate  runtime  \\\n",
       "0     A thief who steals corporate secrets through t...       PG-13    148.0   \n",
       "1     A team of explorers travel through a wormhole ...         C13    169.0   \n",
       "2     Eight years after the Joker's reign of anarchy...       PG-13    164.0   \n",
       "3     With the help of a German bounty-hunter, a fre...           R    165.0   \n",
       "4     Based on the true story of Jordan Belfort, fro...           R    180.0   \n",
       "...                                                 ...         ...      ...   \n",
       "2245  A reformed hunter living in isolation on a wil...           R     93.0   \n",
       "2246  Set in the year 2092 and follows the crew of a...         C16    136.0   \n",
       "2247  Inspired by her mom's rebellious past and a co...       PG-13    111.0   \n",
       "2248  Based on the incredible true story of the Beam...          PG    109.0   \n",
       "2249  This movie chronicles how Chetan met his wife ...         NaN    149.0   \n",
       "\n",
       "        nvote  imdb_rate           director  \\\n",
       "0     2356036        8.8  Christopher Nolan   \n",
       "1     1835446        8.6  Christopher Nolan   \n",
       "2     1707832        8.4  Christopher Nolan   \n",
       "3     1557694        8.4  Quentin Tarantino   \n",
       "4     1414845        8.2    Martin Scorsese   \n",
       "...       ...        ...                ...   \n",
       "2245    26264        6.2        Robin Pront   \n",
       "2246    26254        6.5        Sung-hee Jo   \n",
       "2247    26250        6.7        Amy Poehler   \n",
       "2248    26229        7.1    Patricia Riggen   \n",
       "2249    26178        6.9    Abhishek Varman   \n",
       "\n",
       "                                                   cast  \\\n",
       "0     Leonardo DiCaprio, Joseph Gordon-Levitt, Ellio...   \n",
       "1     Matthew McConaughey, Anne Hathaway, Jessica Ch...   \n",
       "2     Christian Bale, Tom Hardy, Anne Hathaway, Gary...   \n",
       "3     Jamie Foxx, Christoph Waltz, Leonardo DiCaprio...   \n",
       "4     Leonardo DiCaprio, Jonah Hill, Margot Robbie, ...   \n",
       "...                                                 ...   \n",
       "2245  Nikolaj Coster-Waldau, Caleb Ellsworth-Clark, ...   \n",
       "2246  Song Joong-ki, Kim Tae-ri, Jin Seon-kyu, Hae-J...   \n",
       "2247  Hadley Robinson, Lauren Tsai, Alycia Pascual-P...   \n",
       "2248  Jennifer Garner, Kylie Rogers, Martin Henderso...   \n",
       "2249    Arjun Kapoor, Alia Bhatt, Amrita Singh, Revathi   \n",
       "\n",
       "                                          genre  \\\n",
       "0           Action, Adventure, Sci-Fi, Thriller   \n",
       "1                      Adventure, Drama, Sci-Fi   \n",
       "2                                 Action, Drama   \n",
       "3                                Drama, Western   \n",
       "4               Biography, Comedy, Crime, Drama   \n",
       "...                                         ...   \n",
       "2245           Action, Crime, Mystery, Thriller   \n",
       "2246  Action, Adventure, Drama, Fantasy, Sci-Fi   \n",
       "2247                       Comedy, Drama, Music   \n",
       "2248                   Biography, Drama, Family   \n",
       "2249                     Comedy, Drama, Romance   \n",
       "\n",
       "                                                keyword  \\\n",
       "0     dream,ambiguous ending,subconscious,mindbender...   \n",
       "1     astronaut,saving the world,space travel,wormho...   \n",
       "2     dc comics,batman character,bruce wayne charact...   \n",
       "3     slavery,racial vengeance,racial violence,ku kl...   \n",
       "4     based on true story,stockbroker,debauchery,ext...   \n",
       "...                                                 ...   \n",
       "2245  serial killer,dead girl,wildlife sanctuary,she...   \n",
       "2246  space pirate,android,robot sci fi,adopting a d...   \n",
       "2247  teenager,f rated,feminist,feminist film,bad dream   \n",
       "2248  christian film,christianity,christian,hospital...   \n",
       "2249  chennai,punjabi,culture clash,ahmedabad india,...   \n",
       "\n",
       "                        release_date                                country  \\\n",
       "0           August 6, 2010 (Vietnam)          United States, United Kingdom   \n",
       "1         November 7, 2014 (Vietnam)  United States, United Kingdom, Canada   \n",
       "2            July 27, 2012 (Vietnam)          United States, United Kingdom   \n",
       "3           March 15, 2013 (Vietnam)                          United States   \n",
       "4         January 11, 2014 (Vietnam)                          United States   \n",
       "...                              ...                                    ...   \n",
       "2245   July 18, 2020 (United States)                  Canada, United States   \n",
       "2246  February 5, 2021 (South Korea)                            South Korea   \n",
       "2247   March 3, 2021 (United States)                          United States   \n",
       "2248  March 16, 2016 (United States)                          United States   \n",
       "2249          April 18, 2014 (India)                                  India   \n",
       "\n",
       "                                               language  \\\n",
       "0                             English, Japanese, French   \n",
       "1                                               English   \n",
       "2                                       English, Arabic   \n",
       "3                      English, German, French, Italian   \n",
       "4                                       English, French   \n",
       "...                                                 ...   \n",
       "2245                                            English   \n",
       "2246  Korean, English, Spanish, Danish, French, Germ...   \n",
       "2247                                            English   \n",
       "2248                                            English   \n",
       "2249                                              Hindi   \n",
       "\n",
       "                                               location  \\\n",
       "0     Fortress Mountain, Kananaskis Country, Alberta...   \n",
       "1                                               Iceland   \n",
       "2            Mehrangarh Fort, Jodhpur, Rajasthan, India   \n",
       "3     Evergreen Plantation, 4677 Highway 18, Edgard,...   \n",
       "4                      Portofino, Genoa, Liguria, Italy   \n",
       "...                                                 ...   \n",
       "2245                           Sudbury, Ontario, Canada   \n",
       "2246                                 Seoul, South Korea   \n",
       "2247                       Los Angeles, California, USA   \n",
       "2248                              Atlanta, Georgia, USA   \n",
       "2249                                              India   \n",
       "\n",
       "                                                company        budget  \\\n",
       "0        Warner Bros., Legendary Entertainment, Syncopy  $160,000,000   \n",
       "1     Paramount Pictures, Warner Bros., Legendary En...  $165,000,000   \n",
       "2     Warner Bros., Legendary Entertainment, DC Ente...  $250,000,000   \n",
       "3              The Weinstein Company, Columbia Pictures  $100,000,000   \n",
       "4     Red Granite Pictures, Appian Way, Sikelia Prod...  $100,000,000   \n",
       "...                                                 ...           ...   \n",
       "2245  Anova Pictures, Madrona Drive, Silencing Canad...           NaN   \n",
       "2246                                  Bidangil Pictures           NaN   \n",
       "2247                    Netflix, Paper Kite Productions           NaN   \n",
       "2248        Columbia Pictures, Affirm Films, Roth Films   $13,000,000   \n",
       "2249  Dharma Productions, Nadiadwala Grandson Entert...           NaN   \n",
       "\n",
       "               gross  \n",
       "0       $836,848,102  \n",
       "1       $773,867,216  \n",
       "2     $1,081,169,825  \n",
       "3       $426,074,373  \n",
       "4       $406,878,233  \n",
       "...              ...  \n",
       "2245        $170,653  \n",
       "2246         $24,571  \n",
       "2247             NaN  \n",
       "2248     $74,072,344  \n",
       "2249     $22,386,518  \n",
       "\n",
       "[2250 rows x 18 columns]"
      ]
     },
     "execution_count": 2,
     "metadata": {},
     "output_type": "execute_result"
    }
   ],
   "source": [
    "df = pd.read_csv('film.csv', sep='\\t')\n",
    "df"
   ]
  },
  {
   "cell_type": "code",
   "execution_count": 3,
   "id": "74819cd9",
   "metadata": {},
   "outputs": [
    {
     "data": {
      "text/plain": [
       "(2250, 18)"
      ]
     },
     "execution_count": 3,
     "metadata": {},
     "output_type": "execute_result"
    }
   ],
   "source": [
    "df.shape"
   ]
  },
  {
   "cell_type": "markdown",
   "id": "54197acd",
   "metadata": {},
   "source": [
    "Dữ liệu có 2250 dòng và 18 cột"
   ]
  },
  {
   "cell_type": "markdown",
   "id": "7349f805",
   "metadata": {},
   "source": [
    "#### Các cột là các thuộc tính của một bộ phim"
   ]
  },
  {
   "cell_type": "markdown",
   "id": "08cd52ea",
   "metadata": {},
   "source": [
    "Các cột:\n",
    "- `id`: id của phim\n",
    "- `name`: Tên phim\n",
    "- `overview`: Mô tả tổng quát phim\n",
    "- `certificate`: Phân loại phim:\n",
    "                - G, P (General Audiences) – Phim dành cho mọi lứa tuổi\n",
    "                - PG (Parental Guidance Suggested) – Phim có thể có một số chi tiết (hình ảnh, từ ngữ) không phù hợp với \n",
    "                trẻ nhỏ. Bố mẹ cần cân nhắc khi cho con cái xem phim\n",
    "                - PG-13 (Parents Strongly Cautioned) – Phim có một số chi tiết không phù hợp với trẻ dưới 13 tuổi.\n",
    "                - R (Restricted) – Thanh thiếu niên dưới 17 tuổi không được xem phim nếu không có sự đồng ý của người lớn.\n",
    "                - C13 - Phim dành cho người trên 13 tuổi.\n",
    "                - C16 - Phim dành cho người trên 16 tuổi.\n",
    "                - C18 - Phim dành cho người trên 18 tuổi.\n",
    "                - NC17 -(No One 17 and Under Admitted) – Phim hoàn toàn không dành cho khán giả dưới 17 tuổi\n",
    "                - (Banned) - Phim bị cấm chiếu ở một số nơi.\n",
    "                - Not Rated, Unrate - Phim không hoặc chưa được đánh giá.\n",
    "- `runtime`: Thời lượng phim (phút).\n",
    "- `genre`: Thể loại( Action, Adventure, Animation, Biography, Comedy, Crime, Documentary, Drama, Family, Fantasy, Film Noir, History, Horror, Music Musical, Mystery, Romance, Sci-Fi, Short Film, Sport, Superhero, Thriller, War, Western)\n",
    "- `keywords`: Các từ khóa liên quan đến phim.\n",
    "- `imdb_rate`: Số điểm đánh giá từ IMDB\n",
    "- `nvote`: Số lượt đánh giá\n",
    "- `director`: danh sách các đạo diễn \n",
    "- `Casts`: danh sách các diễn viên nổi bật của phim\n",
    "- `release_date`: Ngày công chiếu\n",
    "- `countries`: Country of origin\n",
    "- `language` : Ngôn ngữ trong phim\n",
    "- `locations` : Địa điểm quay phim\n",
    "- `company` : Công ty sản xuất\n",
    "- `gross`: Doanh thu của phim (M Dollar)\n"
   ]
  },
  {
   "cell_type": "code",
   "execution_count": 4,
   "id": "4cd775c6",
   "metadata": {
    "scrolled": true
   },
   "outputs": [
    {
     "data": {
      "text/html": [
       "<div>\n",
       "<style scoped>\n",
       "    .dataframe tbody tr th:only-of-type {\n",
       "        vertical-align: middle;\n",
       "    }\n",
       "\n",
       "    .dataframe tbody tr th {\n",
       "        vertical-align: top;\n",
       "    }\n",
       "\n",
       "    .dataframe thead th {\n",
       "        text-align: right;\n",
       "    }\n",
       "</style>\n",
       "<table border=\"1\" class=\"dataframe\">\n",
       "  <thead>\n",
       "    <tr style=\"text-align: right;\">\n",
       "      <th></th>\n",
       "      <th>id</th>\n",
       "      <th>name</th>\n",
       "      <th>overview</th>\n",
       "      <th>certificate</th>\n",
       "      <th>runtime</th>\n",
       "      <th>nvote</th>\n",
       "      <th>imdb_rate</th>\n",
       "      <th>director</th>\n",
       "      <th>cast</th>\n",
       "      <th>genre</th>\n",
       "      <th>keyword</th>\n",
       "      <th>release_date</th>\n",
       "      <th>country</th>\n",
       "      <th>language</th>\n",
       "      <th>location</th>\n",
       "      <th>company</th>\n",
       "      <th>budget</th>\n",
       "      <th>gross</th>\n",
       "    </tr>\n",
       "  </thead>\n",
       "  <tbody>\n",
       "    <tr>\n",
       "      <th>818</th>\n",
       "      <td>tt1007029</td>\n",
       "      <td>Người Đàn Bà Thép</td>\n",
       "      <td>An elderly Margaret Thatcher talks to the imag...</td>\n",
       "      <td>PG-13</td>\n",
       "      <td>105.0</td>\n",
       "      <td>110367</td>\n",
       "      <td>6.4</td>\n",
       "      <td>Phyllida Lloyd</td>\n",
       "      <td>Meryl Streep, Jim Broadbent, Richard E. Grant,...</td>\n",
       "      <td>Biography, Drama</td>\n",
       "      <td>british female politician,british prime minist...</td>\n",
       "      <td>January 6, 2012 (United Kingdom)</td>\n",
       "      <td>United Kingdom, France</td>\n",
       "      <td>English</td>\n",
       "      <td>Eaton Square, Belgravia, London, England, UK</td>\n",
       "      <td>DJ Films, Pathé, Film4</td>\n",
       "      <td>$13,000,000</td>\n",
       "      <td>$115,890,699</td>\n",
       "    </tr>\n",
       "  </tbody>\n",
       "</table>\n",
       "</div>"
      ],
      "text/plain": [
       "            id               name  \\\n",
       "818  tt1007029  Người Đàn Bà Thép   \n",
       "\n",
       "                                              overview certificate  runtime  \\\n",
       "818  An elderly Margaret Thatcher talks to the imag...       PG-13    105.0   \n",
       "\n",
       "      nvote  imdb_rate        director  \\\n",
       "818  110367        6.4  Phyllida Lloyd   \n",
       "\n",
       "                                                  cast             genre  \\\n",
       "818  Meryl Streep, Jim Broadbent, Richard E. Grant,...  Biography, Drama   \n",
       "\n",
       "                                               keyword  \\\n",
       "818  british female politician,british prime minist...   \n",
       "\n",
       "                         release_date                 country language  \\\n",
       "818  January 6, 2012 (United Kingdom)  United Kingdom, France  English   \n",
       "\n",
       "                                         location                 company  \\\n",
       "818  Eaton Square, Belgravia, London, England, UK  DJ Films, Pathé, Film4   \n",
       "\n",
       "          budget         gross  \n",
       "818  $13,000,000  $115,890,699  "
      ]
     },
     "execution_count": 4,
     "metadata": {},
     "output_type": "execute_result"
    }
   ],
   "source": [
    "df.sample()"
   ]
  },
  {
   "cell_type": "markdown",
   "id": "9e174b7e",
   "metadata": {},
   "source": [
    "Mỗi dòng là thông tin về các thuộc tính của 1 phim"
   ]
  },
  {
   "cell_type": "code",
   "execution_count": 5,
   "id": "225f1217",
   "metadata": {},
   "outputs": [
    {
     "data": {
      "text/plain": [
       "0"
      ]
     },
     "execution_count": 5,
     "metadata": {},
     "output_type": "execute_result"
    }
   ],
   "source": [
    "df.index.duplicated(keep='first').sum()"
   ]
  },
  {
   "cell_type": "markdown",
   "id": "4b43dc01",
   "metadata": {},
   "source": [
    "Dữ liệu không có dòng bị lặp"
   ]
  },
  {
   "cell_type": "markdown",
   "id": "db669aac",
   "metadata": {},
   "source": [
    "#### Kiểu dữ liệu của các cột:"
   ]
  },
  {
   "cell_type": "code",
   "execution_count": 6,
   "id": "129a202e",
   "metadata": {},
   "outputs": [
    {
     "data": {
      "text/plain": [
       "id               object\n",
       "name             object\n",
       "overview         object\n",
       "certificate      object\n",
       "runtime         float64\n",
       "nvote             int64\n",
       "imdb_rate       float64\n",
       "director         object\n",
       "cast             object\n",
       "genre            object\n",
       "keyword          object\n",
       "release_date     object\n",
       "country          object\n",
       "language         object\n",
       "location         object\n",
       "company          object\n",
       "budget           object\n",
       "gross            object\n",
       "dtype: object"
      ]
     },
     "execution_count": 6,
     "metadata": {},
     "output_type": "execute_result"
    }
   ],
   "source": [
    "df.dtypes"
   ]
  },
  {
   "cell_type": "markdown",
   "id": "b2ba0743",
   "metadata": {},
   "source": [
    "Các cột có type là `object`. Cần tìm type chính xác của các cột này"
   ]
  },
  {
   "cell_type": "code",
   "execution_count": 7,
   "id": "202342c9",
   "metadata": {},
   "outputs": [],
   "source": [
    "def open_object_dtype(s):\n",
    "    dtypes = set()\n",
    "    dtypes = set(s.apply(type))\n",
    "    return dtypes"
   ]
  },
  {
   "cell_type": "code",
   "execution_count": 8,
   "id": "b2f99c96",
   "metadata": {
    "scrolled": true
   },
   "outputs": [
    {
     "name": "stdout",
     "output_type": "stream",
     "text": [
      "id: {<class 'str'>}\n",
      "name: {<class 'str'>}\n",
      "overview: {<class 'str'>}\n",
      "keyword: {<class 'str'>, <class 'float'>}\n",
      "certificate: {<class 'str'>, <class 'float'>}\n",
      "genres: {<class 'str'>}\n",
      "director: {<class 'str'>}\n",
      "cast: {<class 'str'>}\n",
      "release_date: {<class 'str'>}\n",
      "country: {<class 'str'>}\n",
      "language: {<class 'str'>}\n",
      "location: {<class 'str'>, <class 'float'>}\n",
      "company: {<class 'str'>, <class 'float'>}\n",
      "gross: {<class 'str'>, <class 'float'>}\n",
      "budget: {<class 'str'>, <class 'float'>}\n"
     ]
    }
   ],
   "source": [
    "\n",
    "print('id:', open_object_dtype(df['id']))\n",
    "print('name:', open_object_dtype(df['name']))\n",
    "print('overview:', open_object_dtype(df['overview']))\n",
    "print('keyword:', open_object_dtype(df['keyword']))\n",
    "print('certificate:', open_object_dtype(df['certificate']))\n",
    "print('genres:', open_object_dtype(df['genre']))\n",
    "print('director:', open_object_dtype(df['director']))\n",
    "print('cast:', open_object_dtype(df['cast']))\n",
    "print('release_date:', open_object_dtype(df['release_date']))\n",
    "print('country:', open_object_dtype(df['country']))\n",
    "print('language:', open_object_dtype(df['language']))\n",
    "print('location:', open_object_dtype(df['location']))\n",
    "print('company:', open_object_dtype(df['company']))\n",
    "print('gross:', open_object_dtype(df['gross']))\n",
    "print('budget:', open_object_dtype(df['budget']))"
   ]
  },
  {
   "cell_type": "markdown",
   "id": "64249e92",
   "metadata": {},
   "source": [
    "Nhận xét:\n",
    "- Column `keyword` `tagline` `certificate` `location` có một số giá trị có kiểu `float` do mang giá trị NULL\n",
    "\n",
    "- Các column `keyword` `genre` `director` `star` `language` `location` `company`  phải là list tuy nhiên đang có type là 'str'\n",
    "\n",
    "- `release_date` chưa có kiểu dữ liệu là datetime\n",
    "\n",
    "- `gross` và `budget` cần  có type là float"
   ]
  },
  {
   "cell_type": "markdown",
   "id": "6a2de366",
   "metadata": {},
   "source": [
    "#### Chỉnh sửa các column về kiểu dữ liệu phù hợp\n",
    "\n",
    "* Các column dạng list"
   ]
  },
  {
   "cell_type": "code",
   "execution_count": 9,
   "id": "4bfc47a0",
   "metadata": {},
   "outputs": [],
   "source": [
    "df['keyword'] = df['keyword'].apply(lambda x: x.split(\",\") if(type(x) == str) else x)\n",
    "df['genre'] = df['genre'].apply(lambda x: x.split(\", \") if(type(x) == str) else x)\n",
    "df['director'] = df['director'].apply(lambda x: x.split(\", \") if(type(x) == str) else x)\n",
    "df['cast'] = df['cast'].apply(lambda x: x.split(\", \") if(type(x) == str) else x)\n",
    "df['language'] = df['language'].apply(lambda x: x.split(\", \") if(type(x) == str) else x)\n",
    "df['location'] = df['location'].apply(lambda x: x.split(\", \") if(type(x) == str) else x)\n",
    "df['company'] = df['company'].apply(lambda x: x.split(\", \") if(type(x) == str) else x)"
   ]
  },
  {
   "cell_type": "markdown",
   "id": "6c938044",
   "metadata": {},
   "source": [
    "* Column `release_date`"
   ]
  },
  {
   "cell_type": "code",
   "execution_count": 10,
   "id": "5e3a357d",
   "metadata": {},
   "outputs": [
    {
     "data": {
      "text/html": [
       "<div>\n",
       "<style scoped>\n",
       "    .dataframe tbody tr th:only-of-type {\n",
       "        vertical-align: middle;\n",
       "    }\n",
       "\n",
       "    .dataframe tbody tr th {\n",
       "        vertical-align: top;\n",
       "    }\n",
       "\n",
       "    .dataframe thead th {\n",
       "        text-align: right;\n",
       "    }\n",
       "</style>\n",
       "<table border=\"1\" class=\"dataframe\">\n",
       "  <thead>\n",
       "    <tr style=\"text-align: right;\">\n",
       "      <th></th>\n",
       "      <th>release_date</th>\n",
       "    </tr>\n",
       "  </thead>\n",
       "  <tbody>\n",
       "    <tr>\n",
       "      <th>964</th>\n",
       "      <td>April 11, 2014 (Vietnam)</td>\n",
       "    </tr>\n",
       "    <tr>\n",
       "      <th>2191</th>\n",
       "      <td>February 12, 2021 (United States)</td>\n",
       "    </tr>\n",
       "    <tr>\n",
       "      <th>821</th>\n",
       "      <td>August 17, 2018 (United States)</td>\n",
       "    </tr>\n",
       "    <tr>\n",
       "      <th>700</th>\n",
       "      <td>April 18, 2014 (Vietnam)</td>\n",
       "    </tr>\n",
       "    <tr>\n",
       "      <th>381</th>\n",
       "      <td>April 8, 2011 (Vietnam)</td>\n",
       "    </tr>\n",
       "  </tbody>\n",
       "</table>\n",
       "</div>"
      ],
      "text/plain": [
       "                           release_date\n",
       "964            April 11, 2014 (Vietnam)\n",
       "2191  February 12, 2021 (United States)\n",
       "821     August 17, 2018 (United States)\n",
       "700            April 18, 2014 (Vietnam)\n",
       "381             April 8, 2011 (Vietnam)"
      ]
     },
     "execution_count": 10,
     "metadata": {},
     "output_type": "execute_result"
    }
   ],
   "source": [
    "df[['release_date']].sample(n = 5)"
   ]
  },
  {
   "cell_type": "code",
   "execution_count": 11,
   "id": "fb7eb628",
   "metadata": {},
   "outputs": [],
   "source": [
    "def try_parsing_date(text):\n",
    "    date = text.split(' (')[0]\n",
    "    for fmt in ('%B %d, %Y', '%B %Y', '%Y'):\n",
    "        try:\n",
    "            return dt.datetime.strptime(date, fmt)\n",
    "        except ValueError:\n",
    "            pass\n",
    "    raise ValueError('no valid date format found' ,date )"
   ]
  },
  {
   "cell_type": "code",
   "execution_count": 12,
   "id": "d06bd266",
   "metadata": {},
   "outputs": [],
   "source": [
    "df['release_date'] = df['release_date'].apply(lambda x: try_parsing_date(x) if(type(x) == str) else x )"
   ]
  },
  {
   "cell_type": "markdown",
   "id": "e76524e6",
   "metadata": {},
   "source": [
    "* Thêm column `year` vào dataframe"
   ]
  },
  {
   "cell_type": "code",
   "execution_count": 13,
   "id": "53a55f9c",
   "metadata": {},
   "outputs": [],
   "source": [
    "df['year'] = df['release_date'].apply(lambda x: x.year)"
   ]
  },
  {
   "cell_type": "markdown",
   "id": "71bed36e",
   "metadata": {},
   "source": [
    "- Chuyển `gross` và `budget` sang kiểu số"
   ]
  },
  {
   "cell_type": "code",
   "execution_count": 14,
   "id": "257cb4cd",
   "metadata": {},
   "outputs": [
    {
     "data": {
      "text/html": [
       "<div>\n",
       "<style scoped>\n",
       "    .dataframe tbody tr th:only-of-type {\n",
       "        vertical-align: middle;\n",
       "    }\n",
       "\n",
       "    .dataframe tbody tr th {\n",
       "        vertical-align: top;\n",
       "    }\n",
       "\n",
       "    .dataframe thead th {\n",
       "        text-align: right;\n",
       "    }\n",
       "</style>\n",
       "<table border=\"1\" class=\"dataframe\">\n",
       "  <thead>\n",
       "    <tr style=\"text-align: right;\">\n",
       "      <th></th>\n",
       "      <th>gross</th>\n",
       "      <th>budget</th>\n",
       "    </tr>\n",
       "  </thead>\n",
       "  <tbody>\n",
       "    <tr>\n",
       "      <th>2063</th>\n",
       "      <td>$16,706,074</td>\n",
       "      <td>NaN</td>\n",
       "    </tr>\n",
       "    <tr>\n",
       "      <th>742</th>\n",
       "      <td>$304,868,961</td>\n",
       "      <td>$125,000,000</td>\n",
       "    </tr>\n",
       "    <tr>\n",
       "      <th>1344</th>\n",
       "      <td>$108,255,770</td>\n",
       "      <td>$60,000,000</td>\n",
       "    </tr>\n",
       "    <tr>\n",
       "      <th>1044</th>\n",
       "      <td>$21,107,746</td>\n",
       "      <td>$1,800,000</td>\n",
       "    </tr>\n",
       "    <tr>\n",
       "      <th>2049</th>\n",
       "      <td>$3,777,046</td>\n",
       "      <td>$8,900,000</td>\n",
       "    </tr>\n",
       "    <tr>\n",
       "      <th>460</th>\n",
       "      <td>$409,231,607</td>\n",
       "      <td>$125,000,000</td>\n",
       "    </tr>\n",
       "    <tr>\n",
       "      <th>1259</th>\n",
       "      <td>$39,346,577</td>\n",
       "      <td>₹450,000,000</td>\n",
       "    </tr>\n",
       "    <tr>\n",
       "      <th>699</th>\n",
       "      <td>$524,580,592</td>\n",
       "      <td>$129,000,000</td>\n",
       "    </tr>\n",
       "    <tr>\n",
       "      <th>584</th>\n",
       "      <td>$415,686,217</td>\n",
       "      <td>$155,000,000</td>\n",
       "    </tr>\n",
       "    <tr>\n",
       "      <th>418</th>\n",
       "      <td>$470,116,094</td>\n",
       "      <td>$200,000,000</td>\n",
       "    </tr>\n",
       "    <tr>\n",
       "      <th>1697</th>\n",
       "      <td>NaN</td>\n",
       "      <td>NaN</td>\n",
       "    </tr>\n",
       "    <tr>\n",
       "      <th>1059</th>\n",
       "      <td>$1,501,595</td>\n",
       "      <td>NaN</td>\n",
       "    </tr>\n",
       "    <tr>\n",
       "      <th>2241</th>\n",
       "      <td>NaN</td>\n",
       "      <td>NaN</td>\n",
       "    </tr>\n",
       "    <tr>\n",
       "      <th>924</th>\n",
       "      <td>$43,709,744</td>\n",
       "      <td>$8,500,000</td>\n",
       "    </tr>\n",
       "    <tr>\n",
       "      <th>503</th>\n",
       "      <td>NaN</td>\n",
       "      <td>$150,000,000</td>\n",
       "    </tr>\n",
       "    <tr>\n",
       "      <th>127</th>\n",
       "      <td>$55,198,285</td>\n",
       "      <td>$5,000,000</td>\n",
       "    </tr>\n",
       "    <tr>\n",
       "      <th>364</th>\n",
       "      <td>$127,461,872</td>\n",
       "      <td>$90,000,000</td>\n",
       "    </tr>\n",
       "    <tr>\n",
       "      <th>1112</th>\n",
       "      <td>$61,548,707</td>\n",
       "      <td>$15,000,000</td>\n",
       "    </tr>\n",
       "    <tr>\n",
       "      <th>1336</th>\n",
       "      <td>NaN</td>\n",
       "      <td>NaN</td>\n",
       "    </tr>\n",
       "    <tr>\n",
       "      <th>1976</th>\n",
       "      <td>$41,142,379</td>\n",
       "      <td>$34,000,000</td>\n",
       "    </tr>\n",
       "  </tbody>\n",
       "</table>\n",
       "</div>"
      ],
      "text/plain": [
       "             gross        budget\n",
       "2063   $16,706,074           NaN\n",
       "742   $304,868,961  $125,000,000\n",
       "1344  $108,255,770   $60,000,000\n",
       "1044   $21,107,746    $1,800,000\n",
       "2049    $3,777,046    $8,900,000\n",
       "460   $409,231,607  $125,000,000\n",
       "1259   $39,346,577  ₹450,000,000\n",
       "699   $524,580,592  $129,000,000\n",
       "584   $415,686,217  $155,000,000\n",
       "418   $470,116,094  $200,000,000\n",
       "1697           NaN           NaN\n",
       "1059    $1,501,595           NaN\n",
       "2241           NaN           NaN\n",
       "924    $43,709,744    $8,500,000\n",
       "503            NaN  $150,000,000\n",
       "127    $55,198,285    $5,000,000\n",
       "364   $127,461,872   $90,000,000\n",
       "1112   $61,548,707   $15,000,000\n",
       "1336           NaN           NaN\n",
       "1976   $41,142,379   $34,000,000"
      ]
     },
     "execution_count": 14,
     "metadata": {},
     "output_type": "execute_result"
    }
   ],
   "source": [
    "df[['gross', 'budget']].sample(20)"
   ]
  },
  {
   "cell_type": "code",
   "execution_count": 15,
   "id": "5f5b3cf0",
   "metadata": {},
   "outputs": [],
   "source": [
    "def get_unit(money):\n",
    "    money = money.replace(',', '')\n",
    "    unit = ''.join(x for x in money if not x.isdigit())\n",
    "    return unit\n",
    "def get_number(money):\n",
    "    money = money.replace(',', '')\n",
    "    number = ''.join(x for x in money if x.isdigit())\n",
    "    return float(number)"
   ]
  },
  {
   "cell_type": "code",
   "execution_count": 16,
   "id": "76ccd868",
   "metadata": {},
   "outputs": [
    {
     "data": {
      "text/plain": [
       "array(['$', nan], dtype=object)"
      ]
     },
     "execution_count": 16,
     "metadata": {},
     "output_type": "execute_result"
    }
   ],
   "source": [
    "units = df['gross'].apply(lambda x: get_unit(x) if(type(x) == str) else x).unique()\n",
    "units"
   ]
  },
  {
   "cell_type": "code",
   "execution_count": 17,
   "id": "399931f0",
   "metadata": {},
   "outputs": [
    {
     "data": {
      "text/plain": [
       "array(['$', '€', '£', nan, '¥', '₩', '₹', 'TRL\\xa0', 'NOK\\xa0', 'A$',\n",
       "       'CA$', 'DKK\\xa0', 'SEK\\xa0', 'MVR\\xa0', 'NZ$', 'PKR\\xa0', 'R$',\n",
       "       'BDT\\xa0'], dtype=object)"
      ]
     },
     "execution_count": 17,
     "metadata": {},
     "output_type": "execute_result"
    }
   ],
   "source": [
    "units = df['budget'].apply(lambda x: get_unit(x) if(type(x) == str) else x).unique()\n",
    "units"
   ]
  },
  {
   "cell_type": "markdown",
   "id": "d41c6745",
   "metadata": {},
   "source": [
    "`Budget` có nhiều loại tiền khác nhau, cần chuyển sang $."
   ]
  },
  {
   "cell_type": "code",
   "execution_count": 18,
   "id": "fdf136b4",
   "metadata": {},
   "outputs": [],
   "source": [
    "def to_usd(money):\n",
    "    unit = get_unit(money)\n",
    "    number = get_number(money)\n",
    "    if unit == '$':\n",
    "        number = number\n",
    "    elif unit == '€':\n",
    "        number = number * 1.07\n",
    "    elif unit == '£':\n",
    "        number = number * 1.22\n",
    "    elif unit == '¥':\n",
    "        number = number * 0.0076\n",
    "    elif unit == '₩':\n",
    "        number = number * 0.0008\n",
    "    elif unit == '₹':\n",
    "        number = number * 0.012\n",
    "    elif unit == 'TRL\\xa0':\n",
    "        number = number * 0.053\n",
    "    elif unit == 'NOK\\xa0':\n",
    "        number = number * 0.1\n",
    "    elif unit == 'NOK\\xa0':\n",
    "        number = number * 0.1\n",
    "    elif unit == 'A$':\n",
    "        number = number * 0.69\n",
    "    elif unit == 'CA$':\n",
    "        number = number * 0.75\n",
    "    elif unit == 'DKK\\xa0':\n",
    "        number = number * 0.14\n",
    "    elif unit == 'SEK\\xa0':\n",
    "        number = number * 0.096\n",
    "    elif unit == 'MVR\\xa0':\n",
    "        number = number * 0.065\n",
    "    elif unit == 'NZ$':\n",
    "        number = number * 0.64\n",
    "    elif unit == 'PKR\\xa0':\n",
    "        number = number * 0.0044\n",
    "    elif unit == 'R$':\n",
    "        number = number * 0.19\n",
    "    elif unit == 'BDT\\xa0':\n",
    "        number = number * 0.0095\n",
    "    return number / 1000000"
   ]
  },
  {
   "cell_type": "code",
   "execution_count": 19,
   "id": "443df55f",
   "metadata": {},
   "outputs": [],
   "source": [
    "df['budget'] = df['budget'].apply(lambda x: to_usd(x) if(type(x) == str) else x)"
   ]
  },
  {
   "cell_type": "code",
   "execution_count": 20,
   "id": "c0c7f0df",
   "metadata": {},
   "outputs": [],
   "source": [
    "df['gross'] = df['gross'].apply(lambda x: to_usd(x) if(type(x) == str) else x)"
   ]
  },
  {
   "cell_type": "markdown",
   "id": "52f66f25",
   "metadata": {},
   "source": [
    "### Phân bố của từng column"
   ]
  },
  {
   "cell_type": "markdown",
   "id": "d7cebe74",
   "metadata": {},
   "source": [
    "### - Numeric column"
   ]
  },
  {
   "cell_type": "code",
   "execution_count": 21,
   "id": "b2e6c006",
   "metadata": {},
   "outputs": [],
   "source": [
    "# YOUR CODE HERE\n",
    "num_col_info_df = df.select_dtypes(exclude='object')\n",
    "def missing_ratio(s):\n",
    "    return (s.isna().mean() * 100)\n",
    "\n",
    "def median(df):\n",
    "    return (df.quantile(0.5))\n",
    "\n",
    "def lower_quartile(df):\n",
    "    return (df.quantile(0.25))\n",
    "\n",
    "def upper_quartile(df):\n",
    "    return (df.quantile(0.75))"
   ]
  },
  {
   "cell_type": "code",
   "execution_count": 22,
   "id": "bc5eb8c5",
   "metadata": {},
   "outputs": [],
   "source": [
    "num_col_info_df = num_col_info_df.agg([missing_ratio , min, lower_quartile, median, upper_quartile, max])"
   ]
  },
  {
   "cell_type": "code",
   "execution_count": 23,
   "id": "a9a442f7",
   "metadata": {},
   "outputs": [
    {
     "data": {
      "text/html": [
       "<div>\n",
       "<style scoped>\n",
       "    .dataframe tbody tr th:only-of-type {\n",
       "        vertical-align: middle;\n",
       "    }\n",
       "\n",
       "    .dataframe tbody tr th {\n",
       "        vertical-align: top;\n",
       "    }\n",
       "\n",
       "    .dataframe thead th {\n",
       "        text-align: right;\n",
       "    }\n",
       "</style>\n",
       "<table border=\"1\" class=\"dataframe\">\n",
       "  <thead>\n",
       "    <tr style=\"text-align: right;\">\n",
       "      <th></th>\n",
       "      <th>runtime</th>\n",
       "      <th>nvote</th>\n",
       "      <th>imdb_rate</th>\n",
       "      <th>release_date</th>\n",
       "      <th>budget</th>\n",
       "      <th>gross</th>\n",
       "      <th>year</th>\n",
       "    </tr>\n",
       "  </thead>\n",
       "  <tbody>\n",
       "    <tr>\n",
       "      <th>missing_ratio</th>\n",
       "      <td>0.044444</td>\n",
       "      <td>0.00</td>\n",
       "      <td>0.0</td>\n",
       "      <td>0.0</td>\n",
       "      <td>22.00000</td>\n",
       "      <td>7.377778</td>\n",
       "      <td>0.0</td>\n",
       "    </tr>\n",
       "    <tr>\n",
       "      <th>min</th>\n",
       "      <td>46.000000</td>\n",
       "      <td>26178.00</td>\n",
       "      <td>1.0</td>\n",
       "      <td>2010-01-08 00:00:00</td>\n",
       "      <td>0.00001</td>\n",
       "      <td>0.000693</td>\n",
       "      <td>2010.0</td>\n",
       "    </tr>\n",
       "    <tr>\n",
       "      <th>lower_quartile</th>\n",
       "      <td>98.000000</td>\n",
       "      <td>42945.25</td>\n",
       "      <td>6.1</td>\n",
       "      <td>2013-01-19 18:00:00</td>\n",
       "      <td>10.45000</td>\n",
       "      <td>8.514890</td>\n",
       "      <td>2013.0</td>\n",
       "    </tr>\n",
       "    <tr>\n",
       "      <th>median</th>\n",
       "      <td>109.000000</td>\n",
       "      <td>77059.00</td>\n",
       "      <td>6.6</td>\n",
       "      <td>2015-09-21 12:00:00</td>\n",
       "      <td>28.00000</td>\n",
       "      <td>44.111135</td>\n",
       "      <td>2015.0</td>\n",
       "    </tr>\n",
       "    <tr>\n",
       "      <th>upper_quartile</th>\n",
       "      <td>123.000000</td>\n",
       "      <td>162205.75</td>\n",
       "      <td>7.2</td>\n",
       "      <td>2018-08-17 00:00:00</td>\n",
       "      <td>62.50000</td>\n",
       "      <td>149.495924</td>\n",
       "      <td>2018.0</td>\n",
       "    </tr>\n",
       "    <tr>\n",
       "      <th>max</th>\n",
       "      <td>321.000000</td>\n",
       "      <td>2356036.00</td>\n",
       "      <td>9.0</td>\n",
       "      <td>2022-10-21 00:00:00</td>\n",
       "      <td>356.00000</td>\n",
       "      <td>2797.501328</td>\n",
       "      <td>2022.0</td>\n",
       "    </tr>\n",
       "  </tbody>\n",
       "</table>\n",
       "</div>"
      ],
      "text/plain": [
       "                   runtime       nvote  imdb_rate         release_date  \\\n",
       "missing_ratio     0.044444        0.00        0.0                  0.0   \n",
       "min              46.000000    26178.00        1.0  2010-01-08 00:00:00   \n",
       "lower_quartile   98.000000    42945.25        6.1  2013-01-19 18:00:00   \n",
       "median          109.000000    77059.00        6.6  2015-09-21 12:00:00   \n",
       "upper_quartile  123.000000   162205.75        7.2  2018-08-17 00:00:00   \n",
       "max             321.000000  2356036.00        9.0  2022-10-21 00:00:00   \n",
       "\n",
       "                   budget        gross    year  \n",
       "missing_ratio    22.00000     7.377778     0.0  \n",
       "min               0.00001     0.000693  2010.0  \n",
       "lower_quartile   10.45000     8.514890  2013.0  \n",
       "median           28.00000    44.111135  2015.0  \n",
       "upper_quartile   62.50000   149.495924  2018.0  \n",
       "max             356.00000  2797.501328  2022.0  "
      ]
     },
     "execution_count": 23,
     "metadata": {},
     "output_type": "execute_result"
    }
   ],
   "source": [
    "num_col_info_df"
   ]
  },
  {
   "cell_type": "markdown",
   "id": "70029bf8",
   "metadata": {},
   "source": [
    "### - Categorical column"
   ]
  },
  {
   "cell_type": "code",
   "execution_count": 24,
   "id": "e6d6909a",
   "metadata": {},
   "outputs": [
    {
     "data": {
      "text/html": [
       "<div>\n",
       "<style scoped>\n",
       "    .dataframe tbody tr th:only-of-type {\n",
       "        vertical-align: middle;\n",
       "    }\n",
       "\n",
       "    .dataframe tbody tr th {\n",
       "        vertical-align: top;\n",
       "    }\n",
       "\n",
       "    .dataframe thead th {\n",
       "        text-align: right;\n",
       "    }\n",
       "</style>\n",
       "<table border=\"1\" class=\"dataframe\">\n",
       "  <thead>\n",
       "    <tr style=\"text-align: right;\">\n",
       "      <th></th>\n",
       "      <th>id</th>\n",
       "      <th>name</th>\n",
       "      <th>overview</th>\n",
       "      <th>certificate</th>\n",
       "      <th>director</th>\n",
       "      <th>cast</th>\n",
       "      <th>genre</th>\n",
       "      <th>keyword</th>\n",
       "      <th>country</th>\n",
       "      <th>language</th>\n",
       "      <th>location</th>\n",
       "      <th>company</th>\n",
       "    </tr>\n",
       "    <tr>\n",
       "      <th>Value</th>\n",
       "      <th></th>\n",
       "      <th></th>\n",
       "      <th></th>\n",
       "      <th></th>\n",
       "      <th></th>\n",
       "      <th></th>\n",
       "      <th></th>\n",
       "      <th></th>\n",
       "      <th></th>\n",
       "      <th></th>\n",
       "      <th></th>\n",
       "      <th></th>\n",
       "    </tr>\n",
       "  </thead>\n",
       "  <tbody>\n",
       "    <tr>\n",
       "      <th>missing_ratio%</th>\n",
       "      <td>0.0</td>\n",
       "      <td>0.0</td>\n",
       "      <td>0.0</td>\n",
       "      <td>13.955556</td>\n",
       "      <td>0.0</td>\n",
       "      <td>0.0</td>\n",
       "      <td>0.0</td>\n",
       "      <td>0.088889</td>\n",
       "      <td>0.0</td>\n",
       "      <td>0.0</td>\n",
       "      <td>5.644444</td>\n",
       "      <td>0.088889</td>\n",
       "    </tr>\n",
       "    <tr>\n",
       "      <th>num_diff_vals</th>\n",
       "      <td>2250</td>\n",
       "      <td>2242</td>\n",
       "      <td>2250</td>\n",
       "      <td>12</td>\n",
       "      <td>1409</td>\n",
       "      <td>4013</td>\n",
       "      <td>20</td>\n",
       "      <td>5455</td>\n",
       "      <td>477</td>\n",
       "      <td>137</td>\n",
       "      <td>2061</td>\n",
       "      <td>2289</td>\n",
       "    </tr>\n",
       "    <tr>\n",
       "      <th>diff_vals</th>\n",
       "      <td>[tt1375666, tt0816692, tt1345836, tt1853728, t...</td>\n",
       "      <td>[Kẻ Đánh Cắp Giấc Mơ, Hố Đen Tử Thần, Kỵ Sĩ Bó...</td>\n",
       "      <td>[A thief who steals corporate secrets through ...</td>\n",
       "      <td>[PG-13, C13, R, P, C18, C16, (Banned), PG, G, ...</td>\n",
       "      <td>[Christopher Nolan, Quentin Tarantino, Martin ...</td>\n",
       "      <td>[Leonardo DiCaprio, Joseph Gordon-Levitt, Elli...</td>\n",
       "      <td>[Action, Adventure, Sci-Fi, Thriller, Drama, W...</td>\n",
       "      <td>[dream, ambiguous ending, subconscious, mindbe...</td>\n",
       "      <td>[United States, United Kingdom, United States,...</td>\n",
       "      <td>[English, Japanese, French, Arabic, German, It...</td>\n",
       "      <td>[Fortress Mountain, Kananaskis Country, Albert...</td>\n",
       "      <td>[Warner Bros., Legendary Entertainment, Syncop...</td>\n",
       "    </tr>\n",
       "  </tbody>\n",
       "</table>\n",
       "</div>"
      ],
      "text/plain": [
       "                                                               id  \\\n",
       "Value                                                               \n",
       "missing_ratio%                                                0.0   \n",
       "num_diff_vals                                                2250   \n",
       "diff_vals       [tt1375666, tt0816692, tt1345836, tt1853728, t...   \n",
       "\n",
       "                                                             name  \\\n",
       "Value                                                               \n",
       "missing_ratio%                                                0.0   \n",
       "num_diff_vals                                                2242   \n",
       "diff_vals       [Kẻ Đánh Cắp Giấc Mơ, Hố Đen Tử Thần, Kỵ Sĩ Bó...   \n",
       "\n",
       "                                                         overview  \\\n",
       "Value                                                               \n",
       "missing_ratio%                                                0.0   \n",
       "num_diff_vals                                                2250   \n",
       "diff_vals       [A thief who steals corporate secrets through ...   \n",
       "\n",
       "                                                      certificate  \\\n",
       "Value                                                               \n",
       "missing_ratio%                                          13.955556   \n",
       "num_diff_vals                                                  12   \n",
       "diff_vals       [PG-13, C13, R, P, C18, C16, (Banned), PG, G, ...   \n",
       "\n",
       "                                                         director  \\\n",
       "Value                                                               \n",
       "missing_ratio%                                                0.0   \n",
       "num_diff_vals                                                1409   \n",
       "diff_vals       [Christopher Nolan, Quentin Tarantino, Martin ...   \n",
       "\n",
       "                                                             cast  \\\n",
       "Value                                                               \n",
       "missing_ratio%                                                0.0   \n",
       "num_diff_vals                                                4013   \n",
       "diff_vals       [Leonardo DiCaprio, Joseph Gordon-Levitt, Elli...   \n",
       "\n",
       "                                                            genre  \\\n",
       "Value                                                               \n",
       "missing_ratio%                                                0.0   \n",
       "num_diff_vals                                                  20   \n",
       "diff_vals       [Action, Adventure, Sci-Fi, Thriller, Drama, W...   \n",
       "\n",
       "                                                          keyword  \\\n",
       "Value                                                               \n",
       "missing_ratio%                                           0.088889   \n",
       "num_diff_vals                                                5455   \n",
       "diff_vals       [dream, ambiguous ending, subconscious, mindbe...   \n",
       "\n",
       "                                                          country  \\\n",
       "Value                                                               \n",
       "missing_ratio%                                                0.0   \n",
       "num_diff_vals                                                 477   \n",
       "diff_vals       [United States, United Kingdom, United States,...   \n",
       "\n",
       "                                                         language  \\\n",
       "Value                                                               \n",
       "missing_ratio%                                                0.0   \n",
       "num_diff_vals                                                 137   \n",
       "diff_vals       [English, Japanese, French, Arabic, German, It...   \n",
       "\n",
       "                                                         location  \\\n",
       "Value                                                               \n",
       "missing_ratio%                                           5.644444   \n",
       "num_diff_vals                                                2061   \n",
       "diff_vals       [Fortress Mountain, Kananaskis Country, Albert...   \n",
       "\n",
       "                                                          company  \n",
       "Value                                                              \n",
       "missing_ratio%                                           0.088889  \n",
       "num_diff_vals                                                2289  \n",
       "diff_vals       [Warner Bros., Legendary Entertainment, Syncop...  "
      ]
     },
     "execution_count": 24,
     "metadata": {},
     "output_type": "execute_result"
    }
   ],
   "source": [
    "def get_cate_col_profiles(df, cate_col):\n",
    "    missing_ratio = []\n",
    "    num_diff_vals = []\n",
    "    diff_vals = []\n",
    "    for col in cate_col:\n",
    "        column = df[col].dropna()\n",
    "        missing_ratio.append( 100 - len(column) / 2250 * 100)\n",
    "        diff_val = column.to_list()\n",
    "        if type(column[0]) == list:\n",
    "            diff_val = pd.Series(sum(diff_val, [])).unique()\n",
    "        else:\n",
    "            diff_val = pd.Series(diff_val).unique()\n",
    "        num_diff_vals.append(len(diff_val))\n",
    "        diff_vals.append(diff_val)\n",
    "    profile = pd.DataFrame(([ missing_ratio, num_diff_vals, diff_vals]), columns = cate_col)\n",
    "    \n",
    "    index = pd.Series([\"missing_ratio%\", \"num_diff_vals\", \"diff_vals\"])\n",
    "    profile['Value'] = index\n",
    "    profile = pd.DataFrame(profile.set_index('Value'))\n",
    "    \n",
    "    return profile\n",
    "cate_col = ['id', 'name', 'overview', 'certificate',  'director', 'cast', 'genre', 'keyword',\n",
    "             'country', 'language', 'location', 'company' ]\n",
    "cate_col_profiles_df = get_cate_col_profiles(df, cate_col)\n",
    "cate_col_profiles_df"
   ]
  },
  {
   "cell_type": "markdown",
   "id": "41f2c9b3",
   "metadata": {},
   "source": [
    "`certificate` ta sẽ thay thế các giá trị bị thiếu thành `Unrate`"
   ]
  },
  {
   "cell_type": "code",
   "execution_count": 25,
   "id": "657f3ddc",
   "metadata": {},
   "outputs": [],
   "source": [
    "df['certificate'] = df['certificate'].fillna('Unrate')"
   ]
  },
  {
   "cell_type": "markdown",
   "id": "2c445fbd",
   "metadata": {},
   "source": [
    "Ta sẽ xóa đi các dòng chứa missing_value"
   ]
  },
  {
   "cell_type": "code",
   "execution_count": 26,
   "id": "ccb18321",
   "metadata": {},
   "outputs": [],
   "source": [
    "df = df[df.isnull().sum(axis=1) < 1]"
   ]
  },
  {
   "cell_type": "code",
   "execution_count": 27,
   "id": "b159b47e",
   "metadata": {},
   "outputs": [
    {
     "data": {
      "text/plain": [
       "(1640, 19)"
      ]
     },
     "execution_count": 27,
     "metadata": {},
     "output_type": "execute_result"
    }
   ],
   "source": [
    "df.shape"
   ]
  },
  {
   "cell_type": "markdown",
   "id": "534fbde8",
   "metadata": {},
   "source": [
    "# 2. Đặt câu hỏi:"
   ]
  },
  {
   "cell_type": "markdown",
   "id": "cef8c533",
   "metadata": {},
   "source": [
    "### 2.5. Tháng nào có số lượng phim phát hành nhiều nhất, tháng nào có doanh thu trung bình cao nhất? So sánh doanh thu trung bình của phim ra mắt trong `mùa phim` và phim ra mắt vào các tháng khác."
   ]
  },
  {
   "cell_type": "markdown",
   "id": "b182a8ad",
   "metadata": {},
   "source": [
    "Ta xem sơ qua dữ liệu của cột `release_date`"
   ]
  },
  {
   "cell_type": "code",
   "execution_count": 28,
   "id": "c17b5fbd",
   "metadata": {},
   "outputs": [
    {
     "data": {
      "text/plain": [
       "0   2010-08-06\n",
       "1   2014-11-07\n",
       "2   2012-07-27\n",
       "3   2013-03-15\n",
       "4   2014-01-11\n",
       "5   2012-04-27\n",
       "6   2010-04-02\n",
       "7   2019-10-04\n",
       "8   2014-08-01\n",
       "9   2019-04-26\n",
       "Name: release_date, dtype: datetime64[ns]"
      ]
     },
     "execution_count": 28,
     "metadata": {},
     "output_type": "execute_result"
    }
   ],
   "source": [
    "df.release_date.head(10)"
   ]
  },
  {
   "cell_type": "markdown",
   "id": "78cd8d77",
   "metadata": {},
   "source": [
    "Sau đó, trích thông tin tháng phát hành phim ra:"
   ]
  },
  {
   "cell_type": "code",
   "execution_count": 95,
   "id": "3d40c9e8",
   "metadata": {},
   "outputs": [],
   "source": [
    "month_release = df.release_date.dt.month"
   ]
  },
  {
   "cell_type": "markdown",
   "id": "3084444f",
   "metadata": {},
   "source": [
    "Đếm số lượng phim được phát hành trong từng tháng"
   ]
  },
  {
   "cell_type": "code",
   "execution_count": 96,
   "id": "a270dd2a",
   "metadata": {},
   "outputs": [],
   "source": [
    "number_of_release = month_release.value_counts().sort_index()\n",
    "months=['Jan','Feb','Mar','Apr','May','Jun','Jul','Aug','Sep','Oct','Nov','Dec']\n",
    "number_of_release = pd.DataFrame(number_of_release)\n",
    "number_of_release['month'] = months\n",
    "number_of_release.rename(columns = {'release_date':'number_of_release'},inplace=True)"
   ]
  },
  {
   "cell_type": "markdown",
   "id": "1aca8c33",
   "metadata": {},
   "source": [
    "Xem biểu đồ số lượng phim được phát hành trong các tháng để tìm `mùa phim`"
   ]
  },
  {
   "cell_type": "code",
   "execution_count": 97,
   "id": "f5b2eeee",
   "metadata": {},
   "outputs": [
    {
     "data": {
      "image/png": "[encoded data removed]",
      "text/plain": [
       "<Figure size 800x600 with 1 Axes>"
      ]
     },
     "metadata": {},
     "output_type": "display_data"
    }
   ],
   "source": [
    "number_of_release.plot(x='month',kind='bar',fontsize = 11,figsize=(8,6))\n",
    "plt.title('Months vs Number Of Movie Releases',fontsize = 15)\n",
    "plt.xlabel('Month',fontsize = 13)\n",
    "plt.ylabel('Number of movie releases',fontsize = 13)\n",
    "sns.set_style(\"darkgrid\")"
   ]
  },
  {
   "cell_type": "markdown",
   "id": "1cef18a1",
   "metadata": {},
   "source": [
    "Từ biểu đồ này, ta thấy được dịp `cuối năm` - tức từ `tháng 9 đến tháng 12` thì số lượng phim được phát hành là nhiều và đồng đều nhất, `tháng 3` tuy cũng có số lượng phim nhiều tuy nhiên các tháng kế thì không có sự tương đồng. Vậy, `quý cuối năm` sẽ là `mùa phim`."
   ]
  },
  {
   "cell_type": "code",
   "execution_count": 109,
   "id": "5f02199c",
   "metadata": {},
   "outputs": [
    {
     "name": "stdout",
     "output_type": "stream",
     "text": [
      "2010-01-08 00:00:00 2022-06-24 00:00:00\n"
     ]
    }
   ],
   "source": [
    "# Xem tháng min-max\n",
    "print(df.release_date.min(), df.release_date.max())"
   ]
  },
  {
   "cell_type": "code",
   "execution_count": 113,
   "id": "f74e351c",
   "metadata": {},
   "outputs": [
    {
     "data": {
      "image/png": "[encoded data removed]",
      "text/plain": [
       "<Figure size 800x600 with 1 Axes>"
      ]
     },
     "metadata": {},
     "output_type": "display_data"
    }
   ],
   "source": [
    "month_release = pd.DataFrame(month_release)\n",
    "month_release.rename(columns = {'release_date':'release_month'},inplace=True)\n",
    "month_release['gross'] = df['gross']\n",
    "\n",
    "mean_gross  = month_release.groupby('release_month').mean()\n",
    "mean_gross['month'] = months\n",
    "\n",
    "mean_gross.plot(x='month',kind='bar',figsize = (8,6),fontsize=11)\n",
    "\n",
    "plt.title('Average gross by month (2010 - 2022)',fontsize = 15)\n",
    "plt.xlabel('Month',fontsize = 13)\n",
    "plt.ylabel('Average Gross',fontsize = 13)\n",
    "sns.set_style(\"darkgrid\")"
   ]
  },
  {
   "cell_type": "markdown",
   "id": "ed562a6c",
   "metadata": {},
   "source": [
    "Qua kết quả ở trên, `tháng 4` là tháng có doanh thu trung bình cao nhất. Tuy nhiên, tháng 4 lại `không nằm trong mùa phim`.\n",
    "\n",
    "Thú vị hơn nữa, `tháng 4 và tháng 7` tuy có số lượng phim ra mắt thấp nhất nhưng lại đem về doanh thu thuộc hàng cao nhất trong các tháng.\n",
    "\n",
    "Có thể thấy, phim được ra mắt trong `mùa phim` có vẻ khó đem lại lợi nhuận hơn khi mà có rất nhiều phim cạnh tranh ra mắt cùng lúc? Nếu có dịp chúng ta sẽ đào sâu hơn về vấn đề này."
   ]
  },
  {
   "cell_type": "markdown",
   "id": "052a7053",
   "metadata": {},
   "source": [
    "### 2.6. Phim được gán nhãn nào thu hút nhiều lượt đánh giá nhất? Phim chứa nhãn thu hút nhất thuộc thể loại gì và nên được phát hành vào tháng nào trong năm?"
   ]
  },
  {
   "cell_type": "markdown",
   "id": "b59a4bd5",
   "metadata": {},
   "source": [
    "Đầu tiên, ta xem số lượt đánh giá cho từng nhãn phim và điểm trung bình của chúng:"
   ]
  },
  {
   "cell_type": "code",
   "execution_count": 172,
   "id": "97820205",
   "metadata": {},
   "outputs": [
    {
     "data": {
      "text/html": [
       "<div>\n",
       "<style scoped>\n",
       "    .dataframe tbody tr th:only-of-type {\n",
       "        vertical-align: middle;\n",
       "    }\n",
       "\n",
       "    .dataframe tbody tr th {\n",
       "        vertical-align: top;\n",
       "    }\n",
       "\n",
       "    .dataframe thead th {\n",
       "        text-align: right;\n",
       "    }\n",
       "</style>\n",
       "<table border=\"1\" class=\"dataframe\">\n",
       "  <thead>\n",
       "    <tr style=\"text-align: right;\">\n",
       "      <th></th>\n",
       "      <th>certificate</th>\n",
       "      <th>nvote</th>\n",
       "      <th>imdb_rate</th>\n",
       "    </tr>\n",
       "  </thead>\n",
       "  <tbody>\n",
       "    <tr>\n",
       "      <th>0</th>\n",
       "      <td>R</td>\n",
       "      <td>90759818</td>\n",
       "      <td>6.536950</td>\n",
       "    </tr>\n",
       "    <tr>\n",
       "      <th>1</th>\n",
       "      <td>PG-13</td>\n",
       "      <td>59963315</td>\n",
       "      <td>6.503090</td>\n",
       "    </tr>\n",
       "    <tr>\n",
       "      <th>2</th>\n",
       "      <td>C16</td>\n",
       "      <td>38362107</td>\n",
       "      <td>6.435976</td>\n",
       "    </tr>\n",
       "    <tr>\n",
       "      <th>3</th>\n",
       "      <td>C13</td>\n",
       "      <td>38130237</td>\n",
       "      <td>6.676316</td>\n",
       "    </tr>\n",
       "    <tr>\n",
       "      <th>4</th>\n",
       "      <td>C18</td>\n",
       "      <td>22506977</td>\n",
       "      <td>6.670707</td>\n",
       "    </tr>\n",
       "    <tr>\n",
       "      <th>5</th>\n",
       "      <td>P</td>\n",
       "      <td>18355894</td>\n",
       "      <td>6.775325</td>\n",
       "    </tr>\n",
       "    <tr>\n",
       "      <th>6</th>\n",
       "      <td>PG</td>\n",
       "      <td>7923468</td>\n",
       "      <td>6.493333</td>\n",
       "    </tr>\n",
       "    <tr>\n",
       "      <th>7</th>\n",
       "      <td>Unrate</td>\n",
       "      <td>5375339</td>\n",
       "      <td>6.855882</td>\n",
       "    </tr>\n",
       "    <tr>\n",
       "      <th>8</th>\n",
       "      <td>(Banned)</td>\n",
       "      <td>1748424</td>\n",
       "      <td>5.645455</td>\n",
       "    </tr>\n",
       "    <tr>\n",
       "      <th>9</th>\n",
       "      <td>G</td>\n",
       "      <td>685569</td>\n",
       "      <td>6.000000</td>\n",
       "    </tr>\n",
       "    <tr>\n",
       "      <th>10</th>\n",
       "      <td>NC-17</td>\n",
       "      <td>352056</td>\n",
       "      <td>7.450000</td>\n",
       "    </tr>\n",
       "  </tbody>\n",
       "</table>\n",
       "</div>"
      ],
      "text/plain": [
       "   certificate     nvote  imdb_rate\n",
       "0            R  90759818   6.536950\n",
       "1        PG-13  59963315   6.503090\n",
       "2          C16  38362107   6.435976\n",
       "3          C13  38130237   6.676316\n",
       "4          C18  22506977   6.670707\n",
       "5            P  18355894   6.775325\n",
       "6           PG   7923468   6.493333\n",
       "7       Unrate   5375339   6.855882\n",
       "8     (Banned)   1748424   5.645455\n",
       "9            G    685569   6.000000\n",
       "10       NC-17    352056   7.450000"
      ]
     },
     "execution_count": 172,
     "metadata": {},
     "output_type": "execute_result"
    }
   ],
   "source": [
    "votes_per_cert = pd.DataFrame(df.groupby('certificate')['nvote'].sum())\n",
    "votes_per_cert['imdb_rate'] = df.groupby('certificate')['imdb_rate'].mean()\n",
    "votes_per_cert = votes_per_cert.sort_values(by=['nvote'], ascending=False).reset_index()\n",
    "votes_per_cert"
   ]
  },
  {
   "cell_type": "code",
   "execution_count": 215,
   "id": "d34fcfb4",
   "metadata": {},
   "outputs": [
    {
     "data": {
      "image/png": "[encoded data removed]",
      "text/plain": [
       "<Figure size 500x500 with 1 Axes>"
      ]
     },
     "metadata": {},
     "output_type": "display_data"
    }
   ],
   "source": [
    "votes_per_cert.groupby(['certificate']).sum().plot(kind='pie', y='nvote', figsize=(5,5), autopct='%1.1f%%').legend(loc='best', bbox_to_anchor=(1, 0., 0.5, 0.5));"
   ]
  },
  {
   "cell_type": "markdown",
   "id": "e84da08b",
   "metadata": {},
   "source": [
    "Ta thấy, `nhãn R (Restricted) – Thanh thiếu niên dưới 17 tuổi không được xem phim nếu không có sự đồng ý của người lớn.` thu hút mọi người đánh giá nhiều nhất. Thậm chí nhãn này còn bỏ xa nhãn đứng thứ 2 là PG-13 đến hơn 10% (gần 30 triệu lượt đánh giá). Đều này cho thấy mọi người có hứng thú hơn hết với các bộ phim được gán nhãn R."
   ]
  },
  {
   "cell_type": "markdown",
   "id": "db4168ae",
   "metadata": {},
   "source": [
    "**Chúng ta hãy cùng tìm hiểu xem phim có chứa nhãn R nên được phát hành vào tháng nào**"
   ]
  },
  {
   "cell_type": "markdown",
   "id": "ae282157",
   "metadata": {},
   "source": [
    "Đầu tiên, ta sẽ lấy các dữ liệu cần thiết:\n",
    "* Tên phim\n",
    "* Tháng phát hành\n",
    "* Doanh thu"
   ]
  },
  {
   "cell_type": "code",
   "execution_count": 271,
   "id": "8813f9fe",
   "metadata": {},
   "outputs": [
    {
     "data": {
      "text/html": [
       "<div>\n",
       "<style scoped>\n",
       "    .dataframe tbody tr th:only-of-type {\n",
       "        vertical-align: middle;\n",
       "    }\n",
       "\n",
       "    .dataframe tbody tr th {\n",
       "        vertical-align: top;\n",
       "    }\n",
       "\n",
       "    .dataframe thead th {\n",
       "        text-align: right;\n",
       "    }\n",
       "</style>\n",
       "<table border=\"1\" class=\"dataframe\">\n",
       "  <thead>\n",
       "    <tr style=\"text-align: right;\">\n",
       "      <th></th>\n",
       "      <th>name</th>\n",
       "      <th>release_month</th>\n",
       "      <th>gross</th>\n",
       "      <th>genre</th>\n",
       "    </tr>\n",
       "  </thead>\n",
       "  <tbody>\n",
       "    <tr>\n",
       "      <th>502</th>\n",
       "      <td>Tìm Tung Tích Mẹ</td>\n",
       "      <td>1</td>\n",
       "      <td>6.788659</td>\n",
       "      <td>[Drama, Mystery]</td>\n",
       "    </tr>\n",
       "    <tr>\n",
       "      <th>1468</th>\n",
       "      <td>Texas Chainsaw 3D</td>\n",
       "      <td>1</td>\n",
       "      <td>47.340586</td>\n",
       "      <td>[Horror, Thriller]</td>\n",
       "    </tr>\n",
       "    <tr>\n",
       "      <th>846</th>\n",
       "      <td>The Little Things</td>\n",
       "      <td>1</td>\n",
       "      <td>30.842746</td>\n",
       "      <td>[Crime, Drama, Mystery, Thriller]</td>\n",
       "    </tr>\n",
       "    <tr>\n",
       "      <th>1712</th>\n",
       "      <td>Trò Chơi Tình Ái</td>\n",
       "      <td>1</td>\n",
       "      <td>14.454622</td>\n",
       "      <td>[Drama, Mystery, Thriller]</td>\n",
       "    </tr>\n",
       "    <tr>\n",
       "      <th>1710</th>\n",
       "      <td>Diêm Sinh</td>\n",
       "      <td>1</td>\n",
       "      <td>2.140941</td>\n",
       "      <td>[Drama, Mystery, Thriller, Western]</td>\n",
       "    </tr>\n",
       "    <tr>\n",
       "      <th>...</th>\n",
       "      <td>...</td>\n",
       "      <td>...</td>\n",
       "      <td>...</td>\n",
       "      <td>...</td>\n",
       "    </tr>\n",
       "    <tr>\n",
       "      <th>1736</th>\n",
       "      <td>Hundraåringen som klev ut genom fönstret och f...</td>\n",
       "      <td>12</td>\n",
       "      <td>51.167572</td>\n",
       "      <td>[Adventure, Comedy]</td>\n",
       "    </tr>\n",
       "    <tr>\n",
       "      <th>1031</th>\n",
       "      <td>Tuổi Mới Lớn</td>\n",
       "      <td>12</td>\n",
       "      <td>22.939027</td>\n",
       "      <td>[Comedy, Drama]</td>\n",
       "    </tr>\n",
       "    <tr>\n",
       "      <th>1425</th>\n",
       "      <td>Vùng Đất Quỷ Dữ: Quỷ Dữ Trỗi Dậy</td>\n",
       "      <td>12</td>\n",
       "      <td>41.914915</td>\n",
       "      <td>[Action, Horror, Sci-Fi]</td>\n",
       "    </tr>\n",
       "    <tr>\n",
       "      <th>157</th>\n",
       "      <td>Đại Suy Thoái</td>\n",
       "      <td>12</td>\n",
       "      <td>133.440870</td>\n",
       "      <td>[Biography, Comedy, Drama, History]</td>\n",
       "    </tr>\n",
       "    <tr>\n",
       "      <th>435</th>\n",
       "      <td>Sủng Ái</td>\n",
       "      <td>12</td>\n",
       "      <td>95.918706</td>\n",
       "      <td>[Biography, Comedy, Drama, History]</td>\n",
       "    </tr>\n",
       "  </tbody>\n",
       "</table>\n",
       "<p>636 rows × 4 columns</p>\n",
       "</div>"
      ],
      "text/plain": [
       "                                                   name  release_month  \\\n",
       "502                                    Tìm Tung Tích Mẹ              1   \n",
       "1468                                  Texas Chainsaw 3D              1   \n",
       "846                                   The Little Things              1   \n",
       "1712                                   Trò Chơi Tình Ái              1   \n",
       "1710                                          Diêm Sinh              1   \n",
       "...                                                 ...            ...   \n",
       "1736  Hundraåringen som klev ut genom fönstret och f...             12   \n",
       "1031                                       Tuổi Mới Lớn             12   \n",
       "1425                   Vùng Đất Quỷ Dữ: Quỷ Dữ Trỗi Dậy             12   \n",
       "157                                       Đại Suy Thoái             12   \n",
       "435                                             Sủng Ái             12   \n",
       "\n",
       "           gross                                genre  \n",
       "502     6.788659                     [Drama, Mystery]  \n",
       "1468   47.340586                   [Horror, Thriller]  \n",
       "846    30.842746    [Crime, Drama, Mystery, Thriller]  \n",
       "1712   14.454622           [Drama, Mystery, Thriller]  \n",
       "1710    2.140941  [Drama, Mystery, Thriller, Western]  \n",
       "...          ...                                  ...  \n",
       "1736   51.167572                  [Adventure, Comedy]  \n",
       "1031   22.939027                      [Comedy, Drama]  \n",
       "1425   41.914915             [Action, Horror, Sci-Fi]  \n",
       "157   133.440870  [Biography, Comedy, Drama, History]  \n",
       "435    95.918706  [Biography, Comedy, Drama, History]  \n",
       "\n",
       "[636 rows x 4 columns]"
      ]
     },
     "execution_count": 271,
     "metadata": {},
     "output_type": "execute_result"
    }
   ],
   "source": [
    "R_release = pd.DataFrame(df.loc[df['certificate'] == 'R', 'name'])\n",
    "R_release['release_month'] = df.loc[df['certificate'] == 'R', 'release_date'].dt.month\n",
    "R_release['gross'] = df.loc[df['certificate'] == 'R', 'gross']\n",
    "R_release['genre'] = df.loc[df['certificate'] == 'R', 'genre']\n",
    "R_release = R_release.sort_values(by=['release_month'], ascending=True)\n",
    "R_release"
   ]
  },
  {
   "cell_type": "markdown",
   "id": "df8afa06",
   "metadata": {},
   "source": [
    "Ta tìm xem tổng số lượng phim được phát hành theo từng tháng"
   ]
  },
  {
   "cell_type": "code",
   "execution_count": 272,
   "id": "e728f06a",
   "metadata": {},
   "outputs": [
    {
     "data": {
      "image/png": "[encoded data removed]",
      "text/plain": [
       "<Figure size 640x480 with 1 Axes>"
      ]
     },
     "metadata": {},
     "output_type": "display_data"
    }
   ],
   "source": [
    "R_release['release_month'].value_counts(sort=False).plot.bar();"
   ]
  },
  {
   "cell_type": "markdown",
   "id": "af59c75b",
   "metadata": {},
   "source": [
    "Từ đây ta thấy được, phim nhãn R thường được phát hành vào tháng 9."
   ]
  },
  {
   "cell_type": "markdown",
   "id": "952fe76a",
   "metadata": {},
   "source": [
    "Tiếp theo, ta tìm trung bình doanh thu theo tháng của các bộ phim nhãn R"
   ]
  },
  {
   "cell_type": "code",
   "execution_count": 273,
   "id": "b5c62471",
   "metadata": {},
   "outputs": [
    {
     "data": {
      "text/html": [
       "<div>\n",
       "<style scoped>\n",
       "    .dataframe tbody tr th:only-of-type {\n",
       "        vertical-align: middle;\n",
       "    }\n",
       "\n",
       "    .dataframe tbody tr th {\n",
       "        vertical-align: top;\n",
       "    }\n",
       "\n",
       "    .dataframe thead th {\n",
       "        text-align: right;\n",
       "    }\n",
       "</style>\n",
       "<table border=\"1\" class=\"dataframe\">\n",
       "  <thead>\n",
       "    <tr style=\"text-align: right;\">\n",
       "      <th></th>\n",
       "      <th>release_month</th>\n",
       "      <th>gross</th>\n",
       "    </tr>\n",
       "  </thead>\n",
       "  <tbody>\n",
       "    <tr>\n",
       "      <th>0</th>\n",
       "      <td>1</td>\n",
       "      <td>67.323164</td>\n",
       "    </tr>\n",
       "    <tr>\n",
       "      <th>1</th>\n",
       "      <td>2</td>\n",
       "      <td>112.349335</td>\n",
       "    </tr>\n",
       "    <tr>\n",
       "      <th>2</th>\n",
       "      <td>3</td>\n",
       "      <td>62.020691</td>\n",
       "    </tr>\n",
       "    <tr>\n",
       "      <th>3</th>\n",
       "      <td>4</td>\n",
       "      <td>48.112463</td>\n",
       "    </tr>\n",
       "    <tr>\n",
       "      <th>4</th>\n",
       "      <td>5</td>\n",
       "      <td>74.608391</td>\n",
       "    </tr>\n",
       "    <tr>\n",
       "      <th>5</th>\n",
       "      <td>6</td>\n",
       "      <td>63.600843</td>\n",
       "    </tr>\n",
       "    <tr>\n",
       "      <th>6</th>\n",
       "      <td>7</td>\n",
       "      <td>51.827164</td>\n",
       "    </tr>\n",
       "    <tr>\n",
       "      <th>7</th>\n",
       "      <td>8</td>\n",
       "      <td>68.434162</td>\n",
       "    </tr>\n",
       "    <tr>\n",
       "      <th>8</th>\n",
       "      <td>9</td>\n",
       "      <td>72.455000</td>\n",
       "    </tr>\n",
       "    <tr>\n",
       "      <th>9</th>\n",
       "      <td>10</td>\n",
       "      <td>51.412740</td>\n",
       "    </tr>\n",
       "    <tr>\n",
       "      <th>10</th>\n",
       "      <td>11</td>\n",
       "      <td>46.719100</td>\n",
       "    </tr>\n",
       "    <tr>\n",
       "      <th>11</th>\n",
       "      <td>12</td>\n",
       "      <td>57.735708</td>\n",
       "    </tr>\n",
       "  </tbody>\n",
       "</table>\n",
       "</div>"
      ],
      "text/plain": [
       "    release_month       gross\n",
       "0               1   67.323164\n",
       "1               2  112.349335\n",
       "2               3   62.020691\n",
       "3               4   48.112463\n",
       "4               5   74.608391\n",
       "5               6   63.600843\n",
       "6               7   51.827164\n",
       "7               8   68.434162\n",
       "8               9   72.455000\n",
       "9              10   51.412740\n",
       "10             11   46.719100\n",
       "11             12   57.735708"
      ]
     },
     "execution_count": 273,
     "metadata": {},
     "output_type": "execute_result"
    }
   ],
   "source": [
    "R_mean_gross  = R_release.groupby('release_month').mean().reset_index()\n",
    "R_mean_gross"
   ]
  },
  {
   "cell_type": "code",
   "execution_count": 274,
   "id": "8571ea4e",
   "metadata": {},
   "outputs": [
    {
     "data": {
      "image/png": "[encoded data removed]",
      "text/plain": [
       "<Figure size 800x600 with 1 Axes>"
      ]
     },
     "metadata": {},
     "output_type": "display_data"
    }
   ],
   "source": [
    "R_mean_gross.plot(x='release_month',kind='bar',figsize = (8,6),fontsize=11)\n",
    "\n",
    "plt.title('Average gross of R-rated films by month (2010 - 2022)',fontsize = 15)\n",
    "plt.xlabel('Month',fontsize = 13)\n",
    "plt.ylabel('Average Gross',fontsize = 13)\n",
    "sns.set_style(\"darkgrid\")"
   ]
  },
  {
   "cell_type": "markdown",
   "id": "412f1885",
   "metadata": {},
   "source": [
    "Trái ngược với số lượng phim được phát hành áp đảo của tháng 9, tháng 2 có ít phim được phát hành nhưng lại đem lại lợi nhuận cao hơn hẳn so với các tháng khác trong năm. Phải chăng là vì các bộ phim được phát hành vào dịp Valentine - Ngày lễ tình yêu?"
   ]
  },
  {
   "cell_type": "markdown",
   "id": "ffac4dc2",
   "metadata": {},
   "source": [
    "Để kiểm chứng điều này, ta sẽ cùng khám phá xem thể loại phim nào được gán nhãn R và phát hành vào tháng 2 nhiều nhất. (Một bộ phim có thể có nhiều thể loại)"
   ]
  },
  {
   "cell_type": "code",
   "execution_count": 303,
   "id": "5296467f",
   "metadata": {},
   "outputs": [
    {
     "data": {
      "image/png": "[encoded data removed]",
      "text/plain": [
       "<Figure size 640x480 with 1 Axes>"
      ]
     },
     "metadata": {},
     "output_type": "display_data"
    }
   ],
   "source": [
    "R_release[\"genre\"].explode().value_counts().plot(kind='bar');"
   ]
  },
  {
   "cell_type": "markdown",
   "id": "6bc8c6f1",
   "metadata": {},
   "source": [
    "Phim thuộc thể loại `Drama` có số lượng cao nhất, rất phù hợp cho thị hiếu của tháng 2."
   ]
  },
  {
   "cell_type": "markdown",
   "id": "a6bde010",
   "metadata": {},
   "source": [
    "Ta có thể thấy, phim được gán nhãn R muốn đạt doanh thu cao và thu hút nhiều sự chú ý thì nên thuộc thể loại `Drama` và phát hành vào `tháng 2`"
   ]
  }
 ],
 "metadata": {
  "kernelspec": {
   "display_name": "Python 3 (ipykernel)",
   "language": "python",
   "name": "python3"
  },
  "language_info": {
   "codemirror_mode": {
    "name": "ipython",
    "version": 3
   },
   "file_extension": ".py",
   "mimetype": "text/x-python",
   "name": "python",
   "nbconvert_exporter": "python",
   "pygments_lexer": "ipython3",
   "version": "3.10.4"
  }
 },
 "nbformat": 4,
 "nbformat_minor": 5
}
