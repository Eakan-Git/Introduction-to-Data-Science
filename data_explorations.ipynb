{
 "cells": [
  {
   "cell_type": "code",
   "execution_count": null,
   "id": "77b3815f",
   "metadata": {},
   "outputs": [],
   "source": []
  },
  {
   "cell_type": "code",
   "execution_count": null,
   "id": "b5c39388",
   "metadata": {},
   "outputs": [],
   "source": []
  },
  {
   "cell_type": "code",
   "execution_count": 1,
   "id": "c5d28225",
   "metadata": {},
   "outputs": [],
   "source": [
    "import pandas as pd\n",
    "import numpy as np\n",
    "import datetime as dt\n",
    "import matplotlib.pyplot as plt\n",
    "import seaborn as sns"
   ]
  },
  {
   "cell_type": "markdown",
   "id": "c6294fab",
   "metadata": {},
   "source": [
    "# Data explorations"
   ]
  },
  {
   "cell_type": "markdown",
   "id": "d95d60ba",
   "metadata": {},
   "source": [
    "## 1. Đọc dữ liệu"
   ]
  },
  {
   "cell_type": "code",
   "execution_count": 2,
   "id": "e01a6401",
   "metadata": {},
   "outputs": [
    {
     "data": {
      "text/html": [
       "<div>\n",
       "<style scoped>\n",
       "    .dataframe tbody tr th:only-of-type {\n",
       "        vertical-align: middle;\n",
       "    }\n",
       "\n",
       "    .dataframe tbody tr th {\n",
       "        vertical-align: top;\n",
       "    }\n",
       "\n",
       "    .dataframe thead th {\n",
       "        text-align: right;\n",
       "    }\n",
       "</style>\n",
       "<table border=\"1\" class=\"dataframe\">\n",
       "  <thead>\n",
       "    <tr style=\"text-align: right;\">\n",
       "      <th></th>\n",
       "      <th>id</th>\n",
       "      <th>name</th>\n",
       "      <th>overview</th>\n",
       "      <th>certificate</th>\n",
       "      <th>runtime</th>\n",
       "      <th>nvote</th>\n",
       "      <th>imdb_rate</th>\n",
       "      <th>director</th>\n",
       "      <th>casts</th>\n",
       "      <th>genres</th>\n",
       "      <th>keywords</th>\n",
       "      <th>release_date</th>\n",
       "      <th>countries</th>\n",
       "      <th>languages</th>\n",
       "      <th>locations</th>\n",
       "      <th>companies</th>\n",
       "      <th>budget</th>\n",
       "      <th>gross</th>\n",
       "    </tr>\n",
       "  </thead>\n",
       "  <tbody>\n",
       "    <tr>\n",
       "      <th>0</th>\n",
       "      <td>tt1375666</td>\n",
       "      <td>Kẻ Đánh Cắp Giấc Mơ</td>\n",
       "      <td>A thief who steals corporate secrets through t...</td>\n",
       "      <td>PG-13</td>\n",
       "      <td>148.0</td>\n",
       "      <td>2347285</td>\n",
       "      <td>8.8</td>\n",
       "      <td>Christopher Nolan</td>\n",
       "      <td>Leonardo DiCaprio, Joseph Gordon-Levitt, Ellio...</td>\n",
       "      <td>Action, Adventure, Sci-Fi, Thriller</td>\n",
       "      <td>dream,ambiguous ending,subconscious,mindbender...</td>\n",
       "      <td>August 6, 2010 (Vietnam)</td>\n",
       "      <td>United States, United Kingdom</td>\n",
       "      <td>English, Japanese, French</td>\n",
       "      <td>Fortress Mountain, Kananaskis Country, Alberta...</td>\n",
       "      <td>Warner Bros., Legendary Entertainment, Syncopy</td>\n",
       "      <td>160.0</td>\n",
       "      <td>836.848102</td>\n",
       "    </tr>\n",
       "    <tr>\n",
       "      <th>1</th>\n",
       "      <td>tt0816692</td>\n",
       "      <td>Hố Đen Tử Thần</td>\n",
       "      <td>A team of explorers travel through a wormhole ...</td>\n",
       "      <td>C13</td>\n",
       "      <td>169.0</td>\n",
       "      <td>1824486</td>\n",
       "      <td>8.6</td>\n",
       "      <td>Christopher Nolan</td>\n",
       "      <td>Matthew McConaughey, Anne Hathaway, Jessica Ch...</td>\n",
       "      <td>Adventure, Drama, Sci-Fi</td>\n",
       "      <td>astronaut,saving the world,space travel,wormho...</td>\n",
       "      <td>November 7, 2014 (Vietnam)</td>\n",
       "      <td>United States, United Kingdom, Canada</td>\n",
       "      <td>English</td>\n",
       "      <td>Iceland</td>\n",
       "      <td>Paramount Pictures, Warner Bros., Legendary En...</td>\n",
       "      <td>165.0</td>\n",
       "      <td>773.867216</td>\n",
       "    </tr>\n",
       "    <tr>\n",
       "      <th>2</th>\n",
       "      <td>tt1345836</td>\n",
       "      <td>Kỵ Sĩ Bóng Đêm Trỗi Dậy</td>\n",
       "      <td>Eight years after the Joker's reign of anarchy...</td>\n",
       "      <td>PG-13</td>\n",
       "      <td>164.0</td>\n",
       "      <td>1702927</td>\n",
       "      <td>8.4</td>\n",
       "      <td>Christopher Nolan</td>\n",
       "      <td>Christian Bale, Tom Hardy, Anne Hathaway, Gary...</td>\n",
       "      <td>Action, Drama</td>\n",
       "      <td>dc comics,batman character,bruce wayne charact...</td>\n",
       "      <td>July 27, 2012 (Vietnam)</td>\n",
       "      <td>United States, United Kingdom</td>\n",
       "      <td>English, Arabic</td>\n",
       "      <td>Mehrangarh Fort, Jodhpur, Rajasthan, India</td>\n",
       "      <td>Warner Bros., Legendary Entertainment, DC Ente...</td>\n",
       "      <td>250.0</td>\n",
       "      <td>1081.169825</td>\n",
       "    </tr>\n",
       "    <tr>\n",
       "      <th>3</th>\n",
       "      <td>tt1853728</td>\n",
       "      <td>Hành Trình Django</td>\n",
       "      <td>With the help of a German bounty-hunter, a fre...</td>\n",
       "      <td>R</td>\n",
       "      <td>165.0</td>\n",
       "      <td>1551167</td>\n",
       "      <td>8.4</td>\n",
       "      <td>Quentin Tarantino</td>\n",
       "      <td>Jamie Foxx, Christoph Waltz, Leonardo DiCaprio...</td>\n",
       "      <td>Drama, Western</td>\n",
       "      <td>racial vengeance,racial violence,slavery,one a...</td>\n",
       "      <td>March 15, 2013 (Vietnam)</td>\n",
       "      <td>United States</td>\n",
       "      <td>English, German, French, Italian</td>\n",
       "      <td>Evergreen Plantation, 4677 Highway 18, Edgard,...</td>\n",
       "      <td>The Weinstein Company, Columbia Pictures</td>\n",
       "      <td>100.0</td>\n",
       "      <td>426.074373</td>\n",
       "    </tr>\n",
       "    <tr>\n",
       "      <th>4</th>\n",
       "      <td>tt0993846</td>\n",
       "      <td>Sói Già Phố Wall</td>\n",
       "      <td>Based on the true story of Jordan Belfort, fro...</td>\n",
       "      <td>R</td>\n",
       "      <td>180.0</td>\n",
       "      <td>1407088</td>\n",
       "      <td>8.2</td>\n",
       "      <td>Martin Scorsese</td>\n",
       "      <td>Leonardo DiCaprio, Jonah Hill, Margot Robbie, ...</td>\n",
       "      <td>Biography, Comedy, Crime, Drama</td>\n",
       "      <td>based on true story,stockbroker,female nudity,...</td>\n",
       "      <td>January 11, 2014 (Vietnam)</td>\n",
       "      <td>United States</td>\n",
       "      <td>English, French</td>\n",
       "      <td>Portofino, Genoa, Liguria, Italy</td>\n",
       "      <td>Red Granite Pictures, Appian Way, Sikelia Prod...</td>\n",
       "      <td>100.0</td>\n",
       "      <td>406.878233</td>\n",
       "    </tr>\n",
       "  </tbody>\n",
       "</table>\n",
       "</div>"
      ],
      "text/plain": [
       "          id                     name  \\\n",
       "0  tt1375666      Kẻ Đánh Cắp Giấc Mơ   \n",
       "1  tt0816692           Hố Đen Tử Thần   \n",
       "2  tt1345836  Kỵ Sĩ Bóng Đêm Trỗi Dậy   \n",
       "3  tt1853728        Hành Trình Django   \n",
       "4  tt0993846         Sói Già Phố Wall   \n",
       "\n",
       "                                            overview certificate  runtime  \\\n",
       "0  A thief who steals corporate secrets through t...       PG-13    148.0   \n",
       "1  A team of explorers travel through a wormhole ...         C13    169.0   \n",
       "2  Eight years after the Joker's reign of anarchy...       PG-13    164.0   \n",
       "3  With the help of a German bounty-hunter, a fre...           R    165.0   \n",
       "4  Based on the true story of Jordan Belfort, fro...           R    180.0   \n",
       "\n",
       "     nvote  imdb_rate           director  \\\n",
       "0  2347285        8.8  Christopher Nolan   \n",
       "1  1824486        8.6  Christopher Nolan   \n",
       "2  1702927        8.4  Christopher Nolan   \n",
       "3  1551167        8.4  Quentin Tarantino   \n",
       "4  1407088        8.2    Martin Scorsese   \n",
       "\n",
       "                                               casts  \\\n",
       "0  Leonardo DiCaprio, Joseph Gordon-Levitt, Ellio...   \n",
       "1  Matthew McConaughey, Anne Hathaway, Jessica Ch...   \n",
       "2  Christian Bale, Tom Hardy, Anne Hathaway, Gary...   \n",
       "3  Jamie Foxx, Christoph Waltz, Leonardo DiCaprio...   \n",
       "4  Leonardo DiCaprio, Jonah Hill, Margot Robbie, ...   \n",
       "\n",
       "                                genres  \\\n",
       "0  Action, Adventure, Sci-Fi, Thriller   \n",
       "1             Adventure, Drama, Sci-Fi   \n",
       "2                        Action, Drama   \n",
       "3                       Drama, Western   \n",
       "4      Biography, Comedy, Crime, Drama   \n",
       "\n",
       "                                            keywords  \\\n",
       "0  dream,ambiguous ending,subconscious,mindbender...   \n",
       "1  astronaut,saving the world,space travel,wormho...   \n",
       "2  dc comics,batman character,bruce wayne charact...   \n",
       "3  racial vengeance,racial violence,slavery,one a...   \n",
       "4  based on true story,stockbroker,female nudity,...   \n",
       "\n",
       "                 release_date                              countries  \\\n",
       "0    August 6, 2010 (Vietnam)          United States, United Kingdom   \n",
       "1  November 7, 2014 (Vietnam)  United States, United Kingdom, Canada   \n",
       "2     July 27, 2012 (Vietnam)          United States, United Kingdom   \n",
       "3    March 15, 2013 (Vietnam)                          United States   \n",
       "4  January 11, 2014 (Vietnam)                          United States   \n",
       "\n",
       "                          languages  \\\n",
       "0         English, Japanese, French   \n",
       "1                           English   \n",
       "2                   English, Arabic   \n",
       "3  English, German, French, Italian   \n",
       "4                   English, French   \n",
       "\n",
       "                                           locations  \\\n",
       "0  Fortress Mountain, Kananaskis Country, Alberta...   \n",
       "1                                            Iceland   \n",
       "2         Mehrangarh Fort, Jodhpur, Rajasthan, India   \n",
       "3  Evergreen Plantation, 4677 Highway 18, Edgard,...   \n",
       "4                   Portofino, Genoa, Liguria, Italy   \n",
       "\n",
       "                                           companies  budget        gross  \n",
       "0     Warner Bros., Legendary Entertainment, Syncopy   160.0   836.848102  \n",
       "1  Paramount Pictures, Warner Bros., Legendary En...   165.0   773.867216  \n",
       "2  Warner Bros., Legendary Entertainment, DC Ente...   250.0  1081.169825  \n",
       "3           The Weinstein Company, Columbia Pictures   100.0   426.074373  \n",
       "4  Red Granite Pictures, Appian Way, Sikelia Prod...   100.0   406.878233  "
      ]
     },
     "execution_count": 2,
     "metadata": {},
     "output_type": "execute_result"
    }
   ],
   "source": [
    "df = pd.read_csv('film.csv', sep='\\t')\n",
    "df.rename(columns = {'dicrector':'director'}, inplace = True)\n",
    "df.rename(columns = {' casts':'casts'}, inplace = True)\n",
    "df.rename(columns = {'relesase_date':'release_date'}, inplace = True)\n",
    "df.head(5)"
   ]
  },
  {
   "cell_type": "code",
   "execution_count": 3,
   "id": "a4abfbee",
   "metadata": {},
   "outputs": [
    {
     "data": {
      "text/plain": [
       "(10249, 18)"
      ]
     },
     "execution_count": 3,
     "metadata": {},
     "output_type": "execute_result"
    }
   ],
   "source": [
    "df.shape"
   ]
  },
  {
   "cell_type": "markdown",
   "id": "258ae742",
   "metadata": {},
   "source": [
    "Dữ liệu có 10249 dòng và 18 cột\n",
    "\n",
    "##### Mỗi dòng dữ liệu là các thông tin về các thuộc tính của một bộ phim"
   ]
  },
  {
   "cell_type": "code",
   "execution_count": 4,
   "id": "02a54d11",
   "metadata": {},
   "outputs": [
    {
     "data": {
      "text/plain": [
       "0"
      ]
     },
     "execution_count": 4,
     "metadata": {},
     "output_type": "execute_result"
    }
   ],
   "source": [
    "df.index.duplicated(keep='first').sum()"
   ]
  },
  {
   "cell_type": "markdown",
   "id": "6ed208cd",
   "metadata": {},
   "source": [
    "Dữ liệu không có dòng bị lặp"
   ]
  },
  {
   "cell_type": "markdown",
   "id": "a7dde3a0",
   "metadata": {},
   "source": [
    "#### Các cột là các thuộc tính của một bộ phim"
   ]
  },
  {
   "cell_type": "markdown",
   "id": "08cd52ea",
   "metadata": {},
   "source": [
    "Các cột:\n",
    "- `id`: id của phim\n",
    "- `name`: Tên phim\n",
    "- `overview`: Mô tả tổng quát phim\n",
    "- `certificate`: Phân loại phim:\n",
    "                - G, P (General Audiences) – Phim dành cho mọi lứa tuổi\n",
    "                - PG (Parental Guidance Suggested) – Phim có thể có một số chi tiết (hình ảnh, từ ngữ) không phù hợp với \n",
    "                trẻ nhỏ. Bố mẹ cần cân nhắc khi cho con cái xem phim\n",
    "                - PG-13 (Parents Strongly Cautioned) – Phim có một số chi tiết không phù hợp với trẻ dưới 13 tuổi.\n",
    "                - R (Restricted) – Thanh thiếu niên dưới 17 tuổi không được xem phim nếu không có sự đồng ý của người lớn.\n",
    "                - C13 - Phim dành cho người trên 13 tuổi.\n",
    "                - C16 - Phim dành cho người trên 16 tuổi.\n",
    "                - C18 - Phim dành cho người trên 18 tuổi.\n",
    "                - NC17 -(No One 17 and Under Admitted) – Phim hoàn toàn không dành cho khán giả dưới 17 tuổi\n",
    "                - (Banned) - Phim bị cấm chiếu ở một số nơi.\n",
    "                - Not Rated, Unrate - Phim không hoặc chưa được đánh giá.\n",
    "- `runtime`: Thời lượng phim (phút).\n",
    "- `genre`: Thể loại( Action, Adventure, Animation, Biography, Comedy, Crime, Documentary, Drama, Family, Fantasy, Film Noir, History, Horror, Music Musical, Mystery, Romance, Sci-Fi, Short Film, Sport, Superhero, Thriller, War, Western)\n",
    "- `keywords`: Các từ khóa liên quan đến phim.\n",
    "- `imdb_rate`: Số điểm đánh giá từ IMDB\n",
    "- `nvote`: Số lượt đánh giá\n",
    "- `director\t`: danh sách các đạo diễn \n",
    "- `Casts`: danh sách các diễn viên nổi bật của phim\n",
    "- `relesase_date`: Ngày công chiếu\n",
    "- `countries`: Country of origin\n",
    "- `language` : Ngôn ngữ trong phim\n",
    "- `locations` : Địa điểm quay phim\n",
    "- `company` : Công ty sản xuất\n",
    "- `cross`: Doanh thu của phim (M Dollar)\n"
   ]
  },
  {
   "cell_type": "markdown",
   "id": "699e579b",
   "metadata": {},
   "source": [
    "#### Kiểu dữ liệu của các cột:"
   ]
  },
  {
   "cell_type": "code",
   "execution_count": 5,
   "id": "129a202e",
   "metadata": {},
   "outputs": [
    {
     "data": {
      "text/plain": [
       "id               object\n",
       "name             object\n",
       "overview         object\n",
       "certificate      object\n",
       "runtime         float64\n",
       "nvote             int64\n",
       "imdb_rate       float64\n",
       "director         object\n",
       "casts            object\n",
       "genres           object\n",
       "keywords         object\n",
       "release_date     object\n",
       "countries        object\n",
       "languages        object\n",
       "locations        object\n",
       "companies        object\n",
       "budget          float64\n",
       "gross           float64\n",
       "dtype: object"
      ]
     },
     "execution_count": 5,
     "metadata": {},
     "output_type": "execute_result"
    }
   ],
   "source": [
    "df.dtypes"
   ]
  },
  {
   "cell_type": "markdown",
   "id": "b2ba0743",
   "metadata": {},
   "source": [
    "Các cột có type là `object`. Cần tìm type chính xác của các cột này"
   ]
  },
  {
   "cell_type": "code",
   "execution_count": 6,
   "id": "11aedb95",
   "metadata": {},
   "outputs": [],
   "source": [
    "def open_object_dtype(s):\n",
    "    dtypes = set()\n",
    "    dtypes = set(s.apply(type))\n",
    "    return dtypes"
   ]
  },
  {
   "cell_type": "code",
   "execution_count": 7,
   "id": "b2f99c96",
   "metadata": {
    "scrolled": true
   },
   "outputs": [
    {
     "name": "stdout",
     "output_type": "stream",
     "text": [
      "id: {<class 'str'>}\n",
      "name: {<class 'str'>}\n",
      "overview: {<class 'str'>}\n",
      "keywords: {<class 'str'>, <class 'float'>}\n",
      "certificate: {<class 'str'>, <class 'float'>}\n",
      "genres: {<class 'str'>}\n",
      "director: {<class 'str'>}\n",
      "casts: {<class 'str'>, <class 'float'>}\n",
      "release_date: {<class 'str'>, <class 'float'>}\n",
      "countries: {<class 'str'>, <class 'float'>}\n",
      "languages: {<class 'str'>, <class 'float'>}\n",
      "locations: {<class 'str'>, <class 'float'>}\n",
      "companies: {<class 'str'>, <class 'float'>}\n"
     ]
    }
   ],
   "source": [
    "\n",
    "print('id:', open_object_dtype(df['id']))\n",
    "print('name:', open_object_dtype(df['name']))\n",
    "print('overview:', open_object_dtype(df['overview']))\n",
    "print('keywords:', open_object_dtype(df['keywords']))\n",
    "print('certificate:', open_object_dtype(df['certificate']))\n",
    "print('genres:', open_object_dtype(df['genres']))\n",
    "print('director:', open_object_dtype(df['director']))\n",
    "print('casts:', open_object_dtype(df['casts']))\n",
    "print('release_date:', open_object_dtype(df['release_date']))\n",
    "print('countries:', open_object_dtype(df['countries']))\n",
    "print('languages:', open_object_dtype(df['languages']))\n",
    "print('locations:', open_object_dtype(df['locations']))\n",
    "print('companies:', open_object_dtype(df['companies']))"
   ]
  },
  {
   "cell_type": "markdown",
   "id": "64249e92",
   "metadata": {},
   "source": [
    "Column `keywords` `tagline` `certificate` `locations` có một số giá trị có kiểu `float` do mang giá trị NULL\n",
    "\n",
    "Các column `keywords` `genre` `director` `stars` `language` `locations` `company`  phải là list tuy nhiên đang có type là 'str'\n",
    "\n",
    "`release_date` chưa có kiểu dữ liệu là datetime"
   ]
  },
  {
   "cell_type": "markdown",
   "id": "6a2de366",
   "metadata": {},
   "source": [
    "#### Chỉnh sửa các column về kiểu dữ liệu phù hợp\n",
    "\n",
    "* Các column dạng list"
   ]
  },
  {
   "cell_type": "code",
   "execution_count": 8,
   "id": "4bfc47a0",
   "metadata": {},
   "outputs": [],
   "source": [
    "df['keywords'] = df['keywords'].apply(lambda x: x.split(\",\") if(type(x) == str) else x)\n",
    "df['genres'] = df['genres'].apply(lambda x: x.split(\", \") if(type(x) == str) else x)\n",
    "df['director'] = df['director'].apply(lambda x: x.split(\", \") if(type(x) == str) else x)\n",
    "df['casts'] = df['casts'].apply(lambda x: x.split(\", \") if(type(x) == str) else x)\n",
    "df['languages'] = df['languages'].apply(lambda x: x.split(\", \") if(type(x) == str) else x)\n",
    "df['locations'] = df['locations'].apply(lambda x: x.split(\", \") if(type(x) == str) else x)\n",
    "df['companies'] = df['companies'].apply(lambda x: x.split(\", \") if(type(x) == str) else x)"
   ]
  },
  {
   "cell_type": "markdown",
   "id": "6c938044",
   "metadata": {},
   "source": [
    "* Column `release_date`"
   ]
  },
  {
   "cell_type": "code",
   "execution_count": 9,
   "id": "5e3a357d",
   "metadata": {},
   "outputs": [
    {
     "data": {
      "text/html": [
       "<div>\n",
       "<style scoped>\n",
       "    .dataframe tbody tr th:only-of-type {\n",
       "        vertical-align: middle;\n",
       "    }\n",
       "\n",
       "    .dataframe tbody tr th {\n",
       "        vertical-align: top;\n",
       "    }\n",
       "\n",
       "    .dataframe thead th {\n",
       "        text-align: right;\n",
       "    }\n",
       "</style>\n",
       "<table border=\"1\" class=\"dataframe\">\n",
       "  <thead>\n",
       "    <tr style=\"text-align: right;\">\n",
       "      <th></th>\n",
       "      <th>release_date</th>\n",
       "    </tr>\n",
       "  </thead>\n",
       "  <tbody>\n",
       "    <tr>\n",
       "      <th>445</th>\n",
       "      <td>June 23, 2010 (United States)</td>\n",
       "    </tr>\n",
       "    <tr>\n",
       "      <th>1620</th>\n",
       "      <td>November 11, 2011 (India)</td>\n",
       "    </tr>\n",
       "    <tr>\n",
       "      <th>5241</th>\n",
       "      <td>October 30, 2015 (China)</td>\n",
       "    </tr>\n",
       "    <tr>\n",
       "      <th>2566</th>\n",
       "      <td>June 23, 2017 (United Kingdom)</td>\n",
       "    </tr>\n",
       "    <tr>\n",
       "      <th>5124</th>\n",
       "      <td>November 10, 2016 (Hungary)</td>\n",
       "    </tr>\n",
       "    <tr>\n",
       "      <th>2681</th>\n",
       "      <td>January 8, 2016 (India)</td>\n",
       "    </tr>\n",
       "    <tr>\n",
       "      <th>1714</th>\n",
       "      <td>October 17, 2014 (United States)</td>\n",
       "    </tr>\n",
       "    <tr>\n",
       "      <th>2833</th>\n",
       "      <td>April 19, 2012 (Hungary)</td>\n",
       "    </tr>\n",
       "    <tr>\n",
       "      <th>1586</th>\n",
       "      <td>May 16, 2014 (United States)</td>\n",
       "    </tr>\n",
       "    <tr>\n",
       "      <th>4298</th>\n",
       "      <td>December 20, 2019 (Japan)</td>\n",
       "    </tr>\n",
       "  </tbody>\n",
       "</table>\n",
       "</div>"
      ],
      "text/plain": [
       "                          release_date\n",
       "445      June 23, 2010 (United States)\n",
       "1620         November 11, 2011 (India)\n",
       "5241          October 30, 2015 (China)\n",
       "2566    June 23, 2017 (United Kingdom)\n",
       "5124       November 10, 2016 (Hungary)\n",
       "2681           January 8, 2016 (India)\n",
       "1714  October 17, 2014 (United States)\n",
       "2833          April 19, 2012 (Hungary)\n",
       "1586      May 16, 2014 (United States)\n",
       "4298         December 20, 2019 (Japan)"
      ]
     },
     "execution_count": 9,
     "metadata": {},
     "output_type": "execute_result"
    }
   ],
   "source": [
    "df[['release_date']].sample(n = 10)"
   ]
  },
  {
   "cell_type": "code",
   "execution_count": 10,
   "id": "99d0f067",
   "metadata": {},
   "outputs": [],
   "source": [
    "def try_parsing_date(text):\n",
    "    date = text.split(' (')[0]\n",
    "    for fmt in ('%B %d, %Y', '%B %Y', '%Y'):\n",
    "        try:\n",
    "            return dt.datetime.strptime(date, fmt)\n",
    "        except ValueError:\n",
    "            pass\n",
    "    raise ValueError('no valid date format found' ,date )"
   ]
  },
  {
   "cell_type": "code",
   "execution_count": 11,
   "id": "d06bd266",
   "metadata": {},
   "outputs": [],
   "source": [
    "df['release_date'] = df['release_date'].apply(lambda x: try_parsing_date(x) if(type(x) == str) else x )"
   ]
  },
  {
   "cell_type": "markdown",
   "id": "e76524e6",
   "metadata": {},
   "source": [
    "* Thêm column `year` vào dataframe"
   ]
  },
  {
   "cell_type": "code",
   "execution_count": 12,
   "id": "53a55f9c",
   "metadata": {},
   "outputs": [],
   "source": [
    "df['year'] = df['release_date'].apply(lambda x: x.year)"
   ]
  },
  {
   "cell_type": "markdown",
   "id": "52f66f25",
   "metadata": {},
   "source": [
    "### Phân bố của từng column"
   ]
  },
  {
   "cell_type": "markdown",
   "id": "d7cebe74",
   "metadata": {},
   "source": [
    "### - Numeric column"
   ]
  },
  {
   "cell_type": "code",
   "execution_count": 13,
   "id": "d579298d",
   "metadata": {},
   "outputs": [],
   "source": [
    "# YOUR CODE HERE\n",
    "num_col_info_df = df.select_dtypes(exclude='object').drop('year', axis = 1)\n",
    "def missing_ratio(s):\n",
    "    return (s.isna().mean() * 100)\n",
    "\n",
    "def median(df):\n",
    "    return (df.quantile(0.5))\n",
    "\n",
    "def lower_quartile(df):\n",
    "    return (df.quantile(0.25))\n",
    "\n",
    "def upper_quartile(df):\n",
    "    return (df.quantile(0.75))"
   ]
  },
  {
   "cell_type": "code",
   "execution_count": 14,
   "id": "25d54acd",
   "metadata": {},
   "outputs": [],
   "source": [
    "num_col_info_df = num_col_info_df.agg([missing_ratio , min, lower_quartile, median, upper_quartile, max])"
   ]
  },
  {
   "cell_type": "code",
   "execution_count": 15,
   "id": "f561b196",
   "metadata": {},
   "outputs": [
    {
     "data": {
      "text/html": [
       "<div>\n",
       "<style scoped>\n",
       "    .dataframe tbody tr th:only-of-type {\n",
       "        vertical-align: middle;\n",
       "    }\n",
       "\n",
       "    .dataframe tbody tr th {\n",
       "        vertical-align: top;\n",
       "    }\n",
       "\n",
       "    .dataframe thead th {\n",
       "        text-align: right;\n",
       "    }\n",
       "</style>\n",
       "<table border=\"1\" class=\"dataframe\">\n",
       "  <thead>\n",
       "    <tr style=\"text-align: right;\">\n",
       "      <th></th>\n",
       "      <th>runtime</th>\n",
       "      <th>nvote</th>\n",
       "      <th>imdb_rate</th>\n",
       "      <th>release_date</th>\n",
       "      <th>budget</th>\n",
       "      <th>gross</th>\n",
       "    </tr>\n",
       "  </thead>\n",
       "  <tbody>\n",
       "    <tr>\n",
       "      <th>missing_ratio</th>\n",
       "      <td>0.09757</td>\n",
       "      <td>0.0</td>\n",
       "      <td>0.0</td>\n",
       "      <td>0.048785</td>\n",
       "      <td>57.742219</td>\n",
       "      <td>24.421895</td>\n",
       "    </tr>\n",
       "    <tr>\n",
       "      <th>min</th>\n",
       "      <td>3.00000</td>\n",
       "      <td>1862.0</td>\n",
       "      <td>1.0</td>\n",
       "      <td>2010-01-01 00:00:00</td>\n",
       "      <td>0.000002</td>\n",
       "      <td>0.000024</td>\n",
       "    </tr>\n",
       "    <tr>\n",
       "      <th>lower_quartile</th>\n",
       "      <td>93.00000</td>\n",
       "      <td>3096.0</td>\n",
       "      <td>5.5</td>\n",
       "      <td>2013-09-06 00:00:00</td>\n",
       "      <td>3.500000</td>\n",
       "      <td>0.289900</td>\n",
       "    </tr>\n",
       "    <tr>\n",
       "      <th>median</th>\n",
       "      <td>103.00000</td>\n",
       "      <td>6177.0</td>\n",
       "      <td>6.2</td>\n",
       "      <td>2016-07-29 00:00:00</td>\n",
       "      <td>11.000000</td>\n",
       "      <td>2.621596</td>\n",
       "    </tr>\n",
       "    <tr>\n",
       "      <th>upper_quartile</th>\n",
       "      <td>118.00000</td>\n",
       "      <td>20729.0</td>\n",
       "      <td>6.9</td>\n",
       "      <td>2019-02-20 00:00:00</td>\n",
       "      <td>38.000000</td>\n",
       "      <td>18.424225</td>\n",
       "    </tr>\n",
       "    <tr>\n",
       "      <th>max</th>\n",
       "      <td>321.00000</td>\n",
       "      <td>2347285.0</td>\n",
       "      <td>9.9</td>\n",
       "      <td>2023-01-10 00:00:00</td>\n",
       "      <td>120000.000000</td>\n",
       "      <td>2797.501328</td>\n",
       "    </tr>\n",
       "  </tbody>\n",
       "</table>\n",
       "</div>"
      ],
      "text/plain": [
       "                  runtime      nvote  imdb_rate         release_date  \\\n",
       "missing_ratio     0.09757        0.0        0.0             0.048785   \n",
       "min               3.00000     1862.0        1.0  2010-01-01 00:00:00   \n",
       "lower_quartile   93.00000     3096.0        5.5  2013-09-06 00:00:00   \n",
       "median          103.00000     6177.0        6.2  2016-07-29 00:00:00   \n",
       "upper_quartile  118.00000    20729.0        6.9  2019-02-20 00:00:00   \n",
       "max             321.00000  2347285.0        9.9  2023-01-10 00:00:00   \n",
       "\n",
       "                       budget        gross  \n",
       "missing_ratio       57.742219    24.421895  \n",
       "min                  0.000002     0.000024  \n",
       "lower_quartile       3.500000     0.289900  \n",
       "median              11.000000     2.621596  \n",
       "upper_quartile      38.000000    18.424225  \n",
       "max             120000.000000  2797.501328  "
      ]
     },
     "execution_count": 15,
     "metadata": {},
     "output_type": "execute_result"
    }
   ],
   "source": [
    "num_col_info_df"
   ]
  },
  {
   "cell_type": "markdown",
   "id": "70029bf8",
   "metadata": {},
   "source": [
    "### - Categorical column"
   ]
  },
  {
   "cell_type": "code",
   "execution_count": 16,
   "id": "6a5a20d7",
   "metadata": {},
   "outputs": [
    {
     "data": {
      "text/plain": [
       "Index(['id', 'name', 'overview', 'certificate', 'runtime', 'nvote',\n",
       "       'imdb_rate', 'director', 'casts', 'genres', 'keywords', 'release_date',\n",
       "       'countries', 'languages', 'locations', 'companies', 'budget', 'gross',\n",
       "       'year'],\n",
       "      dtype='object')"
      ]
     },
     "execution_count": 16,
     "metadata": {},
     "output_type": "execute_result"
    }
   ],
   "source": [
    "df.columns"
   ]
  },
  {
   "cell_type": "code",
   "execution_count": 17,
   "id": "79ad8bd4",
   "metadata": {},
   "outputs": [
    {
     "data": {
      "text/html": [
       "<div>\n",
       "<style scoped>\n",
       "    .dataframe tbody tr th:only-of-type {\n",
       "        vertical-align: middle;\n",
       "    }\n",
       "\n",
       "    .dataframe tbody tr th {\n",
       "        vertical-align: top;\n",
       "    }\n",
       "\n",
       "    .dataframe thead th {\n",
       "        text-align: right;\n",
       "    }\n",
       "</style>\n",
       "<table border=\"1\" class=\"dataframe\">\n",
       "  <thead>\n",
       "    <tr style=\"text-align: right;\">\n",
       "      <th></th>\n",
       "      <th>id</th>\n",
       "      <th>name</th>\n",
       "      <th>overview</th>\n",
       "      <th>certificate</th>\n",
       "      <th>imdb_rate</th>\n",
       "      <th>director</th>\n",
       "      <th>casts</th>\n",
       "      <th>genres</th>\n",
       "      <th>keywords</th>\n",
       "      <th>countries</th>\n",
       "      <th>languages</th>\n",
       "      <th>locations</th>\n",
       "      <th>companies</th>\n",
       "      <th>year</th>\n",
       "    </tr>\n",
       "    <tr>\n",
       "      <th>Value</th>\n",
       "      <th></th>\n",
       "      <th></th>\n",
       "      <th></th>\n",
       "      <th></th>\n",
       "      <th></th>\n",
       "      <th></th>\n",
       "      <th></th>\n",
       "      <th></th>\n",
       "      <th></th>\n",
       "      <th></th>\n",
       "      <th></th>\n",
       "      <th></th>\n",
       "      <th></th>\n",
       "      <th></th>\n",
       "    </tr>\n",
       "  </thead>\n",
       "  <tbody>\n",
       "    <tr>\n",
       "      <th>missing_ratio%</th>\n",
       "      <td>0.0</td>\n",
       "      <td>0.0</td>\n",
       "      <td>0.0</td>\n",
       "      <td>55.585911</td>\n",
       "      <td>0.0</td>\n",
       "      <td>0.0</td>\n",
       "      <td>0.058542</td>\n",
       "      <td>0.0</td>\n",
       "      <td>2.722217</td>\n",
       "      <td>0.058542</td>\n",
       "      <td>0.585423</td>\n",
       "      <td>21.719192</td>\n",
       "      <td>1.795297</td>\n",
       "      <td>0.048785</td>\n",
       "    </tr>\n",
       "    <tr>\n",
       "      <th>num_diff_vals</th>\n",
       "      <td>10249</td>\n",
       "      <td>10152</td>\n",
       "      <td>10244</td>\n",
       "      <td>12</td>\n",
       "      <td>85</td>\n",
       "      <td>6973</td>\n",
       "      <td>20361</td>\n",
       "      <td>21</td>\n",
       "      <td>14534</td>\n",
       "      <td>1378</td>\n",
       "      <td>193</td>\n",
       "      <td>5135</td>\n",
       "      <td>10353</td>\n",
       "      <td>14</td>\n",
       "    </tr>\n",
       "    <tr>\n",
       "      <th>diff_vals</th>\n",
       "      <td>[tt1375666, tt0816692, tt1345836, tt1853728, t...</td>\n",
       "      <td>[Kẻ Đánh Cắp Giấc Mơ, Hố Đen Tử Thần, Kỵ Sĩ Bó...</td>\n",
       "      <td>[A thief who steals corporate secrets through ...</td>\n",
       "      <td>[PG-13, C13, R, P, C18, C16, (Banned), PG, G, ...</td>\n",
       "      <td>[8.8, 8.6, 8.4, 8.2, 8.0, 8.1, 7.8, 7.2, 7.3, ...</td>\n",
       "      <td>[Christopher Nolan, Quentin Tarantino, Martin ...</td>\n",
       "      <td>[Leonardo DiCaprio, Joseph Gordon-Levitt, Elli...</td>\n",
       "      <td>[Action, Adventure, Sci-Fi, Thriller, Drama, W...</td>\n",
       "      <td>[dream, ambiguous ending, subconscious, mindbe...</td>\n",
       "      <td>[United States, United Kingdom, United States,...</td>\n",
       "      <td>[English, Japanese, French, Arabic, German, It...</td>\n",
       "      <td>[Fortress Mountain, Kananaskis Country, Albert...</td>\n",
       "      <td>[Warner Bros., Legendary Entertainment, Syncop...</td>\n",
       "      <td>[2010.0, 2014.0, 2012.0, 2013.0, 2019.0, 2018....</td>\n",
       "    </tr>\n",
       "  </tbody>\n",
       "</table>\n",
       "</div>"
      ],
      "text/plain": [
       "                                                               id  \\\n",
       "Value                                                               \n",
       "missing_ratio%                                                0.0   \n",
       "num_diff_vals                                               10249   \n",
       "diff_vals       [tt1375666, tt0816692, tt1345836, tt1853728, t...   \n",
       "\n",
       "                                                             name  \\\n",
       "Value                                                               \n",
       "missing_ratio%                                                0.0   \n",
       "num_diff_vals                                               10152   \n",
       "diff_vals       [Kẻ Đánh Cắp Giấc Mơ, Hố Đen Tử Thần, Kỵ Sĩ Bó...   \n",
       "\n",
       "                                                         overview  \\\n",
       "Value                                                               \n",
       "missing_ratio%                                                0.0   \n",
       "num_diff_vals                                               10244   \n",
       "diff_vals       [A thief who steals corporate secrets through ...   \n",
       "\n",
       "                                                      certificate  \\\n",
       "Value                                                               \n",
       "missing_ratio%                                          55.585911   \n",
       "num_diff_vals                                                  12   \n",
       "diff_vals       [PG-13, C13, R, P, C18, C16, (Banned), PG, G, ...   \n",
       "\n",
       "                                                        imdb_rate  \\\n",
       "Value                                                               \n",
       "missing_ratio%                                                0.0   \n",
       "num_diff_vals                                                  85   \n",
       "diff_vals       [8.8, 8.6, 8.4, 8.2, 8.0, 8.1, 7.8, 7.2, 7.3, ...   \n",
       "\n",
       "                                                         director  \\\n",
       "Value                                                               \n",
       "missing_ratio%                                                0.0   \n",
       "num_diff_vals                                                6973   \n",
       "diff_vals       [Christopher Nolan, Quentin Tarantino, Martin ...   \n",
       "\n",
       "                                                            casts  \\\n",
       "Value                                                               \n",
       "missing_ratio%                                           0.058542   \n",
       "num_diff_vals                                               20361   \n",
       "diff_vals       [Leonardo DiCaprio, Joseph Gordon-Levitt, Elli...   \n",
       "\n",
       "                                                           genres  \\\n",
       "Value                                                               \n",
       "missing_ratio%                                                0.0   \n",
       "num_diff_vals                                                  21   \n",
       "diff_vals       [Action, Adventure, Sci-Fi, Thriller, Drama, W...   \n",
       "\n",
       "                                                         keywords  \\\n",
       "Value                                                               \n",
       "missing_ratio%                                           2.722217   \n",
       "num_diff_vals                                               14534   \n",
       "diff_vals       [dream, ambiguous ending, subconscious, mindbe...   \n",
       "\n",
       "                                                        countries  \\\n",
       "Value                                                               \n",
       "missing_ratio%                                           0.058542   \n",
       "num_diff_vals                                                1378   \n",
       "diff_vals       [United States, United Kingdom, United States,...   \n",
       "\n",
       "                                                        languages  \\\n",
       "Value                                                               \n",
       "missing_ratio%                                           0.585423   \n",
       "num_diff_vals                                                 193   \n",
       "diff_vals       [English, Japanese, French, Arabic, German, It...   \n",
       "\n",
       "                                                        locations  \\\n",
       "Value                                                               \n",
       "missing_ratio%                                          21.719192   \n",
       "num_diff_vals                                                5135   \n",
       "diff_vals       [Fortress Mountain, Kananaskis Country, Albert...   \n",
       "\n",
       "                                                        companies  \\\n",
       "Value                                                               \n",
       "missing_ratio%                                           1.795297   \n",
       "num_diff_vals                                               10353   \n",
       "diff_vals       [Warner Bros., Legendary Entertainment, Syncop...   \n",
       "\n",
       "                                                             year  \n",
       "Value                                                              \n",
       "missing_ratio%                                           0.048785  \n",
       "num_diff_vals                                                  14  \n",
       "diff_vals       [2010.0, 2014.0, 2012.0, 2013.0, 2019.0, 2018....  "
      ]
     },
     "execution_count": 17,
     "metadata": {},
     "output_type": "execute_result"
    }
   ],
   "source": [
    "def get_cate_col_profiles(df, cate_col):\n",
    "    missing_ratio = []\n",
    "    num_diff_vals = []\n",
    "    diff_vals = []\n",
    "    for col in cate_col:\n",
    "        column = df[col].dropna()\n",
    "        missing_ratio.append( 100 - len(column) / 10249 * 100)\n",
    "        diff_val = column.to_list()\n",
    "        if type(column[0]) == list:\n",
    "            diff_val = pd.Series(sum(diff_val, [])).unique()\n",
    "        else:\n",
    "            diff_val = pd.Series(diff_val).unique()\n",
    "        num_diff_vals.append(len(diff_val))\n",
    "        diff_vals.append(diff_val)\n",
    "    profile = pd.DataFrame(([ missing_ratio, num_diff_vals, diff_vals]), columns = cate_col)\n",
    "    \n",
    "    index = pd.Series([\"missing_ratio%\", \"num_diff_vals\", \"diff_vals\"])\n",
    "    profile['Value'] = index\n",
    "    profile = pd.DataFrame(profile.set_index('Value'))\n",
    "    \n",
    "    return profile\n",
    "cate_col = ['id', 'name', 'overview', 'certificate', 'imdb_rate', 'director', 'casts', 'genres', 'keywords',\n",
    "             'countries', 'languages', 'locations', 'companies', 'year' ]\n",
    "cate_col_profiles_df = get_cate_col_profiles(df, cate_col)\n",
    "cate_col_profiles_df"
   ]
  },
  {
   "cell_type": "markdown",
   "id": "8ec393fd",
   "metadata": {},
   "source": [
    "`certificate` ta sẽ thay thế các giá trị bị thiếu thành `Unrate`"
   ]
  },
  {
   "cell_type": "code",
   "execution_count": 18,
   "id": "81422e33",
   "metadata": {},
   "outputs": [],
   "source": [
    "df['certificate'] = df['certificate'].fillna('Unrate')"
   ]
  },
  {
   "cell_type": "markdown",
   "id": "5f001134",
   "metadata": {},
   "source": [
    "Các row có nhiều giá trị Null sẽ không đáng tin cậy. Vì vậy ta sẽ xóa các row có giá trị Null nhiều hơn 3."
   ]
  },
  {
   "cell_type": "code",
   "execution_count": 19,
   "id": "3eca51af",
   "metadata": {},
   "outputs": [],
   "source": [
    "df = df[df.isnull().sum(axis=1) < 3]"
   ]
  },
  {
   "cell_type": "code",
   "execution_count": 20,
   "id": "b74ed12c",
   "metadata": {},
   "outputs": [
    {
     "data": {
      "text/plain": [
       "(9478, 19)"
      ]
     },
     "execution_count": 20,
     "metadata": {},
     "output_type": "execute_result"
    }
   ],
   "source": [
    "df.shape"
   ]
  },
  {
   "cell_type": "markdown",
   "id": "534fbde8",
   "metadata": {},
   "source": [
    "# 2. Đặt câu hỏi:"
   ]
  },
  {
   "cell_type": "markdown",
   "id": "a959cbb8",
   "metadata": {},
   "source": []
  }
 ],
 "metadata": {
  "kernelspec": {
   "display_name": "Python 3 (ipykernel)",
   "language": "python",
   "name": "python3"
  },
  "language_info": {
   "codemirror_mode": {
    "name": "ipython",
    "version": 3
   },
   "file_extension": ".py",
   "mimetype": "text/x-python",
   "name": "python",
   "nbconvert_exporter": "python",
   "pygments_lexer": "ipython3",
   "version": "3.8.8"
  }
 },
 "nbformat": 4,
 "nbformat_minor": 5
}
