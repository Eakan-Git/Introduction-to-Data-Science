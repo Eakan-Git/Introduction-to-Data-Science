{
 "cells": [
  {
   "cell_type": "code",
   "execution_count": 68,
   "id": "2c9aa104",
   "metadata": {},
   "outputs": [
    {
     "name": "stdout",
     "output_type": "stream",
     "text": [
      "p1.txt\n",
      "p1.jpg\n",
      "p1.pptx\n"
     ]
    }
   ],
   "source": [
    "from pathlib import Path\n",
    "import pathlib\n",
    "from shutil import copy\n",
    "\n",
    "import os\n",
    "\n",
    "current_directory = os.getcwd()\n",
    "des = os.path.join(current_directory,r'save_all_file')\n",
    "\n",
    "if not os.path.exists(des):\n",
    "    os.makedirs(des)\n",
    "\n",
    "p = Path('.')\n",
    "\n",
    "for direc in p.iterdir():\n",
    "    if (direc.is_dir()) & (direc.name != 'save_all_file'):\n",
    "        for path in Path(direc).rglob(f'{direc.name}*'):\n",
    "            print(path.name)\n",
    "            copy(path, des)\n",
    "        \n",
    "#         for file in direc.iterdir():\n",
    "\n",
    "#             if file.stem == direc.name:\n",
    "#                 copy(file, des)\n"
   ]
  },
  {
   "cell_type": "code",
   "execution_count": 67,
   "id": "085dba28",
   "metadata": {},
   "outputs": [],
   "source": [
    "current_directory = os.getcwd()\n",
    "des = os.path.join(current_directory, 'save_all_file')\n",
    "\n"
   ]
  },
  {
   "cell_type": "code",
   "execution_count": 14,
   "id": "fbd4fd89",
   "metadata": {},
   "outputs": [
    {
     "data": {
      "text/plain": [
       "'C:\\\\Users\\\\tranq\\\\Downloads\\\\Introduction-to-Data-Science'"
      ]
     },
     "execution_count": 14,
     "metadata": {},
     "output_type": "execute_result"
    }
   ],
   "source": [
    "import os\n",
    "os.path.abspath(os.getcwd())"
   ]
  }
 ],
 "metadata": {
  "kernelspec": {
   "display_name": "Python 3 (ipykernel)",
   "language": "python",
   "name": "python3"
  },
  "language_info": {
   "codemirror_mode": {
    "name": "ipython",
    "version": 3
   },
   "file_extension": ".py",
   "mimetype": "text/x-python",
   "name": "python",
   "nbconvert_exporter": "python",
   "pygments_lexer": "ipython3",
   "version": "3.9.12"
  }
 },
 "nbformat": 4,
 "nbformat_minor": 5
}
