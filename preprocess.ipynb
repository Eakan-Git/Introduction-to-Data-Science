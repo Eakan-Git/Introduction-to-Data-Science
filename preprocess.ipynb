{
 "cells": [
  {
   "cell_type": "code",
   "execution_count": 1,
   "id": "f6accb13",
   "metadata": {},
   "outputs": [],
   "source": [
    "import pandas as pd\n",
    "import numpy as np\n",
    "import matplotlib.pyplot as plt\n",
    "import re"
   ]
  },
  {
   "cell_type": "code",
   "execution_count": 2,
   "id": "eb8306c0",
   "metadata": {},
   "outputs": [
    {
     "data": {
      "text/html": [
       "<div>\n",
       "<style scoped>\n",
       "    .dataframe tbody tr th:only-of-type {\n",
       "        vertical-align: middle;\n",
       "    }\n",
       "\n",
       "    .dataframe tbody tr th {\n",
       "        vertical-align: top;\n",
       "    }\n",
       "\n",
       "    .dataframe thead th {\n",
       "        text-align: right;\n",
       "    }\n",
       "</style>\n",
       "<table border=\"1\" class=\"dataframe\">\n",
       "  <thead>\n",
       "    <tr style=\"text-align: right;\">\n",
       "      <th></th>\n",
       "      <th>name</th>\n",
       "      <th>overview</th>\n",
       "      <th>tagline</th>\n",
       "      <th>certificate</th>\n",
       "      <th>runtime</th>\n",
       "      <th>genre</th>\n",
       "      <th>keywords</th>\n",
       "      <th>imdb_rate</th>\n",
       "      <th>metascore</th>\n",
       "      <th>director</th>\n",
       "      <th>stars</th>\n",
       "      <th>nvote</th>\n",
       "      <th>gross</th>\n",
       "      <th>release_date</th>\n",
       "      <th>countries</th>\n",
       "      <th>language</th>\n",
       "      <th>locations</th>\n",
       "      <th>company</th>\n",
       "    </tr>\n",
       "  </thead>\n",
       "  <tbody>\n",
       "    <tr>\n",
       "      <th>0</th>\n",
       "      <td>Kẻ Đánh Cắp Giấc Mơ</td>\n",
       "      <td>A thief who steals corporate secrets through t...</td>\n",
       "      <td>Your mind is the scene of the crime</td>\n",
       "      <td>PG-13</td>\n",
       "      <td>148.0</td>\n",
       "      <td>['Action', 'Adventure', 'Sci-Fi']</td>\n",
       "      <td>['dream', 'ambiguous ending', 'subconscious', ...</td>\n",
       "      <td>8.8</td>\n",
       "      <td>74.0</td>\n",
       "      <td>['Christopher Nolan']</td>\n",
       "      <td>['Leonardo DiCaprio', 'Joseph Gordon-Levitt', ...</td>\n",
       "      <td>2342938</td>\n",
       "      <td>292.58</td>\n",
       "      <td>July 16, 2010 (United States)</td>\n",
       "      <td>['United States', 'United Kingdom']</td>\n",
       "      <td>['English', 'Japanese', 'French']</td>\n",
       "      <td>['Fortress Mountain, Kananaskis Country, Alber...</td>\n",
       "      <td>['Warner Bros.', 'Legendary Entertainment', 'S...</td>\n",
       "    </tr>\n",
       "    <tr>\n",
       "      <th>1</th>\n",
       "      <td>Hố Đen Tử Thần</td>\n",
       "      <td>A team of explorers travel through a wormhole ...</td>\n",
       "      <td>Mankind was born on Earth. It was never meant ...</td>\n",
       "      <td>C13</td>\n",
       "      <td>169.0</td>\n",
       "      <td>['Adventure', 'Drama', 'Sci-Fi']</td>\n",
       "      <td>['astronaut', 'saving the world', 'space trave...</td>\n",
       "      <td>8.6</td>\n",
       "      <td>74.0</td>\n",
       "      <td>['Christopher Nolan']</td>\n",
       "      <td>['Matthew McConaughey', 'Anne Hathaway', 'Jess...</td>\n",
       "      <td>1819025</td>\n",
       "      <td>188.02</td>\n",
       "      <td>November 7, 2014 (United States)</td>\n",
       "      <td>['United States', 'United Kingdom', 'Canada']</td>\n",
       "      <td>['English']</td>\n",
       "      <td>['Iceland']</td>\n",
       "      <td>['Paramount Pictures', 'Warner Bros.', 'Legend...</td>\n",
       "    </tr>\n",
       "    <tr>\n",
       "      <th>2</th>\n",
       "      <td>Kỵ Sĩ Bóng Đêm Trỗi Dậy</td>\n",
       "      <td>Eight years after the Joker's reign of anarchy...</td>\n",
       "      <td>The Legend Ends</td>\n",
       "      <td>PG-13</td>\n",
       "      <td>164.0</td>\n",
       "      <td>['Action', 'Drama']</td>\n",
       "      <td>['dc comics', 'batman character', 'bruce wayne...</td>\n",
       "      <td>8.4</td>\n",
       "      <td>78.0</td>\n",
       "      <td>['Christopher Nolan']</td>\n",
       "      <td>['Christian Bale', 'Tom Hardy', 'Anne Hathaway...</td>\n",
       "      <td>1700671</td>\n",
       "      <td>448.14</td>\n",
       "      <td>July 20, 2012 (United States)</td>\n",
       "      <td>['United States', 'United Kingdom']</td>\n",
       "      <td>['English', 'Arabic']</td>\n",
       "      <td>['Mehrangarh Fort, Jodhpur, Rajasthan, India']</td>\n",
       "      <td>['Warner Bros.', 'Legendary Entertainment', 'D...</td>\n",
       "    </tr>\n",
       "    <tr>\n",
       "      <th>3</th>\n",
       "      <td>Hành Trình Django</td>\n",
       "      <td>With the help of a German bounty-hunter, a fre...</td>\n",
       "      <td>Life, liberty and the pursuit of vengeance.</td>\n",
       "      <td>R</td>\n",
       "      <td>165.0</td>\n",
       "      <td>['Drama', 'Western']</td>\n",
       "      <td>['racial vengeance', 'racial violence', 'slave...</td>\n",
       "      <td>8.4</td>\n",
       "      <td>81.0</td>\n",
       "      <td>['Quentin Tarantino']</td>\n",
       "      <td>['Jamie Foxx', 'Christoph Waltz', 'Leonardo Di...</td>\n",
       "      <td>1548179</td>\n",
       "      <td>162.81</td>\n",
       "      <td>December 25, 2012 (United States)</td>\n",
       "      <td>['United States']</td>\n",
       "      <td>['English', 'German', 'French', 'Italian']</td>\n",
       "      <td>['Evergreen Plantation, 4677 Highway 18, Edgar...</td>\n",
       "      <td>['The Weinstein Company', 'Columbia Pictures']</td>\n",
       "    </tr>\n",
       "    <tr>\n",
       "      <th>4</th>\n",
       "      <td>Sói Già Phố Wall</td>\n",
       "      <td>Based on the true story of Jordan Belfort, fro...</td>\n",
       "      <td>Earn. Spend. Party.</td>\n",
       "      <td>R</td>\n",
       "      <td>180.0</td>\n",
       "      <td>['Biography', 'Comedy', 'Crime']</td>\n",
       "      <td>['based on true story', 'stockbroker', 'female...</td>\n",
       "      <td>8.2</td>\n",
       "      <td>75.0</td>\n",
       "      <td>['Martin Scorsese']</td>\n",
       "      <td>['Leonardo DiCaprio', 'Jonah Hill', 'Margot Ro...</td>\n",
       "      <td>1403561</td>\n",
       "      <td>116.90</td>\n",
       "      <td>December 25, 2013 (United States)</td>\n",
       "      <td>['United States']</td>\n",
       "      <td>['English', 'French']</td>\n",
       "      <td>['Portofino, Genoa, Liguria, Italy']</td>\n",
       "      <td>['Red Granite Pictures', 'Appian Way', 'Sikeli...</td>\n",
       "    </tr>\n",
       "  </tbody>\n",
       "</table>\n",
       "</div>"
      ],
      "text/plain": [
       "                      name                                           overview  \\\n",
       "0      Kẻ Đánh Cắp Giấc Mơ  A thief who steals corporate secrets through t...   \n",
       "1           Hố Đen Tử Thần  A team of explorers travel through a wormhole ...   \n",
       "2  Kỵ Sĩ Bóng Đêm Trỗi Dậy  Eight years after the Joker's reign of anarchy...   \n",
       "3        Hành Trình Django  With the help of a German bounty-hunter, a fre...   \n",
       "4         Sói Già Phố Wall  Based on the true story of Jordan Belfort, fro...   \n",
       "\n",
       "                                             tagline certificate  runtime  \\\n",
       "0                Your mind is the scene of the crime       PG-13    148.0   \n",
       "1  Mankind was born on Earth. It was never meant ...         C13    169.0   \n",
       "2                                    The Legend Ends       PG-13    164.0   \n",
       "3        Life, liberty and the pursuit of vengeance.           R    165.0   \n",
       "4                                Earn. Spend. Party.           R    180.0   \n",
       "\n",
       "                               genre  \\\n",
       "0  ['Action', 'Adventure', 'Sci-Fi']   \n",
       "1   ['Adventure', 'Drama', 'Sci-Fi']   \n",
       "2                ['Action', 'Drama']   \n",
       "3               ['Drama', 'Western']   \n",
       "4   ['Biography', 'Comedy', 'Crime']   \n",
       "\n",
       "                                            keywords  imdb_rate  metascore  \\\n",
       "0  ['dream', 'ambiguous ending', 'subconscious', ...        8.8       74.0   \n",
       "1  ['astronaut', 'saving the world', 'space trave...        8.6       74.0   \n",
       "2  ['dc comics', 'batman character', 'bruce wayne...        8.4       78.0   \n",
       "3  ['racial vengeance', 'racial violence', 'slave...        8.4       81.0   \n",
       "4  ['based on true story', 'stockbroker', 'female...        8.2       75.0   \n",
       "\n",
       "                director                                              stars  \\\n",
       "0  ['Christopher Nolan']  ['Leonardo DiCaprio', 'Joseph Gordon-Levitt', ...   \n",
       "1  ['Christopher Nolan']  ['Matthew McConaughey', 'Anne Hathaway', 'Jess...   \n",
       "2  ['Christopher Nolan']  ['Christian Bale', 'Tom Hardy', 'Anne Hathaway...   \n",
       "3  ['Quentin Tarantino']  ['Jamie Foxx', 'Christoph Waltz', 'Leonardo Di...   \n",
       "4    ['Martin Scorsese']  ['Leonardo DiCaprio', 'Jonah Hill', 'Margot Ro...   \n",
       "\n",
       "     nvote   gross                       release_date  \\\n",
       "0  2342938  292.58      July 16, 2010 (United States)   \n",
       "1  1819025  188.02   November 7, 2014 (United States)   \n",
       "2  1700671  448.14      July 20, 2012 (United States)   \n",
       "3  1548179  162.81  December 25, 2012 (United States)   \n",
       "4  1403561  116.90  December 25, 2013 (United States)   \n",
       "\n",
       "                                       countries  \\\n",
       "0            ['United States', 'United Kingdom']   \n",
       "1  ['United States', 'United Kingdom', 'Canada']   \n",
       "2            ['United States', 'United Kingdom']   \n",
       "3                              ['United States']   \n",
       "4                              ['United States']   \n",
       "\n",
       "                                     language  \\\n",
       "0           ['English', 'Japanese', 'French']   \n",
       "1                                 ['English']   \n",
       "2                       ['English', 'Arabic']   \n",
       "3  ['English', 'German', 'French', 'Italian']   \n",
       "4                       ['English', 'French']   \n",
       "\n",
       "                                           locations  \\\n",
       "0  ['Fortress Mountain, Kananaskis Country, Alber...   \n",
       "1                                        ['Iceland']   \n",
       "2     ['Mehrangarh Fort, Jodhpur, Rajasthan, India']   \n",
       "3  ['Evergreen Plantation, 4677 Highway 18, Edgar...   \n",
       "4               ['Portofino, Genoa, Liguria, Italy']   \n",
       "\n",
       "                                             company  \n",
       "0  ['Warner Bros.', 'Legendary Entertainment', 'S...  \n",
       "1  ['Paramount Pictures', 'Warner Bros.', 'Legend...  \n",
       "2  ['Warner Bros.', 'Legendary Entertainment', 'D...  \n",
       "3     ['The Weinstein Company', 'Columbia Pictures']  \n",
       "4  ['Red Granite Pictures', 'Appian Way', 'Sikeli...  "
      ]
     },
     "execution_count": 2,
     "metadata": {},
     "output_type": "execute_result"
    }
   ],
   "source": [
    "md = pd.read_csv('movies_data.csv')\n",
    "md = md.loc[:, ~md.columns.str.contains('^Unnamed')]\n",
    "md.head()"
   ]
  },
  {
   "cell_type": "code",
   "execution_count": 3,
   "id": "f5d17d27",
   "metadata": {},
   "outputs": [
    {
     "data": {
      "text/plain": [
       "(1000, 18)"
      ]
     },
     "execution_count": 3,
     "metadata": {},
     "output_type": "execute_result"
    }
   ],
   "source": [
    "md.shape"
   ]
  },
  {
   "cell_type": "code",
   "execution_count": 4,
   "id": "a6af4f79",
   "metadata": {},
   "outputs": [
    {
     "data": {
      "text/html": [
       "<div>\n",
       "<style scoped>\n",
       "    .dataframe tbody tr th:only-of-type {\n",
       "        vertical-align: middle;\n",
       "    }\n",
       "\n",
       "    .dataframe tbody tr th {\n",
       "        vertical-align: top;\n",
       "    }\n",
       "\n",
       "    .dataframe thead th {\n",
       "        text-align: right;\n",
       "    }\n",
       "</style>\n",
       "<table border=\"1\" class=\"dataframe\">\n",
       "  <thead>\n",
       "    <tr style=\"text-align: right;\">\n",
       "      <th></th>\n",
       "      <th>name</th>\n",
       "      <th>overview</th>\n",
       "      <th>tagline</th>\n",
       "      <th>certificate</th>\n",
       "      <th>runtime</th>\n",
       "      <th>genre</th>\n",
       "      <th>keywords</th>\n",
       "      <th>imdb_rate</th>\n",
       "      <th>metascore</th>\n",
       "      <th>director</th>\n",
       "      <th>stars</th>\n",
       "      <th>nvote</th>\n",
       "      <th>gross</th>\n",
       "      <th>release_date</th>\n",
       "      <th>countries</th>\n",
       "      <th>language</th>\n",
       "      <th>locations</th>\n",
       "      <th>company</th>\n",
       "    </tr>\n",
       "  </thead>\n",
       "  <tbody>\n",
       "    <tr>\n",
       "      <th>type</th>\n",
       "      <td>object</td>\n",
       "      <td>object</td>\n",
       "      <td>object</td>\n",
       "      <td>object</td>\n",
       "      <td>float64</td>\n",
       "      <td>object</td>\n",
       "      <td>object</td>\n",
       "      <td>float64</td>\n",
       "      <td>float64</td>\n",
       "      <td>object</td>\n",
       "      <td>object</td>\n",
       "      <td>int64</td>\n",
       "      <td>float64</td>\n",
       "      <td>object</td>\n",
       "      <td>object</td>\n",
       "      <td>object</td>\n",
       "      <td>object</td>\n",
       "      <td>object</td>\n",
       "    </tr>\n",
       "    <tr>\n",
       "      <th>null values</th>\n",
       "      <td>0</td>\n",
       "      <td>0</td>\n",
       "      <td>72</td>\n",
       "      <td>33</td>\n",
       "      <td>0</td>\n",
       "      <td>0</td>\n",
       "      <td>0</td>\n",
       "      <td>0</td>\n",
       "      <td>510</td>\n",
       "      <td>0</td>\n",
       "      <td>0</td>\n",
       "      <td>0</td>\n",
       "      <td>94</td>\n",
       "      <td>0</td>\n",
       "      <td>0</td>\n",
       "      <td>0</td>\n",
       "      <td>0</td>\n",
       "      <td>0</td>\n",
       "    </tr>\n",
       "  </tbody>\n",
       "</table>\n",
       "</div>"
      ],
      "text/plain": [
       "               name overview tagline certificate  runtime   genre keywords  \\\n",
       "type         object   object  object      object  float64  object   object   \n",
       "null values       0        0      72          33        0       0        0   \n",
       "\n",
       "            imdb_rate metascore director   stars  nvote    gross release_date  \\\n",
       "type          float64   float64   object  object  int64  float64       object   \n",
       "null values         0       510        0       0      0       94            0   \n",
       "\n",
       "            countries language locations company  \n",
       "type           object   object    object  object  \n",
       "null values         0        0         0       0  "
      ]
     },
     "execution_count": 4,
     "metadata": {},
     "output_type": "execute_result"
    }
   ],
   "source": [
    "pd.DataFrame(pd.concat([md.dtypes, md.isnull().sum()], axis=1)).T.rename(index={0:'type', 1:'null values'})"
   ]
  },
  {
   "cell_type": "markdown",
   "id": "85a93db1",
   "metadata": {},
   "source": [
    "**release_date** cần có kiểu dữ liệu là datetime"
   ]
  },
  {
   "cell_type": "code",
   "execution_count": 5,
   "id": "a7843de1",
   "metadata": {},
   "outputs": [
    {
     "data": {
      "text/plain": [
       "0          July 16, 2010 (United States)\n",
       "1       November 7, 2014 (United States)\n",
       "2          July 20, 2012 (United States)\n",
       "3      December 25, 2012 (United States)\n",
       "4      December 25, 2013 (United States)\n",
       "                     ...                \n",
       "995         July 6, 2012 (United States)\n",
       "996       March 31, 2010 (United States)\n",
       "997      August 26, 2011 (United States)\n",
       "998      August 23, 2013 (United States)\n",
       "999       March 30, 2012 (United States)\n",
       "Name: release_date, Length: 1000, dtype: object"
      ]
     },
     "execution_count": 5,
     "metadata": {},
     "output_type": "execute_result"
    }
   ],
   "source": [
    "md['release_date']"
   ]
  },
  {
   "cell_type": "code",
   "execution_count": 6,
   "id": "2d949613",
   "metadata": {},
   "outputs": [
    {
     "data": {
      "text/plain": [
       "0          July 16, 2010 \n",
       "1       November 7, 2014 \n",
       "2          July 20, 2012 \n",
       "3      December 25, 2012 \n",
       "4      December 25, 2013 \n",
       "              ...        \n",
       "995         July 6, 2012 \n",
       "996       March 31, 2010 \n",
       "997      August 26, 2011 \n",
       "998      August 23, 2013 \n",
       "999       March 30, 2012 \n",
       "Name: release_date, Length: 1000, dtype: object"
      ]
     },
     "execution_count": 6,
     "metadata": {},
     "output_type": "execute_result"
    }
   ],
   "source": [
    "def remove_bracket(test_str):\n",
    "    ret = ''\n",
    "    skip = 0\n",
    "    for i in test_str:\n",
    "        if i == '(':\n",
    "            skip += 1\n",
    "        elif i == ')'and skip > 0:\n",
    "            skip -= 1\n",
    "        elif skip == 0:\n",
    "            ret += i\n",
    "    return ret\n",
    "md['release_date'] = md['release_date'].map(lambda x: remove_bracket(x))\n",
    "md['release_date']"
   ]
  },
  {
   "cell_type": "code",
   "execution_count": 7,
   "id": "7c4c8604",
   "metadata": {},
   "outputs": [],
   "source": [
    "md['release_date'] = pd.to_datetime(md['release_date'])"
   ]
  },
  {
   "cell_type": "code",
   "execution_count": 8,
   "id": "ac612a62",
   "metadata": {},
   "outputs": [],
   "source": [
    "md['name'] = md['name'].astype('string')\n",
    "md['overview'] = md['overview'].astype('string')\n",
    "md['tagline'] = md['tagline'].astype('string')\n",
    "md['certificate'] = md['certificate'].astype('string')"
   ]
  },
  {
   "cell_type": "markdown",
   "id": "781680c5",
   "metadata": {},
   "source": [
    "\n",
    "\n",
    "\n",
    "\n",
    "\n",
    "\n",
    "\n",
    "\n"
   ]
  },
  {
   "cell_type": "code",
   "execution_count": 29,
   "id": "bd8c0268",
   "metadata": {},
   "outputs": [
    {
     "name": "stdout",
     "output_type": "stream",
     "text": [
      "max:  321.0\n",
      "min:  80.0\n",
      "min:  115.989\n"
     ]
    }
   ],
   "source": [
    "print('max: ',md['runtime'].max())\n",
    "print('min: ',md['runtime'].min())\n",
    "print('min: ',md['runtime'].mean())"
   ]
  },
  {
   "cell_type": "code",
   "execution_count": 50,
   "id": "afed428a",
   "metadata": {},
   "outputs": [
    {
     "data": {
      "text/plain": [
       "<AxesSubplot:>"
      ]
     },
     "execution_count": 50,
     "metadata": {},
     "output_type": "execute_result"
    },
    {
     "data": {
      "image/png": "[encoded data removed]",
      "text/plain": [
       "<Figure size 1440x720 with 1 Axes>"
      ]
     },
     "metadata": {
      "needs_background": "light"
     },
     "output_type": "display_data"
    }
   ],
   "source": [
    "a = md['language'].apply(lambda x: x[1:-1].split(', ')).explode().value_counts().head(10)\n",
    "a[::-1].plot.barh()"
   ]
  },
  {
   "cell_type": "code",
   "execution_count": 52,
   "id": "e66322eb",
   "metadata": {},
   "outputs": [
    {
     "data": {
      "text/plain": [
       "<AxesSubplot:>"
      ]
     },
     "execution_count": 52,
     "metadata": {},
     "output_type": "execute_result"
    },
    {
     "data": {
      "image/png": "[encoded data removed]",
      "text/plain": [
       "<Figure size 1440x720 with 1 Axes>"
      ]
     },
     "metadata": {
      "needs_background": "light"
     },
     "output_type": "display_data"
    }
   ],
   "source": [
    "a = md['genre'].apply(lambda x: x[1:-1].split(', ')).explode().value_counts().head(20)\n",
    "a[::-1].plot.barh()"
   ]
  },
  {
   "cell_type": "code",
   "execution_count": 64,
   "id": "9903bb99",
   "metadata": {},
   "outputs": [
    {
     "data": {
      "text/plain": [
       "'sequel'                          42\n",
       "'superhero'                       38\n",
       "'alien'                           30\n",
       "'female protagonist'              25\n",
       "'based on comic book'             21\n",
       "'spy'                             19\n",
       "'friendship'                      18\n",
       "'survival'                        18\n",
       "'dystopia'                        17\n",
       "'based on true story'             17\n",
       "'based on novel'                  17\n",
       "'magic'                           16\n",
       "'murder'                          16\n",
       "'female nudity'                   16\n",
       "'father daughter relationship'    16\n",
       "'revenge'                         15\n",
       "'violence'                        15\n",
       "'neo noir'                        14\n",
       "'vampire'                         14\n",
       "'father son relationship'         14\n",
       "'marvel cinematic universe'       14\n",
       "'remake'                          13\n",
       "'husband wife relationship'       13\n",
       "'post apocalypse'                 13\n",
       "'snow adventure'                  13\n",
       "'assassin'                        13\n",
       "'marvel comics'                   13\n",
       "'new york city'                   13\n",
       "'mother son relationship'         13\n",
       "'police'                          12\n",
       "Name: keywords, dtype: int64"
      ]
     },
     "execution_count": 64,
     "metadata": {},
     "output_type": "execute_result"
    }
   ],
   "source": [
    "a = md['keywords'].apply(lambda x: x[1:-1].split(', ')).explode().value_counts(sort=True).head(30)\n",
    "a"
   ]
  }
 ],
 "metadata": {
  "kernelspec": {
   "display_name": "Python 3 (ipykernel)",
   "language": "python",
   "name": "python3"
  },
  "language_info": {
   "codemirror_mode": {
    "name": "ipython",
    "version": 3
   },
   "file_extension": ".py",
   "mimetype": "text/x-python",
   "name": "python",
   "nbconvert_exporter": "python",
   "pygments_lexer": "ipython3",
   "version": "3.9.12"
  }
 },
 "nbformat": 4,
 "nbformat_minor": 5
}
