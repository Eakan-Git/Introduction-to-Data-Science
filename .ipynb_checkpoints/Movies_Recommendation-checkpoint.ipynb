{
 "cells": [
  {
   "cell_type": "markdown",
   "metadata": {
    "id": "LDfTYFxx9lZb"
   },
   "source": [
    "# Overview"
   ]
  },
  {
   "cell_type": "markdown",
   "metadata": {
    "id": "x0T1I0CR99CR"
   },
   "source": [
    "## Project description\n",
    "We want to analysis top rated movies and find out what makes a movie on top.\n",
    "\n",
    "Further more, we build an application to recommend movies based on your favourite movie. Here, a movie name is needed."
   ]
  },
  {
   "cell_type": "markdown",
   "metadata": {
    "id": "81xDnLdk-AVH"
   },
   "source": [
    "## Group members\n",
    "| Student ID    | Fullname      |\n",
    "| :-------------: |:-------------:|\n",
    "| 19127608      | Nguyễn Quang Trường |\n",
    "| 20127655      | Trần Quốc Trung      |\n",
    "| 20127374 | Nguyễn Đức Trường      |"
   ]
  },
  {
   "cell_type": "markdown",
   "metadata": {
    "id": "Xm3qdv6w2f_g"
   },
   "source": [
    "# Libraries importing"
   ]
  },
  {
   "cell_type": "code",
   "execution_count": 5,
   "metadata": {
    "id": "hTKlsVRs0870"
   },
   "outputs": [],
   "source": [
    "import requests\n",
    "from bs4 import BeautifulSoup\n",
    "import pandas as pd\n",
    "import time\n",
    "import json"
   ]
  },
  {
   "cell_type": "markdown",
   "metadata": {
    "id": "HM2LbVDx9aDu"
   },
   "source": [
    "# Data Fetching and Analysis"
   ]
  },
  {
   "cell_type": "markdown",
   "metadata": {
    "id": "oGEap1RX_vUn"
   },
   "source": [
    "## Data Fetching"
   ]
  },
  {
   "cell_type": "markdown",
   "metadata": {
    "id": "SWiqRZ983erS"
   },
   "source": [
    "### Fetch data from TMDb API (*)"
   ]
  },
  {
   "cell_type": "markdown",
   "metadata": {
    "id": "z2YhNQibA6FC"
   },
   "source": [
    "**Run this cell of code if you had not got the data file**"
   ]
  },
  {
   "cell_type": "markdown",
   "metadata": {
    "id": "KWej8wli8VnO"
   },
   "source": [
    "Get about 10.000 movies data from the API using Python requests library.\n",
    "\n",
    "*It may takes a little time depends on your internet speed.*"
   ]
  },
  {
   "cell_type": "code",
   "execution_count": 9,
   "metadata": {
    "id": "6_QlTipd3iF6"
   },
   "outputs": [],
   "source": [
    "for i in range(1,500):\n",
    "  url = f'https://api.themoviedb.org/3/movie/top_rated?api_key=6d2048ea10e52ddee350f2df79c190c7&language=en-US&page={i}'\n",
    "  response = requests.get(url).json()\n",
    "  df_i = pd.DataFrame(response['results'])[['id','title','overview','genre_ids', 'original_language','release_date','vote_average', 'vote_count']]\n",
    "  df = pd.concat([df,df_i], axis=0)"
   ]
  },
  {
   "cell_type": "markdown",
   "metadata": {
    "id": "DJfsH3gtAf6_"
   },
   "source": [
    "### Read data from file (*)"
   ]
  },
  {
   "cell_type": "markdown",
   "metadata": {
    "id": "EbpT0wtjAl4p"
   },
   "source": [
    "**Run this cell of code if you had got the data file**"
   ]
  },
  {
   "cell_type": "code",
   "execution_count": 12,
   "metadata": {
    "id": "BH6iOL8MA4vM"
   },
   "outputs": [],
   "source": [
    "df = pd.read_excel('Movies_Data.xlsx')"
   ]
  },
  {
   "cell_type": "markdown",
   "metadata": {
    "id": "bysbWI098p5n"
   },
   "source": [
    "Check the DataFrame"
   ]
  },
  {
   "cell_type": "code",
   "execution_count": 13,
   "metadata": {
    "colab": {
     "base_uri": "https://localhost:8080/",
     "height": 424
    },
    "id": "2XYcfMQN6qnN",
    "outputId": "a8644fca-0b51-4fc8-fa0f-c869dd8d1be4"
   },
   "outputs": [
    {
     "data": {
      "text/html": [
       "\n",
       "  <div id=\"df-b3c9663d-6f4a-4dcc-9427-70cd164ca7f4\">\n",
       "    <div class=\"colab-df-container\">\n",
       "      <div>\n",
       "<style scoped>\n",
       "    .dataframe tbody tr th:only-of-type {\n",
       "        vertical-align: middle;\n",
       "    }\n",
       "\n",
       "    .dataframe tbody tr th {\n",
       "        vertical-align: top;\n",
       "    }\n",
       "\n",
       "    .dataframe thead th {\n",
       "        text-align: right;\n",
       "    }\n",
       "</style>\n",
       "<table border=\"1\" class=\"dataframe\">\n",
       "  <thead>\n",
       "    <tr style=\"text-align: right;\">\n",
       "      <th></th>\n",
       "      <th>Unnamed: 0</th>\n",
       "      <th>id</th>\n",
       "      <th>title</th>\n",
       "      <th>overview</th>\n",
       "      <th>genre_ids</th>\n",
       "      <th>original_language</th>\n",
       "      <th>release_date</th>\n",
       "      <th>vote_average</th>\n",
       "      <th>vote_count</th>\n",
       "    </tr>\n",
       "  </thead>\n",
       "  <tbody>\n",
       "    <tr>\n",
       "      <th>0</th>\n",
       "      <td>0</td>\n",
       "      <td>238</td>\n",
       "      <td>The Godfather</td>\n",
       "      <td>Spanning the years 1945 to 1955, a chronicle o...</td>\n",
       "      <td>[18, 80]</td>\n",
       "      <td>en</td>\n",
       "      <td>1972-03-14</td>\n",
       "      <td>8.7</td>\n",
       "      <td>17005</td>\n",
       "    </tr>\n",
       "    <tr>\n",
       "      <th>1</th>\n",
       "      <td>1</td>\n",
       "      <td>278</td>\n",
       "      <td>The Shawshank Redemption</td>\n",
       "      <td>Framed in the 1940s for the double murder of h...</td>\n",
       "      <td>[18, 80]</td>\n",
       "      <td>en</td>\n",
       "      <td>1994-09-23</td>\n",
       "      <td>8.7</td>\n",
       "      <td>22764</td>\n",
       "    </tr>\n",
       "    <tr>\n",
       "      <th>2</th>\n",
       "      <td>2</td>\n",
       "      <td>240</td>\n",
       "      <td>The Godfather Part II</td>\n",
       "      <td>In the continuing saga of the Corleone crime f...</td>\n",
       "      <td>[18, 80]</td>\n",
       "      <td>en</td>\n",
       "      <td>1974-12-20</td>\n",
       "      <td>8.6</td>\n",
       "      <td>10307</td>\n",
       "    </tr>\n",
       "    <tr>\n",
       "      <th>3</th>\n",
       "      <td>3</td>\n",
       "      <td>851644</td>\n",
       "      <td>20th Century Girl</td>\n",
       "      <td>Yeon-du asks her best friend Bora to collect a...</td>\n",
       "      <td>[10749, 18]</td>\n",
       "      <td>ko</td>\n",
       "      <td>2022-10-06</td>\n",
       "      <td>8.6</td>\n",
       "      <td>308</td>\n",
       "    </tr>\n",
       "    <tr>\n",
       "      <th>4</th>\n",
       "      <td>4</td>\n",
       "      <td>424</td>\n",
       "      <td>Schindler's List</td>\n",
       "      <td>The true story of how businessman Oskar Schind...</td>\n",
       "      <td>[18, 36, 10752]</td>\n",
       "      <td>en</td>\n",
       "      <td>1993-12-15</td>\n",
       "      <td>8.6</td>\n",
       "      <td>13504</td>\n",
       "    </tr>\n",
       "    <tr>\n",
       "      <th>...</th>\n",
       "      <td>...</td>\n",
       "      <td>...</td>\n",
       "      <td>...</td>\n",
       "      <td>...</td>\n",
       "      <td>...</td>\n",
       "      <td>...</td>\n",
       "      <td>...</td>\n",
       "      <td>...</td>\n",
       "      <td>...</td>\n",
       "    </tr>\n",
       "    <tr>\n",
       "      <th>9995</th>\n",
       "      <td>15</td>\n",
       "      <td>289153</td>\n",
       "      <td>Sex, Love &amp; Therapy</td>\n",
       "      <td>A romantic comedy about two Parisian therapist...</td>\n",
       "      <td>[35, 10749]</td>\n",
       "      <td>fr</td>\n",
       "      <td>2014-10-01</td>\n",
       "      <td>5.3</td>\n",
       "      <td>243</td>\n",
       "    </tr>\n",
       "    <tr>\n",
       "      <th>9996</th>\n",
       "      <td>16</td>\n",
       "      <td>109099</td>\n",
       "      <td>Passion</td>\n",
       "      <td>The rivalry between the manipulative boss of a...</td>\n",
       "      <td>[53, 18, 80, 9648]</td>\n",
       "      <td>en</td>\n",
       "      <td>2012-09-07</td>\n",
       "      <td>5.3</td>\n",
       "      <td>353</td>\n",
       "    </tr>\n",
       "    <tr>\n",
       "      <th>9997</th>\n",
       "      <td>17</td>\n",
       "      <td>71469</td>\n",
       "      <td>The Darkest Hour</td>\n",
       "      <td>In Moscow, five young people lead the charge a...</td>\n",
       "      <td>[27, 28, 53, 878]</td>\n",
       "      <td>en</td>\n",
       "      <td>2011-12-22</td>\n",
       "      <td>5.3</td>\n",
       "      <td>1241</td>\n",
       "    </tr>\n",
       "    <tr>\n",
       "      <th>9998</th>\n",
       "      <td>18</td>\n",
       "      <td>234212</td>\n",
       "      <td>Demonic</td>\n",
       "      <td>A police officer and a psychologist investigat...</td>\n",
       "      <td>[53, 27]</td>\n",
       "      <td>en</td>\n",
       "      <td>2015-02-12</td>\n",
       "      <td>5.3</td>\n",
       "      <td>424</td>\n",
       "    </tr>\n",
       "    <tr>\n",
       "      <th>9999</th>\n",
       "      <td>19</td>\n",
       "      <td>157544</td>\n",
       "      <td>The Vatican Tapes</td>\n",
       "      <td>In a highly secured vault deep within the wall...</td>\n",
       "      <td>[53, 27]</td>\n",
       "      <td>en</td>\n",
       "      <td>2015-07-24</td>\n",
       "      <td>5.3</td>\n",
       "      <td>653</td>\n",
       "    </tr>\n",
       "  </tbody>\n",
       "</table>\n",
       "<p>10000 rows × 9 columns</p>\n",
       "</div>\n",
       "      <button class=\"colab-df-convert\" onclick=\"convertToInteractive('df-b3c9663d-6f4a-4dcc-9427-70cd164ca7f4')\"\n",
       "              title=\"Convert this dataframe to an interactive table.\"\n",
       "              style=\"display:none;\">\n",
       "        \n",
       "  <svg xmlns=\"http://www.w3.org/2000/svg\" height=\"24px\"viewBox=\"0 0 24 24\"\n",
       "       width=\"24px\">\n",
       "    <path d=\"M0 0h24v24H0V0z\" fill=\"none\"/>\n",
       "    <path d=\"M18.56 5.44l.94 2.06.94-2.06 2.06-.94-2.06-.94-.94-2.06-.94 2.06-2.06.94zm-11 1L8.5 8.5l.94-2.06 2.06-.94-2.06-.94L8.5 2.5l-.94 2.06-2.06.94zm10 10l.94 2.06.94-2.06 2.06-.94-2.06-.94-.94-2.06-.94 2.06-2.06.94z\"/><path d=\"M17.41 7.96l-1.37-1.37c-.4-.4-.92-.59-1.43-.59-.52 0-1.04.2-1.43.59L10.3 9.45l-7.72 7.72c-.78.78-.78 2.05 0 2.83L4 21.41c.39.39.9.59 1.41.59.51 0 1.02-.2 1.41-.59l7.78-7.78 2.81-2.81c.8-.78.8-2.07 0-2.86zM5.41 20L4 18.59l7.72-7.72 1.47 1.35L5.41 20z\"/>\n",
       "  </svg>\n",
       "      </button>\n",
       "      \n",
       "  <style>\n",
       "    .colab-df-container {\n",
       "      display:flex;\n",
       "      flex-wrap:wrap;\n",
       "      gap: 12px;\n",
       "    }\n",
       "\n",
       "    .colab-df-convert {\n",
       "      background-color: #E8F0FE;\n",
       "      border: none;\n",
       "      border-radius: 50%;\n",
       "      cursor: pointer;\n",
       "      display: none;\n",
       "      fill: #1967D2;\n",
       "      height: 32px;\n",
       "      padding: 0 0 0 0;\n",
       "      width: 32px;\n",
       "    }\n",
       "\n",
       "    .colab-df-convert:hover {\n",
       "      background-color: #E2EBFA;\n",
       "      box-shadow: 0px 1px 2px rgba(60, 64, 67, 0.3), 0px 1px 3px 1px rgba(60, 64, 67, 0.15);\n",
       "      fill: #174EA6;\n",
       "    }\n",
       "\n",
       "    [theme=dark] .colab-df-convert {\n",
       "      background-color: #3B4455;\n",
       "      fill: #D2E3FC;\n",
       "    }\n",
       "\n",
       "    [theme=dark] .colab-df-convert:hover {\n",
       "      background-color: #434B5C;\n",
       "      box-shadow: 0px 1px 3px 1px rgba(0, 0, 0, 0.15);\n",
       "      filter: drop-shadow(0px 1px 2px rgba(0, 0, 0, 0.3));\n",
       "      fill: #FFFFFF;\n",
       "    }\n",
       "  </style>\n",
       "\n",
       "      <script>\n",
       "        const buttonEl =\n",
       "          document.querySelector('#df-b3c9663d-6f4a-4dcc-9427-70cd164ca7f4 button.colab-df-convert');\n",
       "        buttonEl.style.display =\n",
       "          google.colab.kernel.accessAllowed ? 'block' : 'none';\n",
       "\n",
       "        async function convertToInteractive(key) {\n",
       "          const element = document.querySelector('#df-b3c9663d-6f4a-4dcc-9427-70cd164ca7f4');\n",
       "          const dataTable =\n",
       "            await google.colab.kernel.invokeFunction('convertToInteractive',\n",
       "                                                     [key], {});\n",
       "          if (!dataTable) return;\n",
       "\n",
       "          const docLinkHtml = 'Like what you see? Visit the ' +\n",
       "            '<a target=\"_blank\" href=https://colab.research.google.com/notebooks/data_table.ipynb>data table notebook</a>'\n",
       "            + ' to learn more about interactive tables.';\n",
       "          element.innerHTML = '';\n",
       "          dataTable['output_type'] = 'display_data';\n",
       "          await google.colab.output.renderOutput(dataTable, element);\n",
       "          const docLink = document.createElement('div');\n",
       "          docLink.innerHTML = docLinkHtml;\n",
       "          element.appendChild(docLink);\n",
       "        }\n",
       "      </script>\n",
       "    </div>\n",
       "  </div>\n",
       "  "
      ],
      "text/plain": [
       "      Unnamed: 0      id                     title  \\\n",
       "0              0     238             The Godfather   \n",
       "1              1     278  The Shawshank Redemption   \n",
       "2              2     240     The Godfather Part II   \n",
       "3              3  851644         20th Century Girl   \n",
       "4              4     424          Schindler's List   \n",
       "...          ...     ...                       ...   \n",
       "9995          15  289153       Sex, Love & Therapy   \n",
       "9996          16  109099                   Passion   \n",
       "9997          17   71469          The Darkest Hour   \n",
       "9998          18  234212                   Demonic   \n",
       "9999          19  157544         The Vatican Tapes   \n",
       "\n",
       "                                               overview           genre_ids  \\\n",
       "0     Spanning the years 1945 to 1955, a chronicle o...            [18, 80]   \n",
       "1     Framed in the 1940s for the double murder of h...            [18, 80]   \n",
       "2     In the continuing saga of the Corleone crime f...            [18, 80]   \n",
       "3     Yeon-du asks her best friend Bora to collect a...         [10749, 18]   \n",
       "4     The true story of how businessman Oskar Schind...     [18, 36, 10752]   \n",
       "...                                                 ...                 ...   \n",
       "9995  A romantic comedy about two Parisian therapist...         [35, 10749]   \n",
       "9996  The rivalry between the manipulative boss of a...  [53, 18, 80, 9648]   \n",
       "9997  In Moscow, five young people lead the charge a...   [27, 28, 53, 878]   \n",
       "9998  A police officer and a psychologist investigat...            [53, 27]   \n",
       "9999  In a highly secured vault deep within the wall...            [53, 27]   \n",
       "\n",
       "     original_language release_date  vote_average  vote_count  \n",
       "0                   en   1972-03-14           8.7       17005  \n",
       "1                   en   1994-09-23           8.7       22764  \n",
       "2                   en   1974-12-20           8.6       10307  \n",
       "3                   ko   2022-10-06           8.6         308  \n",
       "4                   en   1993-12-15           8.6       13504  \n",
       "...                ...          ...           ...         ...  \n",
       "9995                fr   2014-10-01           5.3         243  \n",
       "9996                en   2012-09-07           5.3         353  \n",
       "9997                en   2011-12-22           5.3        1241  \n",
       "9998                en   2015-02-12           5.3         424  \n",
       "9999                en   2015-07-24           5.3         653  \n",
       "\n",
       "[10000 rows x 9 columns]"
      ]
     },
     "execution_count": 13,
     "metadata": {},
     "output_type": "execute_result"
    }
   ],
   "source": [
    "df"
   ]
  },
  {
   "cell_type": "markdown",
   "metadata": {
    "id": "tNkAckIZ8wUW"
   },
   "source": [
    "### Save data"
   ]
  },
  {
   "cell_type": "markdown",
   "metadata": {
    "id": "NW0tnABs_9zX"
   },
   "source": [
    "Now, we save the fetched data to an Excel file for future uses."
   ]
  },
  {
   "cell_type": "code",
   "execution_count": 11,
   "metadata": {
    "id": "GeXHgc157j3Q"
   },
   "outputs": [],
   "source": [
    "datatoexcel = pd.ExcelWriter('Movies_Data.xlsx')\n",
    "df.to_excel(datatoexcel)\n",
    "datatoexcel.save()"
   ]
  },
  {
   "cell_type": "markdown",
   "metadata": {
    "id": "9yfVrnB9_r7V"
   },
   "source": [
    "## Analysis movies data"
   ]
  },
  {
   "cell_type": "markdown",
   "metadata": {
    "id": "4UBk_hVp_7qz"
   },
   "source": []
  }
 ],
 "metadata": {
  "colab": {
   "provenance": [],
   "toc_visible": true
  },
  "kernelspec": {
   "display_name": "Python 3 (ipykernel)",
   "language": "python",
   "name": "python3"
  },
  "language_info": {
   "codemirror_mode": {
    "name": "ipython",
    "version": 3
   },
   "file_extension": ".py",
   "mimetype": "text/x-python",
   "name": "python",
   "nbconvert_exporter": "python",
   "pygments_lexer": "ipython3",
   "version": "3.8.8"
  }
 },
 "nbformat": 4,
 "nbformat_minor": 1
}
